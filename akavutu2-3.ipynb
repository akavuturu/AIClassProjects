{
 "cells": [
  {
   "cell_type": "markdown",
   "metadata": {},
   "source": [
    "# Module 3 - Programming Assignment\n",
    "\n",
    "## Directions\n",
    "\n",
    "1. Change the name of this file to be your JHED id as in `jsmith299.ipynb`. Because sure you use your JHED ID (it's made out of your name and not your student id which is just letters and numbers).\n",
    "2. Make sure the notebook you submit is cleanly and fully executed. I do not grade unexecuted notebooks.\n",
    "3. Submit your notebook back in Blackboard where you downloaded this file.\n",
    "\n",
    "*Provide the output **exactly** as requested*"
   ]
  },
  {
   "cell_type": "markdown",
   "metadata": {},
   "source": [
    "## k Nearest Neighbors and Model Evaluation\n",
    "\n",
    "In this programming assignment you will use k Nearest Neighbors (kNN) to build a \"model\" that will estimate the compressive strength of various types of concrete. This assignment has several objectives:\n",
    "\n",
    "1. Implement the kNN algorithm with k=9. Remember...the data + distance function is the model in kNN. In addition to asserts that unit test your code, you should \"test drive\" the model, showing output that a non-technical person could interpret.\n",
    "\n",
    "2. You are going to compare the kNN model above against the baseline model described in the course notes (the mean of the training set's target variable). You should use 10 fold cross validation and Mean Squared Error (MSE):\n",
    "\n",
    "$$MSE = \\frac{1}{n}\\sum^n_i (y_i - \\hat{y}_i)^2$$\n",
    "\n",
    "as the evaluation metric (\"error\"). Refer to the course notes for the format your output should take. Don't forget a discussion of the results.\n",
    "\n",
    "3. use validation curves to tune a *hyperparameter* of the model. \n",
    "In this case, the hyperparameter is *k*, the number of neighbors. Don't forget a discussion of the results.\n",
    "\n",
    "4. evaluate the *generalization error* of the new model.\n",
    "Because you may have just created a new, better model, you need a sense of its generalization error, calculate that. Again, what would you like to see as output here? Refer to the course notes. Don't forget a discussion of the results. Did the new model do better than either model in Q2?\n",
    "\n",
    "5. pick one of the \"Choose Your Own Adventure\" options.\n",
    "\n",
    "Refer to the \"course notes\" for this module for most of this assignment.\n",
    "Anytime you just need test/train split, use fold index 0 for the test set and the remainder as the training set.\n",
    "Discuss any results."
   ]
  },
  {
   "cell_type": "markdown",
   "metadata": {},
   "source": [
    "## Load the Data\n",
    "\n",
    "The function `parse_data` loads the data from the specified file and returns a List of Lists. The outer List is the data set and each element (List) is a specific observation. Each value of an observation is for a particular measurement. This is what we mean by \"tidy\" data.\n",
    "\n",
    "The function also returns the *shuffled* data because the data might have been collected in a particular order that *might* bias training."
   ]
  },
  {
   "cell_type": "code",
   "execution_count": 1,
   "metadata": {},
   "outputs": [],
   "source": [
    "import random\n",
    "from typing import List, Dict, Tuple, Callable"
   ]
  },
  {
   "cell_type": "code",
   "execution_count": 2,
   "metadata": {},
   "outputs": [],
   "source": [
    "def parse_data(file_name: str) -> List[List]:\n",
    "    data = []\n",
    "    file = open(file_name, \"r\")\n",
    "    for line in file:\n",
    "        datum = [float(value) for value in line.rstrip().split(\",\")]\n",
    "        data.append(datum)\n",
    "    random.shuffle(data)\n",
    "    return data"
   ]
  },
  {
   "cell_type": "code",
   "execution_count": 3,
   "metadata": {},
   "outputs": [],
   "source": [
    "data = parse_data(\"concrete_compressive_strength.csv\")"
   ]
  },
  {
   "cell_type": "code",
   "execution_count": 4,
   "metadata": {
    "tags": []
   },
   "outputs": [
    {
     "data": {
      "text/plain": [
       "[540.0, 0.0, 0.0, 162.0, 2.5, 1055.0, 676.0, 28.0, 61.89]"
      ]
     },
     "execution_count": 4,
     "metadata": {},
     "output_type": "execute_result"
    }
   ],
   "source": [
    "data[0]"
   ]
  },
  {
   "cell_type": "code",
   "execution_count": 5,
   "metadata": {},
   "outputs": [
    {
     "data": {
      "text/plain": [
       "1030"
      ]
     },
     "execution_count": 5,
     "metadata": {},
     "output_type": "execute_result"
    }
   ],
   "source": [
    "len(data)"
   ]
  },
  {
   "cell_type": "markdown",
   "metadata": {},
   "source": [
    "There are 1,030 observations and each observation has 8 measurements. The data dictionary for this data set tells us the definitions of the individual variables (columns/indices):\n",
    "\n",
    "| Index | Variable | Definition |\n",
    "|-------|----------|------------|\n",
    "| 0     | cement   | kg in a cubic meter mixture |\n",
    "| 1     | slag     | kg in a cubic meter mixture |\n",
    "| 2     | ash      | kg in a cubic meter mixture |\n",
    "| 3     | water    | kg in a cubic meter mixture |\n",
    "| 4     | superplasticizer | kg in a cubic meter mixture |\n",
    "| 5     | coarse aggregate | kg in a cubic meter mixture |\n",
    "| 6     | fine aggregate | kg in a cubic meter mixture |\n",
    "| 7     | age | days |\n",
    "| 8     | concrete compressive strength | MPa |\n",
    "\n",
    "The target (\"y\") variable is a Index 8, concrete compressive strength in (Mega?) [Pascals](https://en.wikipedia.org/wiki/Pascal_(unit))."
   ]
  },
  {
   "cell_type": "markdown",
   "metadata": {},
   "source": [
    "## Train/Test Splits - n folds\n",
    "\n",
    "With n fold cross validation, we divide our data set into n subgroups called \"folds\" and then use those folds for training and testing. You pick n based on the size of your data set. If you have a small data set--100 observations--and you used n=10, each fold would only have 10 observations. That's probably too small. You want at least 30. At the other extreme, we generally don't use n > 10.\n",
    "\n",
    "With 1,030 observations, n = 10 is fine so we will have 10 folds.\n",
    "`create_folds` will take a list (xs) and split it into `n` equal folds with each fold containing one-tenth of the observations."
   ]
  },
  {
   "cell_type": "code",
   "execution_count": 6,
   "metadata": {},
   "outputs": [],
   "source": [
    "def create_folds(xs: List, n: int) -> List[List[List]]:\n",
    "    k, m = divmod(len(xs), n)\n",
    "    # be careful of generators...\n",
    "    return list(xs[i * k + min(i, m):(i + 1) * k + min(i + 1, m)] for i in range(n))"
   ]
  },
  {
   "cell_type": "code",
   "execution_count": 7,
   "metadata": {},
   "outputs": [],
   "source": [
    "folds = create_folds(data, 10)"
   ]
  },
  {
   "cell_type": "code",
   "execution_count": 8,
   "metadata": {},
   "outputs": [
    {
     "data": {
      "text/plain": [
       "10"
      ]
     },
     "execution_count": 8,
     "metadata": {},
     "output_type": "execute_result"
    }
   ],
   "source": [
    "len(folds)"
   ]
  },
  {
   "cell_type": "markdown",
   "metadata": {},
   "source": [
    "We always use one of the n folds as a test set (and, sometimes, one of the folds as a *pruning* set but not for kNN), and the remaining folds as a training set.\n",
    "We need a function that'll take our n folds and return the train and test sets:"
   ]
  },
  {
   "cell_type": "code",
   "execution_count": 9,
   "metadata": {},
   "outputs": [],
   "source": [
    "def create_train_test(folds: List[List[List]], index: int) -> Tuple[List[List], List[List]]:\n",
    "    training = []\n",
    "    test = []\n",
    "    for i, fold in enumerate(folds):\n",
    "        if i == index:\n",
    "            test = fold\n",
    "        else:\n",
    "            training = training + fold\n",
    "    return training, test"
   ]
  },
  {
   "cell_type": "markdown",
   "metadata": {},
   "source": [
    "We can test the function to give us a train and test datasets where the test set is the fold at index 0:"
   ]
  },
  {
   "cell_type": "code",
   "execution_count": 10,
   "metadata": {},
   "outputs": [],
   "source": [
    "train, test = create_train_test(folds, 0)"
   ]
  },
  {
   "cell_type": "code",
   "execution_count": 11,
   "metadata": {},
   "outputs": [
    {
     "data": {
      "text/plain": [
       "927"
      ]
     },
     "execution_count": 11,
     "metadata": {},
     "output_type": "execute_result"
    }
   ],
   "source": [
    "len(train)"
   ]
  },
  {
   "cell_type": "code",
   "execution_count": 12,
   "metadata": {},
   "outputs": [
    {
     "data": {
      "text/plain": [
       "103"
      ]
     },
     "execution_count": 12,
     "metadata": {},
     "output_type": "execute_result"
    }
   ],
   "source": [
    "len(test)"
   ]
  },
  {
   "cell_type": "markdown",
   "metadata": {},
   "source": [
    "## Answers\n",
    "\n",
    "Answer the questions above in the space provided below, adding cells as you need to.\n",
    "Put everything in the helper functions and document them.\n",
    "Document everything (what you're doing and why).\n",
    "If you're not sure what format the output should take, refer to the course notes and what they do for that particular topic/algorithm."
   ]
  },
  {
   "cell_type": "markdown",
   "metadata": {},
   "source": [
    "## Problem 1: kNN\n",
    "\n",
    "Implement k Nearest Neighbors with k = 9."
   ]
  },
  {
   "cell_type": "code",
   "execution_count": 13,
   "metadata": {},
   "outputs": [],
   "source": [
    "from typing import List, Dict, Tuple\n",
    "from math import sqrt\n",
    "import matplotlib.pyplot as plt\n",
    "from statistics import stdev"
   ]
  },
  {
   "cell_type": "markdown",
   "metadata": {},
   "source": [
    "<a id=\"distance\"></a>\n",
    "### distance\n",
    "\n",
    "`distance` calculates the Euclidian distance between `example` and `query` for every dimension. The formula for the Euclidian distance is: $$ d(a, b) = \\sqrt{\\sum_i ^n (a_i - b_i)^2}$$\n",
    "for every dimension $i$ in the `example` and `query`. The distance is used as a measure of \"nearness\" for use in the `kNN` algorithm below. **Used by**: [kNN](#kNN)\n",
    "\n",
    "* **example**: a list of features used as the reference point\n",
    "* **query**: a list of features used as the query point\n",
    "\n",
    "**returns** float: the Euclidian distance between `example` and `query`"
   ]
  },
  {
   "cell_type": "code",
   "execution_count": 14,
   "metadata": {},
   "outputs": [],
   "source": [
    "def distance(example: List[float], query: List[float]) -> float:\n",
    "    dist = 0\n",
    "    for example_val, query_val in zip(example, query):\n",
    "        dist += (example_val - query_val) ** 2\n",
    "    return sqrt(dist)"
   ]
  },
  {
   "cell_type": "code",
   "execution_count": 15,
   "metadata": {},
   "outputs": [],
   "source": [
    "# assertions/unit tests\n",
    "x = [1, 1]\n",
    "y = [2, 2]\n",
    "actual_dist = distance(x, y)\n",
    "assert actual_dist == sqrt(2)\n",
    "\n",
    "x = [1, 2, 3, 4, 5]\n",
    "y = [5, 4, 3, 2, 1]\n",
    "actual_dist = distance(x, y)\n",
    "assert actual_dist == sqrt(40)\n",
    "\n",
    "x, y = [], []\n",
    "actual_dist = distance(x, y)\n",
    "assert actual_dist == 0"
   ]
  },
  {
   "cell_type": "markdown",
   "metadata": {},
   "source": [
    "<a id=\"processing\"></a>\n",
    "### processing\n",
    "\n",
    "`processing` takes a list of the nearest neighbors to a query point (`nearest`) and a number of features in each example, and computes the mean of the target values for each example in `nearest`. This function is one example of how a list of nearest-neighbors can be processed - for use in a regression problem, this `processing` function works well. However, for use in a classification problem, the function must be adapted to return the majority class label, or some other metric of the `target` for the closest `k` neighbors. **Used by**: [kNN](#kNN)\n",
    "\n",
    "* **nearest**: a list of the k-nearest neighbors to process\n",
    "* **num_features**: the number of features in each example\n",
    "\n",
    "**returns** float: the mean value of the `target` variable from `nearest`."
   ]
  },
  {
   "cell_type": "code",
   "execution_count": 16,
   "metadata": {},
   "outputs": [],
   "source": [
    "def processing(nearest: List[Tuple[float, List[float]]], num_features: int) -> float:\n",
    "    if nearest:\n",
    "        yvals = [examples[1][num_features] for examples in nearest]\n",
    "        return sum(yvals) / len(yvals)\n",
    "    else: return 0"
   ]
  },
  {
   "cell_type": "code",
   "execution_count": 17,
   "metadata": {},
   "outputs": [],
   "source": [
    "# assertions/unit tests\n",
    "nearest = [(1, [1, 1, 1]), (2, [2, 2, 2]), (3, [3, 3, 3])]\n",
    "actual_mean = processing(nearest, 2)\n",
    "assert actual_mean == 2\n",
    "\n",
    "assert processing([], 2) == 0\n",
    "\n",
    "nearest = [(1, [1, 1, 1, 5]), (2, [2, 2, 2, 13]), (3, [3, 3, 3, 21])]\n",
    "actual_mean = processing(nearest, 3)\n",
    "assert actual_mean == 13"
   ]
  },
  {
   "cell_type": "markdown",
   "metadata": {},
   "source": [
    "<a id=\"knn\"></a>\n",
    "### knn\n",
    "\n",
    "`knn` is the k-Nearest-Neighbors algorithm, which takes a `dataset`, a `query` point, and a `k` value and finds the `k` nearest points to `query` in `dataset`. The algorithm then returns the mean value of the `y` measurement from those neighbors as a guess for what the `query` point's `y` value will be. This implementation is used to solve a regression problem; as mentioned above, the `processing` and `distance` functions can be changed to allow for this function to solve a classification problem, as well. \n",
    "\n",
    "`kNN` is a classic example of a lazy machine learning algorithm - this algorithm takes a training set of data and uses it as the model to predict the test data. In eager algorithms, the algorithm might take training data and augment the model/\"learn\" from the training data, before being applied to the test data. **Uses**: [distance](#distance), [processing](#processing).\n",
    "\n",
    "* **dataset**: the set of examples over which to find the nearest neighbors to `query`\n",
    "* **query**: the point to which the k-nearest neighbors are found\n",
    "* **k**: the number of nearest-neighbors to process\n",
    "* **num_features**: the number of features in each example of `dataset`\n",
    "\n",
    "**returns** float: the mean value of the `target` variable in the k-nearest neighbors to `query`"
   ]
  },
  {
   "cell_type": "code",
   "execution_count": 18,
   "metadata": {},
   "outputs": [],
   "source": [
    "def knn(dataset: List[List], query: List, k: int, num_features: int) -> float:\n",
    "    distances = []\n",
    "    for example in dataset:\n",
    "        curr_distance = distance(example[:num_features], query[:num_features])\n",
    "        distances.append((curr_distance, example))\n",
    "    distances = sorted(distances)\n",
    "    nearest = distances[:k]\n",
    "    return processing(nearest, num_features)"
   ]
  },
  {
   "cell_type": "code",
   "execution_count": 19,
   "metadata": {},
   "outputs": [],
   "source": [
    "# assertions/unit tests\n",
    "dataset = [[0.23, 0.81, 0.18], [0.42, 0.78, 0.33], [0.64, 0.23, 0.14], [0.87, 0.19, 0.17], [0.76, 0.43, 0.32]]\n",
    "query = [0.39, 0.63, 0]\n",
    "estimate = knn(dataset, query, 3, 2)\n",
    "assert abs(estimate - 0.276) < 0.01\n",
    "\n",
    "query = [0.39, 0.63, 0] \n",
    "estimate = knn(dataset, query, 8, 2)\n",
    "assert abs(estimate - 0.228) < 0.01\n",
    "\n",
    "query = [0.23, 0.81, 0]\n",
    "estimate = knn(dataset, query, 1, 2)\n",
    "assert estimate == 0.18"
   ]
  },
  {
   "cell_type": "markdown",
   "metadata": {},
   "source": [
    "### Examples\n",
    "\n",
    "These are 10 example runs using `kNN` to find the nearest neighbors to query points. These query points were chosen from the provided dataset. The features of each query, as well as the actual target value and expected target value, are printed in each line. As we can see, there is a strong correlation between the expected and actual values - most values are within 5-10 of the actual target value, and only a few are further than that."
   ]
  },
  {
   "cell_type": "code",
   "execution_count": 20,
   "metadata": {},
   "outputs": [
    {
     "name": "stdout",
     "output_type": "stream",
     "text": [
      "Features: [190, 190, 0, 228, 0, 932, 670, 90] Actual y: 42.33 Estimated y: 40.565555555555555\n",
      "Features: [304, 76, 0, 228, 0, 932, 670, 28] Actual y: 47.81 Estimated y: 45.781111111111116\n",
      "Features: [380, 0, 0, 228, 0, 932, 670, 90] Actual y: 52.91 Estimated y: 49.112222222222215\n",
      "Features: [139.6, 209.4, 0, 192, 0, 1047, 806.9, 90] Actual y: 39.36 Estimated y: 26.584444444444443\n",
      "Features: [342, 38, 0, 228, 0, 932, 670, 365] Actual y: 56.14 Estimated y: 51.885555555555555\n",
      "Features: [380, 95, 0, 228, 0, 932, 594, 90] Actual y: 40.56 Estimated y: 38.97333333333333\n",
      "Features: [475, 0, 0, 228, 0, 932, 594, 180] Actual y: 42.62 Estimated y: 44.46\n",
      "Features: [427.5, 47.5, 0, 228, 0, 932, 594, 180] Actual y: 41.84 Estimated y: 42.97888888888889\n",
      "Features: [139.6, 209.4, 0, 192, 0, 1047, 806.9, 28] Actual y: 28.24 Estimated y: 22.506666666666668\n",
      "Features: [139.6, 209.4, 0, 192, 0, 1047, 806.9, 3] Actual y: 8.06 Estimated y: 21.774444444444445\n"
     ]
    }
   ],
   "source": [
    "# print features / actual y / estimate y\n",
    "test_data = parse_data(\"concrete_compressive_strength.csv\")\n",
    "queries = [[190, 190, 0, 228, 0, 932, 670, 90, 42.33],\n",
    "          [304, 76, 0, 228, 0, 932, 670, 28, 47.81],\n",
    "          [380, 0, 0, 228, 0, 932, 670, 90, 52.91],\n",
    "          [139.6, 209.4, 0, 192, 0, 1047, 806.9, 90, 39.36],\n",
    "          [342, 38, 0, 228, 0, 932, 670, 365, 56.14],\n",
    "          [380, 95, 0, 228, 0, 932, 594, 90, 40.56],\n",
    "          [475, 0, 0, 228, 0, 932, 594, 180, 42.62],\n",
    "          [427.5, 47.5, 0, 228, 0, 932, 594, 180, 41.84],\n",
    "          [139.6, 209.4, 0, 192, 0, 1047, 806.9, 28, 28.24],\n",
    "          [139.6, 209.4, 0, 192, 0, 1047, 806.9, 3, 8.06]]\n",
    "\n",
    "for query in queries:\n",
    "    estimate = knn(test_data, query, 9, 8)\n",
    "    print(\"Features:\", query[:8], \"Actual y:\", query[8], \"Estimated y:\", estimate)"
   ]
  },
  {
   "cell_type": "markdown",
   "metadata": {},
   "source": [
    "## Problem 2: Evaluation vs. The Mean\n",
    "\n",
    "Using Mean Squared Error (MSE) as your evaluation metric, evaluate your implement above and the Null model, the mean."
   ]
  },
  {
   "cell_type": "markdown",
   "metadata": {},
   "source": [
    "<a id=\"mse\"></a>\n",
    "### mse\n",
    "\n",
    "`mse` takes in a list of `actuals` values and a list of `estimates` and computes the mean squared error from the two. The formula for mean squared error is: $$MSE = \\frac1n \\sum_i^n (y_i - \\hat{y}_i)^2 $$\n",
    "The $y_i$ represents the estimate value for the target variable, and $\\hat{y}_i$ represents the actual target value. Mean squared error is a suitable evaluation metric for a regression model, and is therefore useful in determining whether our `kNN` model is performing well. \n",
    "\n",
    "* **actuals**: the list of actual target values\n",
    "* **estimates**: the list of estimate target values (`kNN` or `Null` model)\n",
    "\n",
    "**returns** float: the mean squared error"
   ]
  },
  {
   "cell_type": "code",
   "execution_count": 21,
   "metadata": {},
   "outputs": [],
   "source": [
    "def mse(actuals: List[float], estimates: List[float]) -> float:\n",
    "    mse = 0\n",
    "    for yval, y_hat in zip(actuals, estimates):\n",
    "        mse += ((yval - y_hat) ** 2)\n",
    "    return mse / len(actuals) if actuals else 0"
   ]
  },
  {
   "cell_type": "code",
   "execution_count": 22,
   "metadata": {},
   "outputs": [],
   "source": [
    "# assertions/unit tests\n",
    "actuals = [1, 2, 3, 4, 5]\n",
    "estimates = [2, 3, 4, 5, 6]\n",
    "actual_mse = mse(actuals, estimates)\n",
    "assert actual_mse == 1\n",
    "\n",
    "actuals, estimates = [], []\n",
    "actual_mse = mse(actuals, estimates)\n",
    "assert actual_mse == 0\n",
    "\n",
    "actuals, estimates = [1, 3, 5, 7], [0, 0, 0, 0]\n",
    "actual_mse = mse(actuals, estimates)\n",
    "assert actual_mse == (1 + 9 + 25 + 49) / 4"
   ]
  },
  {
   "cell_type": "markdown",
   "metadata": {},
   "source": [
    "### MSE for Null and kNN\n",
    "\n",
    "Below, we use 10-fold cross validation to compare the mean squared error for the Null model and the `kNN` model. By comparing the MSE values for `kNN` model to the `Null` model, which simply takes the average `target` value from the `train` set as the estimate for each `test` query, we can determine the strength of the `kNN` model. \n",
    "\n",
    "In 10-fold cross validation, we split our dataset into folds of equal size, and iteratively choose each fold to be the test set, with the remaining folds as the training set. For example, the first iteration for 10-fold cross validation chooses Fold 0 as the test set, with Folds 1-9 as the training set. The second iteration chooses Fold 1 as the test set, with Fold 0 and Folds 2-9 as the training set, and so on. By using this method, we can simulate a larger data set and avoid issues with not being able to test often with the test set. Additionally, this method will minimize the bias of the model towards the training set, as the training set changes in each iteration."
   ]
  },
  {
   "cell_type": "code",
   "execution_count": 23,
   "metadata": {},
   "outputs": [
    {
     "name": "stdout",
     "output_type": "stream",
     "text": [
      "Fold 0 mean squared error: 294.65980034608407\n",
      "Fold 1 mean squared error: 299.9913112267828\n",
      "Fold 2 mean squared error: 234.54835035638263\n",
      "Fold 3 mean squared error: 334.6203727873724\n",
      "Fold 4 mean squared error: 276.1753498438898\n",
      "Fold 5 mean squared error: 288.4063566222018\n",
      "Fold 6 mean squared error: 353.2738528649678\n",
      "Fold 7 mean squared error: 264.3624029031954\n",
      "Fold 8 mean squared error: 245.91779372207847\n",
      "Fold 9 mean squared error: 202.90563530964272\n",
      "Mean: 279.4861225982598\n"
     ]
    }
   ],
   "source": [
    "avg_mse = 0\n",
    "num_features = 8\n",
    "folds = create_folds(data, 10)\n",
    "for i in range(10):\n",
    "    train, test = create_train_test(folds, i)\n",
    "    yvals_train = [row[num_features] for row in train]\n",
    "    yvals_test = [row[num_features] for row in test]\n",
    "    \n",
    "    null_estimate = sum(yvals_train) / len(yvals_train)\n",
    "    null_model = [null_estimate for i in range(len(yvals_test))]\n",
    "    null_mse_test = mse(yvals_test, null_model)\n",
    "    print(\"Fold\", i, \"mean squared error:\", null_mse_test)\n",
    "    avg_mse += null_mse_test\n",
    "avg_mse = avg_mse / 10\n",
    "print(\"Mean:\", avg_mse)"
   ]
  },
  {
   "cell_type": "code",
   "execution_count": 24,
   "metadata": {},
   "outputs": [
    {
     "name": "stdout",
     "output_type": "stream",
     "text": [
      "Fold 0 mean squared error: 97.64360571736785\n",
      "Fold 1 mean squared error: 100.95857020256497\n",
      "Fold 2 mean squared error: 76.467262843102\n",
      "Fold 3 mean squared error: 123.7262231331656\n",
      "Fold 4 mean squared error: 62.8892702744816\n",
      "Fold 5 mean squared error: 71.29839507371453\n",
      "Fold 6 mean squared error: 105.85194104039313\n",
      "Fold 7 mean squared error: 116.19289779455829\n",
      "Fold 8 mean squared error: 74.29949131008031\n",
      "Fold 9 mean squared error: 68.54594201126696\n",
      "Mean: 89.78735994006952\n"
     ]
    }
   ],
   "source": [
    "avg_mse = 0\n",
    "num_features, k = 8, 9\n",
    "folds = create_folds(data, 10)\n",
    "for i in range(10):\n",
    "    train, test = create_train_test(folds, i)\n",
    "    yvals_train = [row[num_features] for row in train]\n",
    "    yvals_test = [row[num_features] for row in test]\n",
    "    \n",
    "    knn_estimates = [knn(train, query, k, num_features) for query in test]\n",
    "    knn_mse_test = mse(yvals_test, knn_estimates)\n",
    "    print(\"Fold\", i, \"mean squared error:\", knn_mse_test)\n",
    "    avg_mse += knn_mse_test\n",
    "avg_mse = avg_mse / 10\n",
    "print(\"Mean:\", avg_mse)"
   ]
  },
  {
   "cell_type": "markdown",
   "metadata": {},
   "source": [
    "### Results of Evaluation\n",
    "\n",
    "As we can see, the Null model has a very high mean squared error, with an average MSE of ~279, whereas the `kNN` model has an average MSE of ~90. These measurements verify that our `kNN` model is a strong improvement over the Null model."
   ]
  },
  {
   "cell_type": "markdown",
   "metadata": {},
   "source": [
    "## Problem 3: Hyperparameter Tuning\n",
    "\n",
    "Tune the value of k."
   ]
  },
  {
   "cell_type": "code",
   "execution_count": 25,
   "metadata": {},
   "outputs": [],
   "source": [
    "num_features = 8\n",
    "folds = create_folds(data, 10)\n",
    "train, test = create_train_test(folds, 0)\n",
    "yvals_test = [row[num_features] for row in test]\n",
    "mean_mse_train = []\n",
    "mean_mse_test = []\n",
    "for k in range(1, 21):\n",
    "    train_estimates = [knn(train, query, k, num_features) for query in test]\n",
    "    mean_mse_train.append(mse(yvals_test, train_estimates))\n",
    "    test_estimates = [knn(test, query, k, num_features) for query in test]\n",
    "    mean_mse_test.append(mse(yvals_test, test_estimates))"
   ]
  },
  {
   "cell_type": "code",
   "execution_count": 26,
   "metadata": {},
   "outputs": [
    {
     "data": {
      "image/png": "[encoded data removed]",
      "text/plain": [
       "<Figure size 640x480 with 1 Axes>"
      ]
     },
     "metadata": {},
     "output_type": "display_data"
    }
   ],
   "source": [
    "# Plotting\n",
    "xvals = [i for i in range(1, 21)]\n",
    "plt.plot(xvals, mean_mse_train, label=\"train\")\n",
    "plt.plot(xvals, mean_mse_test, label=\"test\")\n",
    "plt.legend()\n",
    "plt.title(\"Validation Curves\")\n",
    "plt.gca().invert_xaxis()\n",
    "plt.xlabel(\"k\")\n",
    "plt.ylabel(\"Mean Squared Error\")\n",
    "plt.show()"
   ]
  },
  {
   "cell_type": "markdown",
   "metadata": {},
   "source": [
    "### Results of Validation Curves\n",
    "\n",
    "From the validation curves, we can see that there is a slight inflection in the training set graph at around $k=3$. After this point, around $k = 8$ and above, the test set error is much higher than the training set error, which indicates overfitting. At the lower end, we have a different situation - both the test and training set errors are similar, and somewhat low (for $2 < k < 6$). This is the ideal zone for our hyperparameter, so we will choose the lowest error in this area, which is around $k = 3$."
   ]
  },
  {
   "cell_type": "markdown",
   "metadata": {},
   "source": [
    "## Problem 4: Generalization Error\n",
    "\n",
    "Analyze and discuss the generalization error of your model with the value of k from Problem 3."
   ]
  },
  {
   "cell_type": "code",
   "execution_count": 27,
   "metadata": {},
   "outputs": [
    {
     "name": "stdout",
     "output_type": "stream",
     "text": [
      "Fold 0 mean squared error: 69.05400442286945\n",
      "Fold 1 mean squared error: 112.29218112189857\n",
      "Fold 2 mean squared error: 65.12020064724922\n",
      "Fold 3 mean squared error: 101.02163969795046\n",
      "Fold 4 mean squared error: 51.947670981661275\n",
      "Fold 5 mean squared error: 68.1319439050701\n",
      "Fold 6 mean squared error: 70.55255749730313\n",
      "Fold 7 mean squared error: 92.10108608414238\n",
      "Fold 8 mean squared error: 65.18143128371091\n",
      "Fold 9 mean squared error: 70.19067055016178\n",
      "Mean: 76.55933861920174\n"
     ]
    }
   ],
   "source": [
    "k, avg_mse = 3, 0\n",
    "num_features = 8\n",
    "folds = create_folds(data, 10)\n",
    "for i in range(10):\n",
    "    train, test = create_train_test(folds, i)\n",
    "    yvals_train = [row[num_features] for row in train]\n",
    "    yvals_test = [row[num_features] for row in test]\n",
    "    \n",
    "    knn_estimates = [knn(train, query, k, num_features) for query in test]\n",
    "    knn_mse_test = mse(yvals_test, knn_estimates)\n",
    "    print(\"Fold\", i, \"mean squared error:\", knn_mse_test)\n",
    "    avg_mse += knn_mse_test\n",
    "avg_mse = avg_mse / 10\n",
    "print(\"Mean:\", avg_mse)"
   ]
  },
  {
   "cell_type": "markdown",
   "metadata": {},
   "source": [
    "### Results of Generalization\n",
    "\n",
    "After tuning our hyperparameter to $k = 3$, we see that our generalization error drops by about 10 to a value of 77. This marked improvement further validates that our hyperparameter tuning was a success and improved our model. Going forward, we will use a value of $k = 3$."
   ]
  },
  {
   "cell_type": "markdown",
   "metadata": {},
   "source": [
    "## Q5: Choose your own adventure\n",
    "\n",
    "You have three options for the next part:\n",
    "\n",
    "1. You can implement mean normalization (also called \"z-score standardization\") of the *features*; do not normalize the target, y. See if this improves the generalization error of your model (middle).\n",
    "\n",
    "2. You can implement *learning curves* to see if more data would likely improve your model (easiest).\n",
    "\n",
    "3. You can implement *weighted* kNN and use the real valued GA to choose the weights. weighted kNN assigns a weight to each item in the Euclidean distance calculation. For two points, j and k:\n",
    "$$\\sqrt{\\sum w_i (x^k_i - x^j_i)^2}$$\n",
    "\n",
    "You can think of normal Euclidean distance as the case where $w_i = 1$ for all features  (ambitious, but fun...you need to start EARLY because it takes a really long time to run).\n",
    "\n",
    "The easier the adventure the more correct it must be..."
   ]
  },
  {
   "cell_type": "markdown",
   "metadata": {},
   "source": [
    "<a id=\"feature_scale\"></a>\n",
    "### feature_scale\n",
    "\n",
    "`feature_scale` takes a set of data and a number of features and scales each feature by the below formula for Z-Score Standardization: $$x' = \\frac{x - \\bar{X}}{stdev(X)}$$\n",
    "\n",
    "We take each value $x$ in the feature and we subtract the mean and divide by the standard deviation of the feature. The function then returns a new scaled data set. The `unscaled_data` comes in with rows as examples, so the data is transposed before applying mean normalization (so each row is a feature), and then transposed again at the end.\n",
    "\n",
    "Feature scaling comes in many forms, and mean normalization is one of these forms. Alternatives include mean normalization, which divides by the range rather than the standard deviation, and unit-length scaling, which scales each feature by the length of the feature vector. All feature scaling methods seek to improve model performance by limiting the effect of large variability in any one feature on the final distance calculation. By scaling each feature by its relative spread, we ensure that the values of `x'` are much less variable than the originals, and therefore all features have equal weight on the final distance metric.\n",
    "\n",
    "* **unscaled_data**: the set of data to be scaled, with each row as one feature\n",
    "* **num_features**: the number of features to be scaled in `unscaled_data`\n",
    "\n",
    "**returns** `List[List]`: the data set scaled with mean normalization, with rows as examples"
   ]
  },
  {
   "cell_type": "code",
   "execution_count": 28,
   "metadata": {},
   "outputs": [],
   "source": [
    "def feature_scale(unscaled_data: List[List], num_features: int) -> List[List]:\n",
    "    scaled_data = []\n",
    "    new_data = list(map(list, zip(*unscaled_data)))\n",
    "    for row in new_data[:num_features]:\n",
    "        min_x, max_x = min(row), max(row)\n",
    "        std_dev = stdev(row) if stdev(row) > 0 else 1\n",
    "        mean_x = sum(row) / len(row)\n",
    "        new_row = [(x - mean_x) / std_dev for x in row]\n",
    "        scaled_data.append(new_row)\n",
    "    if new_data: scaled_data.append(new_data[num_features])\n",
    "    scaled_data = map(list, zip(*scaled_data))\n",
    "    return list(scaled_data)"
   ]
  },
  {
   "cell_type": "code",
   "execution_count": 29,
   "metadata": {},
   "outputs": [],
   "source": [
    "# assertions/unit tests\n",
    "test_data = [[1, 2, 3], [4, 5, 6], [7, 8, 9], [10, 11, 12]]\n",
    "actual_scaled = feature_scale(test_data, 2)\n",
    "assert actual_scaled[0][2] == 3\n",
    "\n",
    "test_data = []\n",
    "actual_scaled = feature_scale(test_data, 2)\n",
    "assert actual_scaled == []\n",
    "\n",
    "test_data = [[5, 4, 3], [5, 4, 3], [5, 4, 3], [5, 4, 3]]\n",
    "actual_scaled = feature_scale(test_data, 2)\n",
    "assert actual_scaled == [[0.0, 0.0, 3] for i in range(4)]"
   ]
  },
  {
   "cell_type": "markdown",
   "metadata": {},
   "source": [
    "### Z-Score Standardization\n",
    "\n",
    "To further improve our model, we can normalize the data using Z-Score Standardization. For each feature of the data, we can perform the transformation detailed above.\n",
    "By normalizing values, we ensure that if there is a wide range of values for any one feature, that feature does not dominate the overall final distance calculation, which should increase the overall performance of our model."
   ]
  },
  {
   "cell_type": "code",
   "execution_count": 30,
   "metadata": {},
   "outputs": [
    {
     "name": "stdout",
     "output_type": "stream",
     "text": [
      "Fold 0 mean squared error: 67.63188683926644\n",
      "Fold 1 mean squared error: 119.81918306364615\n",
      "Fold 2 mean squared error: 67.71787508090614\n",
      "Fold 3 mean squared error: 103.75879838187706\n",
      "Fold 4 mean squared error: 51.81019126213591\n",
      "Fold 5 mean squared error: 77.55894250269688\n",
      "Fold 6 mean squared error: 60.08533969795036\n",
      "Fold 7 mean squared error: 69.55175134843581\n",
      "Fold 8 mean squared error: 64.97058770226538\n",
      "Fold 9 mean squared error: 69.57776483279396\n",
      "Mean: 75.2482320711974\n"
     ]
    }
   ],
   "source": [
    "# supporting code and discussion\n",
    "avg_mse = 0\n",
    "num_features = 8\n",
    "k = 3\n",
    "folds = create_folds(data, 10)\n",
    "for i in range(10):\n",
    "    train, test = create_train_test(folds, i)\n",
    "    yvals_train = [row[num_features] for row in train]\n",
    "    yvals_test = [row[num_features] for row in test]\n",
    "    \n",
    "    train = feature_scale(train, num_features)\n",
    "    test = feature_scale(test, num_features)\n",
    "    \n",
    "    knn_estimates = [knn(train, query, k, num_features) for query in test]\n",
    "    knn_mse_test = mse(yvals_test, knn_estimates)\n",
    "    print(\"Fold\", i, \"mean squared error:\", knn_mse_test)\n",
    "    avg_mse += knn_mse_test\n",
    "avg_mse = avg_mse / 10\n",
    "print(\"Mean:\", avg_mse)"
   ]
  },
  {
   "cell_type": "markdown",
   "metadata": {},
   "source": [
    "### Results of Z-Score Standardization\n",
    "\n",
    "Although the impact of feature scaling is not large, there is still a slight decrease from the non-normalized model. The reason for a less noticeable impact might be that the data is largely clumped around the mean, meaning that the normalization does not change the values greatly. However, in other problems where the values of each feature might be more varied, mean normalization would have a larger impact on the overall performance of the model."
   ]
  },
  {
   "cell_type": "markdown",
   "metadata": {},
   "source": [
    "## Before You Submit...\n",
    "\n",
    "1. Did you provide output exactly as requested?\n",
    "2. Did you re-execute the entire notebook? (\"Restart Kernel and Rull All Cells...\")\n",
    "3. If you did not complete the assignment or had difficulty please explain what gave you the most difficulty in the Markdown cell below.\n",
    "4. Did you change the name of the file to `jhed_id.ipynb`?\n",
    "\n",
    "Do not submit any other files."
   ]
  }
 ],
 "metadata": {
  "kernelspec": {
   "display_name": "Python (en605645)",
   "language": "python",
   "name": "en605645"
  },
  "language_info": {
   "codemirror_mode": {
    "name": "ipython",
    "version": 3
   },
   "file_extension": ".py",
   "mimetype": "text/x-python",
   "name": "python",
   "nbconvert_exporter": "python",
   "pygments_lexer": "ipython3",
   "version": "3.11.7"
  },
  "toc": {
   "colors": {
    "hover_highlight": "#DAA520",
    "navigate_num": "#000000",
    "navigate_text": "#333333",
    "running_highlight": "#FF0000",
    "selected_highlight": "#FFD700",
    "sidebar_border": "#EEEEEE",
    "wrapper_background": "#FFFFFF"
   },
   "moveMenuLeft": true,
   "nav_menu": {
    "height": "117px",
    "width": "252px"
   },
   "navigate_menu": true,
   "number_sections": true,
   "sideBar": true,
   "threshold": 4,
   "toc_cell": false,
   "toc_section_display": "block",
   "toc_window_display": false,
   "widenNotebook": false
  }
 },
 "nbformat": 4,
 "nbformat_minor": 4
}
