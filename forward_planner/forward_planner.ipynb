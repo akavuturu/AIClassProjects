{
 "cells": [
  {
   "cell_type": "markdown",
   "metadata": {},
   "source": [
    "# Module 10 - Programming Assignment\n",
    "\n",
    "## Directions\n",
    "\n",
    "1. Change the name of this file to be your JHED id as in `jsmith299.ipynb`. Because sure you use your JHED ID (it's made out of your name and not your student id which is just letters and numbers).\n",
    "2. Make sure the notebook you submit is cleanly and fully executed. I do not grade unexecuted notebooks.\n",
    "3. Submit your notebook back in Blackboard where you downloaded this file.\n",
    "\n",
    "*Provide the output **exactly** as requested*"
   ]
  },
  {
   "cell_type": "markdown",
   "metadata": {},
   "source": [
    "# Forward Planner\n",
    "\n",
    "## Unify\n",
    "\n",
    "Use the accompanying `unification.py` file for unification. For this assignment, you're almost certainly going to want to be able to:\n",
    "\n",
    "1. specify the problem in terms of S-expressions.\n",
    "2. parse them.\n",
    "3. work with the parsed versions.\n",
    "\n",
    "`parse` and `unification` work exactly like the programming assignment for last time."
   ]
  },
  {
   "cell_type": "code",
   "execution_count": 1,
   "metadata": {},
   "outputs": [],
   "source": [
    "from unification import parse, unification, unify\n",
    "from copy import deepcopy"
   ]
  },
  {
   "cell_type": "markdown",
   "metadata": {},
   "source": [
    "## Forward Planner\n",
    "\n",
    "In this assigment, you're going to implement a Forward Planner. What does that mean? If you look in your book, you will not find pseudocode for a forward planner. It just says \"use state space search\" but this is less than helpful and it's a bit more complicated than that. **(but please please do not try to implement STRIPS or GraphPlan...that is wrong).**\n",
    "\n",
    "At a high level, a forward planner takes the current state of the world $S_0$ and attempts to derive a plan, basically by Depth First Search. We have all the ingredients we said we would need in Module 1: states, actions, a transition function and a goal test. We have a set of predicates that describe a state (and therefore all possible states), we have actions and we have, at least, an implicit transition function: applying an action in a state causes the state to change as described by the add and delete lists.\n",
    "\n",
    "Let's say we have a drill that's an item, two places such as home and store, and we know that I'm at home and the drill is at the store and I want to go buy a drill (have it be at home). We might represent that as:\n",
    "\n",
    "<code>\n",
    "start_state = [\n",
    "    \"(item Saw)\",\n",
    "    \"(item Drill)\",\n",
    "    \"(place Home)\",\n",
    "    \"(place Store)\",\n",
    "    \"(place Bank)\",\n",
    "    \"(agent Me)\",\n",
    "    \"(at Me Home)\",\n",
    "    \"(at Saw Store)\",\n",
    "    \"(at Drill Store)\",\n",
    "    \"(at Money Bank)\"\n",
    "]\n",
    "</code>\n",
    "\n",
    "And we have a goal state:\n",
    "\n",
    "<code>\n",
    "goal = [\n",
    "    \"(item Saw)\",\n",
    "    \"(item Drill)\",\n",
    "    \"(place Home)\",\n",
    "    \"(place Store)\",\n",
    "    \"(place Bank)\",\n",
    "    \"(agent Me)\",\n",
    "    \"(at Me Home)\",\n",
    "    \"(at Drill Me)\",\n",
    "    \"(at Saw Store)\",\n",
    "    \"(at Money Bank)\"\n",
    "]\n",
    "</code>\n",
    "\n",
    "The actions/operators are:\n",
    "\n",
    "<code>\n",
    "actions = {\n",
    "    \"drive\": {\n",
    "        \"action\": \"(drive ?agent ?from ?to)\",\n",
    "        \"conditions\": [\n",
    "            \"(agent ?agent)\",\n",
    "            \"(place ?from)\",\n",
    "            \"(place ?to)\",\n",
    "            \"(at ?agent ?from)\"\n",
    "        ],\n",
    "        \"add\": [\n",
    "            \"(at ?agent ?to)\"\n",
    "        ],\n",
    "        \"delete\": [\n",
    "            \"(at ?agent ?from)\"\n",
    "        ]\n",
    "    },\n",
    "    \"buy\": {\n",
    "        \"action\": \"(buy ?purchaser ?seller ?item)\",\n",
    "        \"conditions\": [\n",
    "            \"(item ?item)\",\n",
    "            \"(place ?seller)\",\n",
    "            \"(agent ?purchaser)\",\n",
    "            \"(at ?item ?seller)\",\n",
    "            \"(at ?purchaser ?seller)\"\n",
    "        ],\n",
    "        \"add\": [\n",
    "            \"(at ?item ?purchaser)\"\n",
    "        ],\n",
    "        \"delete\": [\n",
    "            \"(at ?item ?seller)\"\n",
    "        ]\n",
    "    }\n",
    "}\n",
    "</code>\n",
    "\n",
    "These will all need to be parsed from s-expressions to the underlying Python representation before you can use them. You might as well do it at the start of your algorithm, once. The order of the conditions is *not* arbitrary. It is much, much better for the unification and backtracking if you have the \"type\" predicates (item, place, agent) before the more complex ones. Trust me on this.\n",
    "\n",
    "As for the algorithm itself, there is going to be an *outer* level of search and an *inner* level of search.\n",
    "\n",
    "The *outer* level of search that is exactly what I describe here: you have a state, you generate successor states by applying actions to the current state, you examine those successor states as we did at the first week of the semester and if one is the goal you stop, if you see a repeat state, you put it on the explored list (you should implement graph search not tree search). What could be simpler?\n",
    "\n",
    "It turns out the Devil is in the details. There is an *inner* level of search hidden in \"you generate successor states by applying actions to the current state\". Where?\n",
    "\n",
    "How do you know if an action applies in a state? Only if the preconditions successfully unify with the current state. That seems easy enough...you check each predicate in the conditions to see if it unifies with the current state and if it does, you use the substitution list on the action, the add and delete lists and create the successor state based on them.\n",
    "\n",
    "Except for one small problem...there may be more than one way to unify an action with the current state. You must essentially search for all successful unifications of the candidate action and the current state. This is where my question through the semester appliesm, \"how would you modify state space search to return all the paths to the goal?\"\n",
    "\n",
    "Unification can be seen as state space search by trying to unify the first precondition with the current state, progressively working your way through the precondition list. If you fail at any point, you may need to backtrack because there might have been another unification of that predicate that would succeed. Similarly, as already mentioned, there may be more than one.\n",
    "\n",
    "So...by using unification and a properly defined <code>successors</code> function, you should be able to apply graph based search to the problem and return a \"path\" through the states from the initial state to the goal. You'll definitely want to use graph-based search since <code>( drive Me Store), (drive Me Home), (drive Me Store), (drive Me Home), (drive Me Store), (buy Me Store Drill), (drive Me Home)</code> is a valid plan.\n",
    "\n",
    "Your function should return the plan...a list of actions, fully instantiated, for the agent to do in order: [a1, a2, a3]. If you pass an extra intermediate=True parameter, it should also return the resulting state of each action: [s0, a1, s1, a2, s2, a3, s3].\n",
    "\n",
    "-----"
   ]
  },
  {
   "cell_type": "markdown",
   "metadata": {},
   "source": [
    "(you can just overwrite that one and add as many others as you need). Remember to follow the **Guidelines**.\n",
    "\n",
    "\n",
    "-----\n",
    "\n",
    "So you need to implement `forward_planner` as described above. `start_state`, `goal` and `actions` should all have the layout above and be s-expressions.\n",
    "\n",
    "Your implementation should return the plan as a **List of instantiated actions**. If `debug=True`, you should print out the intermediate states of the plan as well."
   ]
  },
  {
   "cell_type": "markdown",
   "metadata": {},
   "source": [
    "## parse_state\n",
    "\n",
    "`parse_state` is a helper function that parses an input state in `forward_planner`. It creates one string from the state parameter, parses the string, and returns a set of tuples with each tuple as a predicate in the state. **Used by**: [parse_actions](#parse_actions), [forward_planner](#forward_planner).\n",
    "\n",
    "* **state**: the input state to parse as a list of strings of predicates\n",
    "\n",
    "**returns** `Set(Tuple)`: a set of tuples representing the state"
   ]
  },
  {
   "cell_type": "code",
   "execution_count": 2,
   "metadata": {},
   "outputs": [],
   "source": [
    "def parse_state(state):\n",
    "    res = '(' + ''.join(state) + ')'\n",
    "    new_res = parse(res)\n",
    "    return set(tuple(x) for x in new_res)"
   ]
  },
  {
   "cell_type": "code",
   "execution_count": 3,
   "metadata": {
    "scrolled": false
   },
   "outputs": [],
   "source": [
    "# assertions/unit tests\n",
    "start_state = [ \"(item Saw)\", \"(item Drill)\", \"(place Home)\",\n",
    "               \"(place Store)\", \"(place Bank)\",  \"(agent Me)\",\n",
    "               \"(at Me Home)\", \"(at Saw Store)\", \"(at Drill Store)\"]\n",
    "\n",
    "parsed_start = parse_state(start_state)\n",
    "assert (\"item\", \"Saw\") in parsed_start\n",
    "assert (\"at\", \"Me\", \"Home\") in parsed_start\n",
    "assert (\"at\", \"Me\", \"Store\") not in parsed_start"
   ]
  },
  {
   "cell_type": "markdown",
   "metadata": {},
   "source": [
    "## parse_actions\n",
    "\n",
    "`parse_actions` takes a list of actions and parses each action by transforming the action, add list, and delete lists to state representation (a set of tuples with each tuple as a condition/action. **Uses**: [parse_state](#parse_state). **Used by**: [forward_planner](#forward_planner).\n",
    "\n",
    "* **actions**: a dictionary of actions, with each action having an action, conditions, add, and delete lists\n",
    "\n",
    "**returns** `Dict`: a new dictionary with parsed values for each action"
   ]
  },
  {
   "cell_type": "code",
   "execution_count": 4,
   "metadata": {},
   "outputs": [],
   "source": [
    "def parse_actions(actions):\n",
    "    new_actions = deepcopy(actions)\n",
    "    for action in new_actions:\n",
    "        new_actions[action][\"conditions\"] = parse_state(new_actions[action][\"conditions\"])\n",
    "        new_actions[action][\"add\"] = parse_state(new_actions[action][\"add\"])\n",
    "        new_actions[action][\"delete\"] = parse_state(new_actions[action][\"delete\"])\n",
    "        new_actions[action][\"action\"] = parse_state(new_actions[action][\"action\"])\n",
    "    return new_actions"
   ]
  },
  {
   "cell_type": "code",
   "execution_count": 5,
   "metadata": {
    "scrolled": false
   },
   "outputs": [],
   "source": [
    "# assertions/unit tests\n",
    "actions = {\n",
    "    \"fly\": {\n",
    "        \"action\": \"(fly ?plane ?to ?from)\",\n",
    "        \"conditions\": [\n",
    "            \"(plane ?plane)\"\n",
    "            \"(airport ?to)\",\n",
    "            \"(airport ?from)\",\n",
    "            \"(at ?plane ?from)\"\n",
    "        ],\n",
    "        \"add\": [\"(at ?plane ?to)\"],\n",
    "        \"delete\": [\"(at ?plane ?from)\"]\n",
    "    },\n",
    "}\n",
    "\n",
    "parsed_actions = parse_actions(actions)\n",
    "assert parsed_actions['fly']['action'] == {('fly', '?plane', '?to', '?from')}\n",
    "assert parsed_actions['fly']['conditions'] == {('at', '?plane', '?from'), ('airport', '?to'), ('airport', '?from'), ('plane', '?plane')}\n",
    "assert parsed_actions['fly']['add'] == {('at', '?plane', '?to')}\n",
    "assert parsed_actions['fly']['delete'] == {('at', '?plane', '?from')}"
   ]
  },
  {
   "cell_type": "markdown",
   "metadata": {},
   "source": [
    "## apply_subs\n",
    "\n",
    "`apply_subs` takes a substitution list of variables and a state set and applies variable substitutions to the state set. This function is used to transform possible actions after a substitution list is found (once the precondition set unifies with the current state). The function returns a new state with substitutions applied. **Used by**: [successors](#successors).\n",
    "\n",
    "* **sub_list**: a dictionary of substitutions\n",
    "* **state**: a set of tuples with variables to be substituted\n",
    "\n",
    "**returns** `Set(Tuple)`: a new set of tuples with substitutions applied"
   ]
  },
  {
   "cell_type": "code",
   "execution_count": 6,
   "metadata": {},
   "outputs": [],
   "source": [
    "def apply_subs(sub_list, state):\n",
    "    new_state = set()\n",
    "    for predicate in state:\n",
    "        new_pred = [sub_list[x] if x in sub_list else x for x in predicate]\n",
    "        new_state.add(tuple(new_pred))\n",
    "    return new_state"
   ]
  },
  {
   "cell_type": "code",
   "execution_count": 7,
   "metadata": {
    "scrolled": false
   },
   "outputs": [],
   "source": [
    "sub_list = {'?plane': '1973'}\n",
    "state = {('plane', '?plane')}\n",
    "res = apply_subs(sub_list, state)\n",
    "assert res == {('plane', '1973')}\n",
    "\n",
    "state = {('at', '?plane', '?from'), ('plane', '?plane'), ('airport', '?to'), ('airport', '?from')}\n",
    "res = apply_subs(sub_list, state)\n",
    "assert res == {('at', '1973', '?from'), ('airport', '?to'), ('plane', '1973'), ('airport', '?from')}\n",
    "\n",
    "state = {('at', '?plane', '?from'), ('plane', '?plane'), ('airport', '?to'), ('airport', '?from')}\n",
    "sub_list = {'?plane': '1973', '?to': 'JFK', '?from': 'SFO'}\n",
    "res = apply_subs(sub_list, state)\n",
    "assert res == {('airport', 'SFO'), ('at', '1973', 'SFO'), ('plane', '1973'), ('airport', 'JFK')}"
   ]
  },
  {
   "cell_type": "markdown",
   "metadata": {},
   "source": [
    "## precon_search\n",
    "\n",
    "`precon_search` determines if a state unifies with the conditions list of a possible action. To do so, it performs a linear search with recursive backtracking. It compares each condition in `conditions` to each predicate in `start_state` - if the two facts unify, the resulting substitution is added to a substitution list and the two facts are removed from their lists before the recursive call. \n",
    "\n",
    "Recursive backtracking allows the function to find all possible ways a set of conditions can unify with a state - the total list of substitution lists is stored in the parameter `all_subs` and is mutated to include all the substitutions by the end of the function. The two return parameters, `subs` and `success` are used purely for execution and have no bearing on the overall success of the search. **Uses**: [unification](#unification) **Used by**: [successors](#successors).\n",
    "\n",
    "* **conditions**: a list of conditions for an action\n",
    "* **start_state**: the current state being checked against the conditions\n",
    "* **subs**: a dictionary of current substitutions that is mutated on each recursive call\n",
    "* **all_subs**: a list of substitution lists that contains the result of the search\n",
    "\n",
    "**returns** `Tuple(List, Bool)`: the current substitution list and a success parameter, used internally for the algorithm (they should not be used for checking the success/results of `precon_search` elsewhere)."
   ]
  },
  {
   "cell_type": "code",
   "execution_count": 8,
   "metadata": {},
   "outputs": [],
   "source": [
    "def precon_search(conditions, start_state, subs, all_subs):\n",
    "    cons, preds = deepcopy(conditions), deepcopy(start_state)\n",
    "    if len(cons) == 0: return subs, True\n",
    "    for con in cons:\n",
    "        for pred in preds:\n",
    "            check_uni = unification(con, pred)\n",
    "            if check_uni != False:\n",
    "                new_cons = deepcopy(apply_subs(check_uni, [x for x in cons if x != con]))\n",
    "                new_preds = deepcopy([y for y in preds if y != pred])\n",
    "                subs.update(check_uni);\n",
    "                subs, success = precon_search(new_cons, new_preds, deepcopy(subs), all_subs)\n",
    "                if success: \n",
    "                    if subs not in all_subs: all_subs.append(subs)\n",
    "            if type(check_uni) == dict: \n",
    "                subs = {k: v for k,v in subs.items() if k not in check_uni}\n",
    "    return subs, False"
   ]
  },
  {
   "cell_type": "code",
   "execution_count": 9,
   "metadata": {
    "scrolled": true
   },
   "outputs": [],
   "source": [
    "# assertions/unit tests\n",
    "actions = {\n",
    "    \"fly\": {\n",
    "        \"action\": \"(fly ?plane ?to ?from)\",\n",
    "        \"conditions\": [\n",
    "            \"(plane ?plane)\"\n",
    "            \"(airport ?to)\",\n",
    "            \"(airport ?from)\",\n",
    "            \"(at ?plane ?from)\"\n",
    "        ],\n",
    "        \"add\": [\"(at ?plane ?to)\"],\n",
    "        \"delete\": [\"(at ?plane ?from)\"]\n",
    "    },\n",
    "}\n",
    "p_actions = parse_actions(actions)\n",
    "actions_compare = deepcopy(p_actions)\n",
    "\n",
    "cons = p_actions[\"fly\"][\"conditions\"]\n",
    "start_state = [\"(plane 1973)\", \"(airport SFO)\", \"(airport JFK)\", \"(at 1973 SFO)\"]\n",
    "p_state = parse_state(start_state)\n",
    "all_subs = []\n",
    "res, success = precon_search(cons, p_state, {}, all_subs)\n",
    "assert all_subs == [{'?plane': '1973', '?from': 'SFO', '?to': 'JFK'}]\n",
    "\n",
    "start_state = [\"(plane 1973)\", \"(plane 2749)\", \"(airport SFO)\",\n",
    "               '(airport JFK)', \"(airport ORD)\", \"(at 1973 SFO)\",\n",
    "               \"(at 2749 JFK)\", \"(at 97 ORD)\",\"(at 1211 SFO)\"]\n",
    "p_state = parse_state(start_state)\n",
    "state_compare = deepcopy(p_state)\n",
    "all_subs = []\n",
    "res, success = precon_search(cons, p_state, {}, all_subs)\n",
    "actual = [{'?plane': '2749', '?from': 'JFK', '?to': 'ORD'}, \n",
    "                    {'?plane': '2749', '?from': 'JFK', '?to': 'SFO'}, \n",
    "                    {'?plane': '1973', '?from': 'SFO', '?to': 'ORD'}, \n",
    "                    {'?plane': '1973', '?from': 'SFO', '?to': 'JFK'}]\n",
    "assert all(x in actual for x in all_subs)\n",
    "assert p_actions == actions_compare and p_state == state_compare"
   ]
  },
  {
   "cell_type": "markdown",
   "metadata": {},
   "source": [
    "## successors\n",
    "\n",
    "`successors` is the main method of deepening in our `forward_planner` algorithm. This function takes a parent node, which has a state, action, and its own parent, and tries to apply every action in `actions`. If the action unifies from `precon_search`, then every substitution list in the `all_subs` parameter mutated by `precon_search` is used to generate a new child. The add/delete actions are taken and the child is added to a list of children.\n",
    "\n",
    "This function is vital to the overall forward planning algorithm - the process of unifying preconditions and creating children constitutes a secondary state space search inside the main search of `forward_planner`. **Uses**: [precon_search](#precon_search), [apply_subs](#apply_subs). **Used by**: [forward_planner](#forward_planner).\n",
    "\n",
    "* **parent**: a parent state from which to generate children\n",
    "* **actions**: a list of possible actions\n",
    "\n",
    "**returns** `List`: a list of child states from `parent` through `actions`."
   ]
  },
  {
   "cell_type": "code",
   "execution_count": 10,
   "metadata": {},
   "outputs": [],
   "source": [
    "def successors(parent, actions):\n",
    "    (state, action, parent_state), children = parent, []\n",
    "    for action in actions:\n",
    "        all_subs = []\n",
    "        _, _ = precon_search(actions[action][\"conditions\"], state, {}, all_subs)\n",
    "        for sub_list in all_subs:\n",
    "            add_sub = apply_subs(sub_list, actions[action][\"add\"])\n",
    "            del_sub = apply_subs(sub_list, actions[action][\"delete\"])\n",
    "            action_sub = list(apply_subs(sub_list, actions[action][\"action\"]))[0]\n",
    "            child_state = [con for con in add_sub]\n",
    "            for con in state: \n",
    "                if con not in del_sub: child_state.append(con)\n",
    "            children.append((set(tuple(x for x in child_state)), action_sub, parent))\n",
    "    return children"
   ]
  },
  {
   "cell_type": "code",
   "execution_count": 11,
   "metadata": {
    "scrolled": false
   },
   "outputs": [],
   "source": [
    "actions = {\n",
    "    \"fly\": {\n",
    "        \"action\": \"(fly ?plane ?to ?from)\",\n",
    "        \"conditions\": [\n",
    "            \"(plane ?plane)\"\n",
    "            \"(airport ?to)\",\n",
    "            \"(airport ?from)\",\n",
    "            \"(at ?plane ?from)\"\n",
    "        ],\n",
    "        \"add\": [\"(at ?plane ?to)\"],\n",
    "        \"delete\": [\"(at ?plane ?from)\"]\n",
    "    },\n",
    "}\n",
    "parsed_actions = parse_actions(actions)\n",
    "start_state = ({('at', '1973', 'SFO'), ('airport', 'SFO'), ('plane', '1973'), ('airport', 'JFK')}, \n",
    "                   None, \n",
    "                   None)\n",
    "children = successors(start_state, parsed_actions)\n",
    "(curr, action, parent) = children[0]\n",
    "assert ('at', '1973', 'JFK') in curr\n",
    "assert ('at', '1973', 'SFO') not in curr\n",
    "assert ('airport', 'SFO') in curr and ('airport', 'JFK') in curr\n",
    "assert ('plane', '1973') in curr"
   ]
  },
  {
   "cell_type": "markdown",
   "metadata": {},
   "source": [
    "## is_explored\n",
    "\n",
    "`is_explored` takes the place of an explored list in `forward_planner` by taking advantage of the nested nature of the states. Each state has a parent as its third parameter, which in turn is a nested tuple of states. By checking whether `child_state` is within the nested tuples of `curr`, the function returns whether or not the child state has been visited. If the child is found as a subset of any parent state, the function returns True - otherwise, it returns False. **Used by**: [forward_planner](#forward_planner).\n",
    "\n",
    "* **curr**: the state with nested tuples to check for the existence of `child_state`\n",
    "* **child_state**: the child state being checked\n",
    "\n",
    "**returns**: `Bool`: whether or not `child_state` has been explored in `curr`."
   ]
  },
  {
   "cell_type": "code",
   "execution_count": 12,
   "metadata": {},
   "outputs": [],
   "source": [
    "def is_explored(curr, child_state):\n",
    "    (curr_state, action, parent) = curr\n",
    "    while parent != None:\n",
    "        if child_state <= curr_state:\n",
    "            return True\n",
    "        (curr_state, action, parent) = parent\n",
    "    return child_state <= curr_state"
   ]
  },
  {
   "cell_type": "code",
   "execution_count": 13,
   "metadata": {},
   "outputs": [],
   "source": [
    "# assertions/unit tests\n",
    "curr_state = ({('airport', 'SFO'), ('plane', '1973'), ('at', '1973', 'JFK'), ('airport', 'JFK'), ('airport', 'ORD')}, \n",
    "              {('fly', '1973', 'JFK', 'SFO')}, \n",
    "              (\n",
    "                  {('airport', 'SFO'), ('plane', '1973'), ('at', '1973', 'SFO'), ('airport', 'JFK'), ('airport', 'ORD')}, \n",
    "                  None, \n",
    "                  None))\n",
    "child_state = {('airport', 'SFO'), ('plane', '1973'), ('at', '1973', 'SFO'), ('airport', 'JFK'), ('airport', 'ORD')}\n",
    "assert is_explored(curr_state, child_state)\n",
    "child_state = {('airport', 'SFO'), ('plane', '1973'), ('at', '1973', 'ORD'), ('airport', 'JFK'), ('airport', 'ORD')}\n",
    "assert not is_explored(curr_state, child_state)\n",
    "child_state = {('airport', 'SFO'), ('plane', '1973'), ('at', '1973', 'JFK'), ('airport', 'JFK'), ('airport', 'ORD')}\n",
    "assert is_explored(curr_state, child_state)"
   ]
  },
  {
   "cell_type": "markdown",
   "metadata": {},
   "source": [
    "## get_plan\n",
    "\n",
    "`get_plan` generates a plan from the current state by taking advantage of the nested tuple nature of a state. By sequentially adding the current state and action to a list, and then unwrapping the parent node, the function can build a list of states and actions using only the `curr` node, which will start with a state list equivalent to the goal of `forward_planner`. The function takes a `debug` parameter that determines whether the plan is of the form: `[S1, A1, S2, A2, S3, A3]` or `[A1, A2, A3]`. If `debug` is true, the first form is chosen; otherwise, the second form is chosen. **Used by**: [forward_planner](#forward_planner).\n",
    "\n",
    "* **curr**: the current state to unravel to create the plan\n",
    "* **debug**: a parameter determining the format of `plan`\n",
    "\n",
    "**returns** `List`: a list representing a plan from a start state to a goal state."
   ]
  },
  {
   "cell_type": "code",
   "execution_count": 14,
   "metadata": {},
   "outputs": [],
   "source": [
    "def get_plan(curr, debug):\n",
    "    (curr_state, action, parent) = curr\n",
    "    plan = []\n",
    "    while parent:\n",
    "        if debug: plan.append(curr_state[0] if type(curr_state) == tuple else curr_state)\n",
    "        plan.append(action)\n",
    "        curr_state = parent; \n",
    "        action, parent = curr_state[1], curr_state[2]\n",
    "    if debug: plan.append(curr_state[0])\n",
    "    return plan[::-1]"
   ]
  },
  {
   "cell_type": "code",
   "execution_count": 15,
   "metadata": {},
   "outputs": [],
   "source": [
    "# assertions/unit tests\n",
    "curr_state = ({('airport', 'JFK'), ('at', '1973', 'JFK'), ('airport', 'SFO'), ('plane', '1973')}, \n",
    "              {('fly', '1973', 'JFK', 'SFO')}, \n",
    "              ({('at', '1973', 'SFO'), ('airport', 'SFO'), ('plane', '1973'), ('airport', 'JFK')}, \n",
    "               None, None))\n",
    "plan = get_plan(curr_state, False)\n",
    "assert plan == [{('fly', '1973', 'JFK', 'SFO')}]\n",
    "\n",
    "plan = get_plan(curr_state, True)\n",
    "actual = [{('at', '1973', 'SFO'), ('plane', '1973'), ('airport', 'SFO'), ('airport', 'JFK')}, \n",
    "          {('fly', '1973', 'JFK', 'SFO')}, \n",
    "          {('at', '1973', 'JFK'), ('airport', 'SFO'), ('plane', '1973'), ('airport', 'JFK')}]\n",
    "assert plan == actual\n",
    "\n",
    "curr_state = ({('plane', '1973'), ('at', '1973', 'JFK'), ('airport', 'SFO'), ('airport', 'ORD'), ('airport', 'JFK')}, \n",
    "              {('fly', '1973', 'JFK', 'ORD')}, \n",
    "              (\n",
    "                  {('plane', '1973'), ('at', '1973', 'ORD'), ('airport', 'SFO'), ('airport', 'ORD'), ('airport', 'JFK')}, \n",
    "                  {('fly', '1973', 'ORD', 'SFO')}, \n",
    "                  (\n",
    "                      {('plane', '1973'), ('at', '1973', 'SFO'), ('airport', 'SFO'), ('airport', 'ORD'), ('airport', 'JFK')}, \n",
    "                      None, None)))\n",
    "plan = get_plan(curr_state, False)\n",
    "assert plan == [{('fly', '1973', 'ORD', 'SFO')}, {('fly', '1973', 'JFK', 'ORD')}]"
   ]
  },
  {
   "cell_type": "markdown",
   "metadata": {},
   "source": [
    "## forward_planner\n",
    "\n",
    "`forward_planner` implements a forward planner - a type of planning algorithm that takes a list of facts and builds a plan forwards by applying actions, creating new states, and continuing until a goal state is reached. This planner returns a list of total-order plans to go from the start state to the goal state. The function takes a start state, a goal, and a dictionary of all possible actions and returns a list of all possible plans to go from the start to the goal. Additionally, it takes a debug parameter that changes the format of the plans (see `get_plan` for more info).\n",
    "\n",
    "The algorithm implemented here is two state space searches nested in each other. The states in this algorithm are tuples of the form `(state list, action taken, parent)`. The parent is a nested tuple of states - each state contains a nested tuple of all states taken to get to the current state. This nested tuple arrangement removes the need for an explored list. **Uses**: [parse_state](#parse_state), [parse_actions](#parse_actions), [get_plan](#get_plan), [successors](#successors).\n",
    "\n",
    "* **start_state**: the start of the plan\n",
    "* **goal**: the final state in the plan\n",
    "* **actions**: the dictionary of possible actions\n",
    "* **debug**: an optional parameter to add states to the generated plans\n",
    "\n",
    "**returns**: `List[List]`: a list of all possible plans from `start_state` to `goal`."
   ]
  },
  {
   "cell_type": "code",
   "execution_count": 16,
   "metadata": {},
   "outputs": [],
   "source": [
    "def forward_planner( start_state, goal, actions, debug=False):\n",
    "    p_start, p_goal, p_actions = parse_state(start_state), parse_state(goal), parse_actions(actions)\n",
    "    frontier, plans = [(p_start, None, None)], []\n",
    "    while frontier:\n",
    "        (curr_state, action, parent) = frontier.pop()\n",
    "        if p_goal <= curr_state:\n",
    "            plan = get_plan((curr_state, action, parent), debug)\n",
    "            if plan not in plans: plans.append(plan)\n",
    "            continue\n",
    "        children = successors((curr_state, action, parent), p_actions)\n",
    "        for (child, action, parent) in children:\n",
    "            if not is_explored((curr_state, action, parent), child) or p_goal <= child:\n",
    "                frontier.append((child, action, parent))\n",
    "    return plans"
   ]
  },
  {
   "cell_type": "code",
   "execution_count": 17,
   "metadata": {},
   "outputs": [],
   "source": [
    "actions = {\n",
    "    \"fly\": {\n",
    "        \"action\": \"(fly ?plane ?to ?from)\",\n",
    "        \"conditions\": [\n",
    "            \"(plane ?plane)\"\n",
    "            \"(airport ?to)\",\n",
    "            \"(airport ?from)\",\n",
    "            \"(at ?plane ?from)\"\n",
    "        ],\n",
    "        \"add\": [\"(at ?plane ?to)\"],\n",
    "        \"delete\": [\"(at ?plane ?from)\"]\n",
    "    },\n",
    "}\n",
    "start_state = [\"(plane 1973)\", \"(airport SFO)\", \"(airport JFK)\", \"(at 1973 SFO)\"]\n",
    "goal_state = [\"(plane 1973)\", \"(airport SFO)\", \"(airport JFK)\", \"(at 1973 JFK)\"]\n",
    "start_copy = deepcopy(start_state)\n",
    "plans = forward_planner(start_state, goal_state, actions, False)\n",
    "assert plans[0] == [('fly', '1973', 'JFK', 'SFO')]\n",
    "assert start_state == start_copy\n",
    "\n",
    "start_state = [\"(plane 1973)\", \"(airport SFO)\", \"(airport ORD)\", \"(airport JFK)\", \"(at 1973 SFO)\"]\n",
    "goal_state = [\"(plane 1973)\", \"(airport SFO)\", \"(airport JFK)\", \"(at 1973 JFK)\"]\n",
    "plans = forward_planner(start_state, goal_state, actions, False)\n",
    "assert [('fly', '1973', 'ORD', 'SFO'), ('fly', '1973', 'JFK', 'ORD')] in plans\n",
    "assert [('fly', '1973', 'JFK', 'SFO')] in plans"
   ]
  },
  {
   "cell_type": "markdown",
   "metadata": {},
   "source": [
    "You will be solving the problem from above. Here is the start state:"
   ]
  },
  {
   "cell_type": "code",
   "execution_count": 18,
   "metadata": {},
   "outputs": [],
   "source": [
    "start_state = [\n",
    "    \"(item Saw)\",\n",
    "    \"(item Drill)\",\n",
    "    \"(place Home)\",\n",
    "    \"(place Store)\",\n",
    "    \"(place Bank)\",\n",
    "    \"(agent Me)\",\n",
    "    \"(at Me Home)\",\n",
    "    \"(at Saw Store)\",\n",
    "    \"(at Drill Store)\"\n",
    "]"
   ]
  },
  {
   "cell_type": "markdown",
   "metadata": {},
   "source": [
    "The goal state:"
   ]
  },
  {
   "cell_type": "code",
   "execution_count": 19,
   "metadata": {
    "tags": []
   },
   "outputs": [],
   "source": [
    "goal = [\n",
    "    \"(item Saw)\",    \n",
    "    \"(item Drill)\",\n",
    "    \"(place Home)\",\n",
    "    \"(place Store)\",\n",
    "    \"(place Bank)\",    \n",
    "    \"(agent Me)\",\n",
    "    \"(at Me Home)\",\n",
    "    \"(at Drill Me)\",\n",
    "    \"(at Saw Store)\"    \n",
    "]"
   ]
  },
  {
   "cell_type": "markdown",
   "metadata": {},
   "source": [
    "and the actions/operators:"
   ]
  },
  {
   "cell_type": "code",
   "execution_count": 20,
   "metadata": {},
   "outputs": [],
   "source": [
    "actions = {\n",
    "    \"drive\": {\n",
    "        \"action\": \"(drive ?agent ?from ?to)\",\n",
    "        \"conditions\": [\n",
    "            \"(agent ?agent)\",\n",
    "            \"(place ?from)\",\n",
    "            \"(place ?to)\",\n",
    "            \"(at ?agent ?from)\"\n",
    "        ],\n",
    "        \"add\": [\n",
    "            \"(at ?agent ?to)\"\n",
    "        ],\n",
    "        \"delete\": [\n",
    "            \"(at ?agent ?from)\"\n",
    "        ]\n",
    "    },\n",
    "    \"buy\": {\n",
    "        \"action\": \"(buy ?purchaser ?seller ?item)\",\n",
    "        \"conditions\": [\n",
    "            \"(item ?item)\",\n",
    "            \"(place ?seller)\",\n",
    "            \"(agent ?purchaser)\",\n",
    "            \"(at ?item ?seller)\",\n",
    "            \"(at ?purchaser ?seller)\"\n",
    "        ],\n",
    "        \"add\": [\n",
    "            \"(at ?item ?purchaser)\"\n",
    "        ],\n",
    "        \"delete\": [\n",
    "            \"(at ?item ?seller)\"\n",
    "        ]\n",
    "    }\n",
    "}"
   ]
  },
  {
   "cell_type": "markdown",
   "metadata": {},
   "source": [
    "**Note** The facts for each state are really an ordered set. When comparing two states, you may need to convert them to a Set first."
   ]
  },
  {
   "cell_type": "code",
   "execution_count": 21,
   "metadata": {
    "scrolled": false
   },
   "outputs": [],
   "source": [
    "plan = forward_planner( start_state, goal, actions)"
   ]
  },
  {
   "cell_type": "code",
   "execution_count": 22,
   "metadata": {},
   "outputs": [
    {
     "name": "stdout",
     "output_type": "stream",
     "text": [
      "[('drive', 'Me', 'Home', 'Bank'), ('drive', 'Me', 'Bank', 'Store'), ('buy', 'Me', 'Store', 'Drill'), ('drive', 'Me', 'Store', 'Bank'), ('drive', 'Me', 'Bank', 'Home')]\n",
      "[('drive', 'Me', 'Home', 'Bank'), ('drive', 'Me', 'Bank', 'Store'), ('buy', 'Me', 'Store', 'Drill'), ('drive', 'Me', 'Store', 'Home')]\n",
      "[('drive', 'Me', 'Home', 'Store'), ('buy', 'Me', 'Store', 'Drill'), ('drive', 'Me', 'Store', 'Bank'), ('drive', 'Me', 'Bank', 'Home')]\n",
      "[('drive', 'Me', 'Home', 'Store'), ('buy', 'Me', 'Store', 'Drill'), ('drive', 'Me', 'Store', 'Home')]\n"
     ]
    }
   ],
   "source": [
    "for el in plan:\n",
    "    print(el)"
   ]
  },
  {
   "cell_type": "markdown",
   "metadata": {},
   "source": [
    "## Before You Submit...\n",
    "\n",
    "1. Did you provide output exactly as requested?\n",
    "2. Did you re-execute the entire notebook? (\"Restart Kernel and Rull All Cells...\")\n",
    "3. If you did not complete the assignment or had difficulty please explain what gave you the most difficulty in the Markdown cell below.\n",
    "4. Did you change the name of the file to `jhed_id.ipynb`?\n",
    "\n",
    "Do not submit any other files."
   ]
  },
  {
   "cell_type": "markdown",
   "metadata": {},
   "source": []
  }
 ],
 "metadata": {
  "kernelspec": {
   "display_name": "Python (en605645)",
   "language": "python",
   "name": "en605645"
  },
  "language_info": {
   "codemirror_mode": {
    "name": "ipython",
    "version": 3
   },
   "file_extension": ".py",
   "mimetype": "text/x-python",
   "name": "python",
   "nbconvert_exporter": "python",
   "pygments_lexer": "ipython3",
   "version": "3.11.7"
  },
  "toc": {
   "colors": {
    "hover_highlight": "#DAA520",
    "navigate_num": "#000000",
    "navigate_text": "#333333",
    "running_highlight": "#FF0000",
    "selected_highlight": "#FFD700",
    "sidebar_border": "#EEEEEE",
    "wrapper_background": "#FFFFFF"
   },
   "moveMenuLeft": true,
   "nav_menu": {
    "height": "102px",
    "width": "252px"
   },
   "navigate_menu": true,
   "number_sections": true,
   "sideBar": true,
   "threshold": 4,
   "toc_cell": false,
   "toc_section_display": "block",
   "toc_window_display": false,
   "widenNotebook": false
  }
 },
 "nbformat": 4,
 "nbformat_minor": 4
}
