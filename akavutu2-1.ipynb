{
 "cells": [
  {
   "cell_type": "markdown",
   "metadata": {},
   "source": [
    "# Module 1 - Programming Assignment\n",
    "\n",
    "## General Directions\n",
    "\n",
    "1. You must follow the Programming Requirements outlined on Canvas.\n",
    "2. The Notebook should be cleanly and fully executed before submission.\n",
    "3. You should change the name of this file to be your JHED id. For example, `jsmith299.ipynb` although Canvas will change it to something else... :/\n",
    "\n",
    "<div style=\"background: lemonchiffon; margin:20px; padding: 20px;\">\n",
    "    <strong>Important</strong>\n",
    "    <p>\n",
    "        You should always read the entire assignment before beginning your work, so that you know in advance what the requested output will be and can plan your implementation accordingly.\n",
    "    </p>\n",
    "</div>"
   ]
  },
  {
   "cell_type": "markdown",
   "metadata": {},
   "source": [
    "# State Space Search with A* Search\n",
    "\n",
    "You are going to implement the A\\* Search algorithm for navigation problems.\n",
    "\n",
    "\n",
    "## Motivation\n",
    "\n",
    "Search is often used for path-finding in video games. Although the characters in a video game often move in continuous spaces,\n",
    "it is trivial to layout a \"waypoint\" system as a kind of navigation grid over the continuous space. Then if the character needs\n",
    "to get from Point A to Point B, it does a line of sight (LOS) scan to find the nearest waypoint (let's call it Waypoint A) and\n",
    "finds the nearest, LOS waypoint to Point B (let's call it Waypoint B). The agent then does a A* search for Waypoint B from Waypoint A to find the shortest path. The entire path is thus Point A to Waypoint A to Waypoint B to Point B.\n",
    "\n",
    "We're going to simplify the problem by working in a grid world. The symbols that form the grid have a special meaning as they\n",
    "specify the type of the terrain and the cost to enter a grid cell with that type of terrain:\n",
    "\n",
    "```\n",
    "token   terrain    cost \n",
    "🌾       plains     1\n",
    "🌲       forest     3\n",
    "⛰       hills      5\n",
    "🐊       swamp      7\n",
    "🌋       mountains  impassible\n",
    "```\n",
    "\n",
    "We can think of the raw format of the map as being something like:\n",
    "\n",
    "```\n",
    "🌾🌾🌾🌾🌲🌾🌾\n",
    "🌾🌾🌾🌲🌲🌲🌾\n",
    "🌾⛰⛰⛰🌾🌾🌾\n",
    "🌾🌾⛰⛰🌾🌾🌾\n",
    "🌾🌾⛰🌾🌾🌲🌲\n",
    "🌾🌾🌾🌾🌲🌲🌲\n",
    "🌾🌾🌾🌾🌾🌾🌾\n",
    "```"
   ]
  },
  {
   "cell_type": "markdown",
   "metadata": {},
   "source": [
    "## The World\n",
    "\n",
    "Given a map like the one above, we can easily represent each row as a `List` and the entire map as `List of Lists`:"
   ]
  },
  {
   "cell_type": "code",
   "execution_count": 1,
   "metadata": {},
   "outputs": [],
   "source": [
    "full_world = [\n",
    "['🌾', '🌾', '🌾', '🌾', '🌾', '🌲', '🌲', '🌲', '🌲', '🌲', '🌲', '🌲', '🌲', '🌲', '🌲', '🌾', '🌾', '🌾', '🌾', '🌾', '🌾', '🌾', '🌾', '🌾', '🌾', '🌾', '🌾'],\n",
    "['🌾', '🌾', '🌾', '🌾', '🌾', '🌾', '🌾', '🌲', '🌲', '🌲', '🌲', '🌲', '🌲', '🌲', '🌲', '🌲', '🌾', '🌾', '🌋', '🌋', '🌋', '🌋', '🌋', '🌋', '🌋', '🌾', '🌾'],\n",
    "['🌾', '🌾', '🌾', '🌾', '🌋', '🌋', '🌲', '🌲', '🌲', '🌲', '🌲', '🌲', '🌲', '🌲', '🌲', '🌲', '🌲', '🌋', '🌋', '🌋', '⛰', '⛰', '⛰', '🌋', '🌋', '⛰', '⛰'],\n",
    "['🌾', '🌾', '🌾', '🌾', '⛰', '🌋', '🌋', '🌋', '🌲', '🌲', '🌲', '🌲', '🐊', '🐊', '🌲', '🌲', '🌲', '🌲', '🌲', '🌾', '🌾', '⛰', '⛰', '🌋', '🌋', '⛰', '🌾'],\n",
    "['🌾', '🌾', '🌾', '⛰', '⛰', '🌋', '🌋', '🌲', '🌲', '🌾', '🌾', '🐊', '🐊', '🐊', '🐊', '🌲', '🌲', '🌲', '🌾', '🌾', '🌾', '⛰', '🌋', '🌋', '🌋', '⛰', '🌾'],\n",
    "['🌾', '⛰', '⛰', '⛰', '🌋', '🌋', '⛰', '⛰', '🌾', '🌾', '🌾', '🌾', '🐊', '🐊', '🐊', '🐊', '🐊', '🌾', '🌾', '🌾', '🌾', '🌾', '⛰', '🌋', '⛰', '🌾', '🌾'],\n",
    "['🌾', '⛰', '⛰', '🌋', '🌋', '⛰', '⛰', '🌾', '🌾', '🌾', '🌾', '⛰', '🌋', '🌋', '🌋', '🐊', '🐊', '🐊', '🌾', '🌾', '🌾', '🌾', '🌾', '⛰', '🌾', '🌾', '🌾'],\n",
    "['🌾', '🌾', '⛰', '⛰', '⛰', '⛰', '⛰', '🌾', '🌾', '🌾', '🌾', '🌾', '🌾', '⛰', '🌋', '🌋', '🌋', '🐊', '🐊', '🐊', '🌾', '🌾', '⛰', '⛰', '⛰', '🌾', '🌾'],\n",
    "['🌾', '🌾', '🌾', '⛰', '⛰', '⛰', '🌾', '🌾', '🌾', '🌾', '🌾', '🌾', '⛰', '⛰', '🌋', '🌋', '🌾', '🐊', '🐊', '🌾', '🌾', '⛰', '⛰', '⛰', '🌾', '🌾', '🌾'],\n",
    "['🌾', '🌾', '🌾', '🐊', '🐊', '🐊', '🌾', '🌾', '⛰', '⛰', '⛰', '🌋', '🌋', '🌋', '🌋', '🌾', '🌾', '🌾', '🐊', '🌾', '⛰', '⛰', '⛰', '🌾', '🌾', '🌾', '🌾'],\n",
    "['🌾', '🌾', '🐊', '🐊', '🐊', '🐊', '🐊', '🌾', '⛰', '⛰', '🌋', '🌋', '🌋', '⛰', '🌾', '🌾', '🌾', '🌾', '🌾', '⛰', '🌋', '🌋', '🌋', '⛰', '🌾', '🌾', '🌾'],\n",
    "['🌾', '🐊', '🐊', '🐊', '🐊', '🐊', '🌾', '🌾', '⛰', '🌋', '🌋', '⛰', '🌾', '🌾', '🌾', '🌾', '🐊', '🐊', '🌾', '🌾', '⛰', '🌋', '🌋', '⛰', '🌾', '🌾', '🌾'],\n",
    "['🐊', '🐊', '🐊', '🐊', '🐊', '🌾', '🌾', '⛰', '⛰', '🌋', '🌋', '⛰', '🌾', '🐊', '🐊', '🐊', '🐊', '🌾', '🌾', '🌾', '⛰', '🌋', '⛰', '🌾', '🌾', '🌾', '🌾'],\n",
    "['🌾', '🐊', '🐊', '🐊', '🐊', '🌾', '🌾', '⛰', '🌲', '🌲', '⛰', '🌾', '🌾', '🌾', '🌾', '🐊', '🐊', '🐊', '🐊', '🌾', '🌾', '⛰', '🌾', '🌾', '🌾', '🌾', '🌾'],\n",
    "['🌾', '🌾', '🌾', '🌾', '🌋', '🌾', '🌾', '🌲', '🌲', '🌲', '🌲', '⛰', '⛰', '⛰', '⛰', '🌾', '🐊', '🐊', '🐊', '🌾', '🌾', '⛰', '🌋', '⛰', '🌾', '🌾', '🌾'],\n",
    "['🌾', '🌾', '🌾', '🌋', '🌋', '🌋', '🌲', '🌲', '🌲', '🌲', '🌲', '🌲', '🌋', '🌋', '🌋', '⛰', '⛰', '🌾', '🐊', '🌾', '⛰', '🌋', '🌋', '⛰', '🌾', '🌾', '🌾'],\n",
    "['🌾', '🌾', '🌋', '🌋', '🌲', '🌲', '🌲', '🌲', '🌲', '🌲', '🌲', '🌲', '🌲', '🌲', '🌋', '🌋', '🌋', '🌾', '🌾', '🌋', '🌋', '🌋', '🌾', '🌾', '🌾', '🌾', '🌾'],\n",
    "['🌾', '🌾', '🌾', '🌋', '🌋', '🌲', '🌲', '🌲', '🌲', '🌲', '🌲', '🌲', '🌲', '🌲', '🌲', '🌲', '🌋', '🌋', '🌋', '🌋', '🌾', '🌾', '🌾', '🌾', '🌾', '🌾', '🌾'],\n",
    "['🌾', '🌾', '🌾', '🌋', '🌋', '🌋', '🌲', '🌲', '🌲', '🌲', '🌲', '🌲', '🌲', '🌲', '🌾', '🌾', '🌾', '⛰', '⛰', '🌾', '🌾', '🌾', '🌾', '🌾', '🌾', '🌾', '🌾'],\n",
    "['🌾', '🌾', '🌾', '🌾', '🌋', '🌋', '🌋', '🌲', '🌲', '🌲', '🌲', '🌲', '🌲', '🌾', '🌾', '🌾', '🌾', '🌾', '🌾', '🌾', '🌾', '🌾', '🌾', '🐊', '🐊', '🐊', '🐊'],\n",
    "['🌾', '🌾', '⛰', '⛰', '⛰', '⛰', '🌋', '🌋', '🌲', '🌲', '🌲', '🌲', '🌲', '🌾', '🌋', '🌾', '🌾', '🌾', '🌾', '🌾', '🐊', '🐊', '🐊', '🐊', '🐊', '🐊', '🐊'],\n",
    "['🌾', '🌾', '🌾', '🌾', '⛰', '⛰', '⛰', '🌋', '🌋', '🌋', '🌲', '🌲', '🌋', '🌋', '🌾', '🌾', '🌾', '🌾', '🌾', '🌾', '🐊', '🐊', '🐊', '🐊', '🐊', '🐊', '🐊'],\n",
    "['🌾', '🌾', '🌾', '🌾', '🌾', '🌾', '⛰', '⛰', '⛰', '🌋', '🌋', '🌋', '🌋', '🌾', '🌾', '🌾', '🌾', '⛰', '⛰', '🌾', '🌾', '🐊', '🐊', '🐊', '🐊', '🐊', '🐊'],\n",
    "['🌾', '⛰', '⛰', '🌾', '🌾', '⛰', '⛰', '⛰', '⛰', '⛰', '🌾', '🌾', '🌾', '🌾', '🌾', '⛰', '⛰', '🌋', '🌋', '⛰', '⛰', '🌾', '🐊', '🐊', '🐊', '🐊', '🐊'],\n",
    "['⛰', '🌋', '⛰', '⛰', '⛰', '⛰', '🌾', '🌾', '🌾', '🌾', '🌾', '🌋', '🌋', '🌋', '⛰', '⛰', '🌋', '🌋', '🌾', '🌋', '🌋', '⛰', '⛰', '🐊', '🐊', '🐊', '🐊'],\n",
    "['⛰', '🌋', '🌋', '🌋', '⛰', '🌾', '🌾', '🌾', '🌾', '🌾', '⛰', '⛰', '🌋', '🌋', '🌋', '🌋', '⛰', '⛰', '⛰', '⛰', '🌋', '🌋', '🌋', '🐊', '🐊', '🐊', '🐊'],\n",
    "['⛰', '⛰', '🌾', '🌾', '🌾', '🌾', '🌾', '🌾', '🌾', '🌾', '🌾', '🌾', '⛰', '⛰', '⛰', '⛰', '⛰', '🌾', '🌾', '🌾', '🌾', '⛰', '⛰', '⛰', '🌾', '🌾', '🌾']\n",
    "]"
   ]
  },
  {
   "cell_type": "code",
   "execution_count": 2,
   "metadata": {},
   "outputs": [
    {
     "name": "stdout",
     "output_type": "stream",
     "text": [
      "🌾🌾🌾🌾🌾🌲🌲🌲🌲🌲🌲🌲🌲🌲🌲🌾🌾🌾🌾🌾🌾🌾🌾🌾🌾🌾🌾\n",
      "🌾🌾🌾🌾🌾🌾🌾🌲🌲🌲🌲🌲🌲🌲🌲🌲🌾🌾🌋🌋🌋🌋🌋🌋🌋🌾🌾\n",
      "🌾🌾🌾🌾🌋🌋🌲🌲🌲🌲🌲🌲🌲🌲🌲🌲🌲🌋🌋🌋⛰⛰⛰🌋🌋⛰⛰\n",
      "🌾🌾🌾🌾⛰🌋🌋🌋🌲🌲🌲🌲🐊🐊🌲🌲🌲🌲🌲🌾🌾⛰⛰🌋🌋⛰🌾\n",
      "🌾🌾🌾⛰⛰🌋🌋🌲🌲🌾🌾🐊🐊🐊🐊🌲🌲🌲🌾🌾🌾⛰🌋🌋🌋⛰🌾\n",
      "🌾⛰⛰⛰🌋🌋⛰⛰🌾🌾🌾🌾🐊🐊🐊🐊🐊🌾🌾🌾🌾🌾⛰🌋⛰🌾🌾\n",
      "🌾⛰⛰🌋🌋⛰⛰🌾🌾🌾🌾⛰🌋🌋🌋🐊🐊🐊🌾🌾🌾🌾🌾⛰🌾🌾🌾\n",
      "🌾🌾⛰⛰⛰⛰⛰🌾🌾🌾🌾🌾🌾⛰🌋🌋🌋🐊🐊🐊🌾🌾⛰⛰⛰🌾🌾\n",
      "🌾🌾🌾⛰⛰⛰🌾🌾🌾🌾🌾🌾⛰⛰🌋🌋🌾🐊🐊🌾🌾⛰⛰⛰🌾🌾🌾\n",
      "🌾🌾🌾🐊🐊🐊🌾🌾⛰⛰⛰🌋🌋🌋🌋🌾🌾🌾🐊🌾⛰⛰⛰🌾🌾🌾🌾\n",
      "🌾🌾🐊🐊🐊🐊🐊🌾⛰⛰🌋🌋🌋⛰🌾🌾🌾🌾🌾⛰🌋🌋🌋⛰🌾🌾🌾\n",
      "🌾🐊🐊🐊🐊🐊🌾🌾⛰🌋🌋⛰🌾🌾🌾🌾🐊🐊🌾🌾⛰🌋🌋⛰🌾🌾🌾\n",
      "🐊🐊🐊🐊🐊🌾🌾⛰⛰🌋🌋⛰🌾🐊🐊🐊🐊🌾🌾🌾⛰🌋⛰🌾🌾🌾🌾\n",
      "🌾🐊🐊🐊🐊🌾🌾⛰🌲🌲⛰🌾🌾🌾🌾🐊🐊🐊🐊🌾🌾⛰🌾🌾🌾🌾🌾\n",
      "🌾🌾🌾🌾🌋🌾🌾🌲🌲🌲🌲⛰⛰⛰⛰🌾🐊🐊🐊🌾🌾⛰🌋⛰🌾🌾🌾\n",
      "🌾🌾🌾🌋🌋🌋🌲🌲🌲🌲🌲🌲🌋🌋🌋⛰⛰🌾🐊🌾⛰🌋🌋⛰🌾🌾🌾\n",
      "🌾🌾🌋🌋🌲🌲🌲🌲🌲🌲🌲🌲🌲🌲🌋🌋🌋🌾🌾🌋🌋🌋🌾🌾🌾🌾🌾\n",
      "🌾🌾🌾🌋🌋🌲🌲🌲🌲🌲🌲🌲🌲🌲🌲🌲🌋🌋🌋🌋🌾🌾🌾🌾🌾🌾🌾\n",
      "🌾🌾🌾🌋🌋🌋🌲🌲🌲🌲🌲🌲🌲🌲🌾🌾🌾⛰⛰🌾🌾🌾🌾🌾🌾🌾🌾\n",
      "🌾🌾🌾🌾🌋🌋🌋🌲🌲🌲🌲🌲🌲🌾🌾🌾🌾🌾🌾🌾🌾🌾🌾🐊🐊🐊🐊\n",
      "🌾🌾⛰⛰⛰⛰🌋🌋🌲🌲🌲🌲🌲🌾🌋🌾🌾🌾🌾🌾🐊🐊🐊🐊🐊🐊🐊\n",
      "🌾🌾🌾🌾⛰⛰⛰🌋🌋🌋🌲🌲🌋🌋🌾🌾🌾🌾🌾🌾🐊🐊🐊🐊🐊🐊🐊\n",
      "🌾🌾🌾🌾🌾🌾⛰⛰⛰🌋🌋🌋🌋🌾🌾🌾🌾⛰⛰🌾🌾🐊🐊🐊🐊🐊🐊\n",
      "🌾⛰⛰🌾🌾⛰⛰⛰⛰⛰🌾🌾🌾🌾🌾⛰⛰🌋🌋⛰⛰🌾🐊🐊🐊🐊🐊\n",
      "⛰🌋⛰⛰⛰⛰🌾🌾🌾🌾🌾🌋🌋🌋⛰⛰🌋🌋🌾🌋🌋⛰⛰🐊🐊🐊🐊\n",
      "⛰🌋🌋🌋⛰🌾🌾🌾🌾🌾⛰⛰🌋🌋🌋🌋⛰⛰⛰⛰🌋🌋🌋🐊🐊🐊🐊\n",
      "⛰⛰🌾🌾🌾🌾🌾🌾🌾🌾🌾🌾⛰⛰⛰⛰⛰🌾🌾🌾🌾⛰⛰⛰🌾🌾🌾\n"
     ]
    }
   ],
   "source": [
    "for line in full_world:\n",
    "    print(\"\".join(line))"
   ]
  },
  {
   "cell_type": "markdown",
   "metadata": {},
   "source": [
    "## Warning\n",
    "\n",
    "One implication of this representation is that (x, y) is world[ y][ x] so that (3, 2) is world[ 2][ 3] and world[ 7][ 9] is (9, 7). Yes, there are many ways to do this. I picked this representation because when you look at it, it *looks* like a regular x, y cartesian grid and it's easy to print out.\n",
    "\n",
    "It is often easier to begin your programming by operating on test input that has an obvious solution. If we had a small 7x7 world with the following characteristics:"
   ]
  },
  {
   "cell_type": "code",
   "execution_count": 3,
   "metadata": {},
   "outputs": [],
   "source": [
    "small_world = [\n",
    "    ['🌾', '🌲', '🌲', '🌲', '🌲', '🌲', '🌲'],\n",
    "    ['🌾', '🌲', '🌲', '🌲', '🌲', '🌲', '🌲'],\n",
    "    ['🌾', '🌲', '🌲', '🌲', '🌲', '🌲', '🌲'],\n",
    "    ['🌾', '🌾', '🌾', '🌾', '🌾', '🌾', '🌾'],\n",
    "    ['🌲', '🌲', '🌲', '🌲', '🌲', '🌲', '🌾'],\n",
    "    ['🌲', '🌲', '🌲', '🌲', '🌲', '🌲', '🌾'],\n",
    "    ['🌲', '🌲', '🌲', '🌲', '🌲', '🌲', '🌾']\n",
    "]\n",
    "\n"
   ]
  },
  {
   "cell_type": "markdown",
   "metadata": {},
   "source": [
    "**what do you expect the policy would be?** Think about it for a bit. This will help you with your programming and debugging."
   ]
  },
  {
   "cell_type": "markdown",
   "metadata": {},
   "source": [
    "## States and State Representation\n",
    "\n",
    "The canonical pieces of a State Space Search problem are the States, Actions, Transitions and Costs. \n",
    "\n",
    "We'll start with the state representation. For the navigation problem, a state is the current position of the agent, `(x,y)`. The entire set of possible states is implicitly represented by the world map."
   ]
  },
  {
   "cell_type": "markdown",
   "metadata": {},
   "source": [
    "## Actions and Transitions\n",
    "\n",
    "Next we need to specify the actions. In general, there are a number of different possible action sets in such a world. The agent might be constrained to move north/south/east/west or diagonal moves might be permitted as well (or really anything). When combined with the set of States, the *permissible* actions forms the Transition set.\n",
    "\n",
    "Rather than enumerate the Transition set directly, for this problem it's easier to calculate the available actions and transitions on the fly. This can be done by specifying a *movement model* as offsets to the current state and then checking to see which of the potential successor states are actually permitted. This can be done in the successor function mentioned in the pseudocode.\n",
    "\n",
    "One such example of a movement model is shown below."
   ]
  },
  {
   "cell_type": "code",
   "execution_count": 4,
   "metadata": {},
   "outputs": [],
   "source": [
    "MOVES = [(0,-1), (1,0), (0,1), (-1,0)]"
   ]
  },
  {
   "cell_type": "markdown",
   "metadata": {},
   "source": [
    "## Costs\n",
    "\n",
    "We can encode the costs described above in a `Dict`:"
   ]
  },
  {
   "cell_type": "code",
   "execution_count": 5,
   "metadata": {},
   "outputs": [],
   "source": [
    "COSTS = { '🌾': 1, '🌲': 3, '⛰': 5, '🐊': 7}"
   ]
  },
  {
   "cell_type": "markdown",
   "metadata": {},
   "source": [
    "## Specification\n",
    "\n",
    "You will implement a function called `a_star_search` that takes the parameters and returns the value as specified below. The return value is going to look like this:\n",
    "\n",
    "`[(0,1), (0,1), (0,1), (1,0), (1,0), (1,0), (1,0), (1,0), (1,0), (0,1), (0,1), (0,1)]`\n",
    "\n",
    "You should also implement a function called `pretty_print_path`. \n",
    "The `pretty_print_path` function prints an ASCII representation of the path generated by the `a_star_search` on top of the terrain map. \n",
    "For example, for the test world, it would print this:\n",
    "\n",
    "```\n",
    "⏬🌲🌲🌲🌲🌲🌲\n",
    "⏬🌲🌲🌲🌲🌲🌲\n",
    "⏬🌲🌲🌲🌲🌲🌲\n",
    "⏩⏩⏩⏩⏩⏩⏬\n",
    "🌲🌲🌲🌲🌲🌲⏬\n",
    "🌲🌲🌲🌲🌲🌲⏬\n",
    "🌲🌲🌲🌲🌲🌲🎁\n",
    "```\n",
    "\n",
    "using ⏩,⏪,⏫ ⏬ to represent actions and `🎁` to represent the goal. (Note the format of the output...there are no spaces, commas, or extraneous characters). You are printing the path over the terrain.\n",
    "This is an impure function (because it has side effects, the printing, before returning anything).\n",
    "\n",
    "Note that in Python:\n",
    "```\n",
    "> a = [\"*\", \"-\", \"*\"]\n",
    "> \"\".join(a)\n",
    "*-*\n",
    "```\n",
    "* Do not print raw data structures\n",
    "* Do not insert unneeded/unrequested spaces\n",
    "* Use the provided emojis!\n",
    "\n",
    "### Additional comments\n",
    "\n",
    "As Python is an interpreted language, you're going to need to insert all of your functions *before* the actual `a_star_search` function implementation. \n",
    "Do not make unwarranted assumptions (for example, do not assume that the start is always (0, 0).\n",
    "Do not refer to global variables, pass them as parameters (functional programming).\n",
    "\n",
    "Simple and correct is better than inefficient and incorrect, or worse, incomplete.\n",
    "For example, you can use a simple List, with some helper functions, as a Stack or a Queue or a Priority Queue.\n",
    "Avoid the Python implementations of HeapQ, PriorityQueue implementation unless you are very sure about what you're doing as they require *immutable* keys."
   ]
  },
  {
   "cell_type": "code",
   "execution_count": 6,
   "metadata": {},
   "outputs": [],
   "source": [
    "from typing import List, Tuple, Dict, Callable\n",
    "from copy import deepcopy"
   ]
  },
  {
   "cell_type": "markdown",
   "metadata": {},
   "source": [
    "*add as many markdown and code cells here as you need for helper functions. We have added `heuristic` for you*"
   ]
  },
  {
   "cell_type": "markdown",
   "metadata": {},
   "source": [
    "<a id=\"priority_sort\"></a>\n",
    "## priority_sort\n",
    "`priority_sort` takes a dictionary of states (`Dict[Tuple[int, int], Tuple[int, int, int]]`). It sorts the list in reverse order by the third element in the value tuple - the cost of reaching the key's position. The queue is reverse-sorted so that the lowest priority is popped off the back of the queue in the `a_star_search` function. **Used by:** [a_star_search](#a_star_search)\n",
    "\n",
    "* **queue**: the dictionary with tile coordinates as the keys and moves/cost as the values.\n",
    "\n",
    "**returns** Dict[Tuple[int, int], Tuple[int, int, int]]:: the queue that was passed as a parameter in priority-sorted order (highest to lowest priority)"
   ]
  },
  {
   "cell_type": "code",
   "execution_count": 7,
   "metadata": {},
   "outputs": [],
   "source": [
    "def priority_sort(queue: Dict[Tuple[int, int], Tuple[int, int, int]]) -> Dict[Tuple[int, int], Tuple[int, int, int]]:\n",
    "    return dict(sorted(queue.items(), reverse=True, key=lambda priority: priority[1][2]))"
   ]
  },
  {
   "cell_type": "code",
   "execution_count": 8,
   "metadata": {},
   "outputs": [],
   "source": [
    "# assertions/unit tests\n",
    "q = {(1, 3): (1, 1, 3), (1, 2): (1, 1, 2), (1, 1): (1, 1, 1)}\n",
    "actual_sorted = priority_sort(q)\n",
    "assert str(actual_sorted) == \"{(1, 3): (1, 1, 3), (1, 2): (1, 1, 2), (1, 1): (1, 1, 1)}\"\n",
    "\n",
    "q = {(1, -3): (1, 1, -3), (1, -2): (1, 1, -2), (1, -1): (1, 1, -1)}\n",
    "actual_sorted = priority_sort(q)\n",
    "assert str(actual_sorted) == \"{(1, -1): (1, 1, -1), (1, -2): (1, 1, -2), (1, -3): (1, 1, -3)}\"\n",
    "\n",
    "q = {}\n",
    "actual_sorted = priority_sort(q)\n",
    "assert str(actual_sorted) == \"{}\""
   ]
  },
  {
   "cell_type": "markdown",
   "metadata": {},
   "source": [
    "<a id=\"path\"></a>\n",
    "## path\n",
    "\n",
    "`path` takes a start node, destination node and an explored list, and returns the path from the destination node to the start node. The explored list is a dictionary that maps a node to the move taken to reach that node. Every element is added to a stack and the stack is reversed at the end to return an in-order list of moves to take to get from the destination to the start node. **Used by:** [a_star_search](#a_star_search)\n",
    "\n",
    "* **start**: the node at which we begin backtracking our path\n",
    "* **destination**: the node to which we want to find a path\n",
    "* **explored**: a mapping of every node (key) to the move that it took to get to the node (value)\n",
    "\n",
    "**returns** List[Tuple[int, int]]: a list of moves to take from destination to reach start."
   ]
  },
  {
   "cell_type": "code",
   "execution_count": 9,
   "metadata": {},
   "outputs": [],
   "source": [
    "def path(destination: Tuple[int, int], start: Tuple[int, int], explored: Dict[Tuple[int, int], Tuple[int, int]]) -> List[Tuple[int, int]]:\n",
    "    curr = start\n",
    "    stack = []\n",
    "\n",
    "    while curr != destination:\n",
    "        move = explored[curr][0:2]\n",
    "        stack.append(move)\n",
    "        curr = (curr[0] - move[0], curr[1] - move[1])\n",
    "        \n",
    "    stack.reverse()\n",
    "    return stack"
   ]
  },
  {
   "cell_type": "code",
   "execution_count": 10,
   "metadata": {},
   "outputs": [],
   "source": [
    "# assertions/unit tests\n",
    "explored = {(0, 0): (0, 0, 0), (0, 1): (0, 1, 12), (0, 2): (0, 1, 11), (0, 3): (0, 1, 10), (1, 3): (1, 0, 9), (2, 3): (1, 0, 8), (3, 3): (1, 0, 7), (4, 3): (1, 0, 6), (5, 3): (1, 0, 5), (6, 3): (1, 0, 4), (6, 4): (0, 1, 3), (6, 5): (0, 1, 2), (6, 6): (0, 1, 0)}\n",
    "pt = path((0, 0), (6, 6), explored)\n",
    "\n",
    "assert pt == [(0, 1), (0, 1), (0, 1), (1, 0), (1, 0), (1, 0), (1, 0), (1, 0), (1, 0), (0, 1), (0, 1), (0, 1)]\n",
    "\n",
    "pt = path((0, 0), (3, 3), explored)\n",
    "assert pt == [(0, 1), (0, 1), (0, 1), (1, 0), (1, 0), (1, 0)]\n",
    "\n",
    "pt = path((0, 0), (0, 0), explored)\n",
    "assert pt == []"
   ]
  },
  {
   "cell_type": "markdown",
   "metadata": {},
   "source": [
    "<a id=\"successors\"></a>\n",
    "## successors\n",
    "\n",
    "`successors` takes a current state, the world map, and a list of possible moves, and returns a list of children that can be reached from the current tile. The function computes possible successor states \"on the fly\" and uses the action set (`moves`) to determine the possible transitions available, rather than using an enumerated transition set. To determine valid transitions, the function checks the adjacent four tiles (up, right, down, left in that order) to see whether they are:\n",
    "* traversable (not 🌋)\n",
    "* in the world map boundaries\n",
    "\n",
    "The function returns a list of successor states, with the first two elements corresponding to the child coordinates (x_to_check, y_to_check), and the third and fourth elements corresponding to the move taken to get to the child (move_x, move_y). **Used by:** [a_star_search](#a_star_search)\n",
    "\n",
    "* **world**: a map of the world to check the conditions listed above\n",
    "* **curr**: the current tile for which the successors will be returned\n",
    "* **moves**: a list of moves to be checked\n",
    "\n",
    "**returns** List[Tuple(x, y, move_x, move_y)]: a list of successor coordinate tuples\n"
   ]
  },
  {
   "cell_type": "code",
   "execution_count": 11,
   "metadata": {},
   "outputs": [],
   "source": [
    "def successors( world: List[List[str]], curr: Tuple[int, int], moves: List[Tuple[int, int]]) -> List[Tuple[int, int, int, int]]:\n",
    "    children = []\n",
    "    for (move_x, move_y) in moves:\n",
    "        x_to_check = curr[0] + move_x\n",
    "        y_to_check = curr[1] + move_y\n",
    "        if  y_to_check < len(world) and y_to_check >= 0 and x_to_check < len(world[y_to_check]) and x_to_check >= 0 and world[y_to_check][x_to_check] != \"🌋\":\n",
    "            children.append((x_to_check, y_to_check, move_x, move_y))\n",
    "    return children"
   ]
  },
  {
   "cell_type": "code",
   "execution_count": 12,
   "metadata": {},
   "outputs": [],
   "source": [
    "# assertions/unit tests\n",
    "curr = [0, 0]\n",
    "actual_children = successors(small_world, curr, MOVES)\n",
    "assert actual_children == [(1, 0, 1, 0), (0, 1, 0, 1)]\n",
    "\n",
    "curr = [6, 6]\n",
    "actual_children = successors(small_world, curr, MOVES)\n",
    "assert actual_children == [(6, 5, 0, -1), (5, 6, -1, 0)]\n",
    "\n",
    "# volcano is located at (4, 2) - verify volcano is not added to successors\n",
    "curr = [3, 2]\n",
    "actual_children = successors(full_world, curr, MOVES)\n",
    "assert actual_children == [(3, 1, 0, -1), (3, 3, 0, 1), (2, 2, -1, 0)]\n"
   ]
  },
  {
   "cell_type": "markdown",
   "metadata": {},
   "source": [
    "<a id=\"heuristic\"></a>\n",
    "## heuristic\n",
    "`heuristic` takes a current position and a goal position and returns the estimated cost from the current position to the goal. To do so, it takes the Manhatten distance from the current to the goal position. This is an *admissible* heuristic, since it approximates the minimum cost path (it assumes the path is all tiles of weight 1, and we can only move in cartesian directions). **Used by:** [a_star_search](#a_star_search), [compute_cost](#compute_cost)\n",
    "\n",
    "* **curr**: the current tile at which the heuristic is being approximated\n",
    "* **goal**: the goal of the `a_star_search` algorithm\n",
    "\n",
    "**returns** int: the estimated cost of reaching goal from curr\n"
   ]
  },
  {
   "cell_type": "code",
   "execution_count": 13,
   "metadata": {},
   "outputs": [],
   "source": [
    "def heuristic(curr: Tuple[int, int], goal: Tuple[int, int]) -> int:\n",
    "    return abs(goal[1] - curr[1]) + abs(goal[0] - curr[0])"
   ]
  },
  {
   "cell_type": "code",
   "execution_count": 14,
   "metadata": {},
   "outputs": [],
   "source": [
    "# assertions/unit tests\n",
    "curr = [0, 0]\n",
    "goal = [6, 6]\n",
    "actual_heuristic = heuristic(curr, goal)\n",
    "assert actual_heuristic == 12\n",
    "\n",
    "curr = [5, 5]\n",
    "actual_heuristic = heuristic(curr, goal)\n",
    "assert actual_heuristic == 2\n",
    "\n",
    "curr = [6, 6]\n",
    "actual_heuristic = heuristic(curr, goal)\n",
    "assert actual_heuristic == 0"
   ]
  },
  {
   "cell_type": "markdown",
   "metadata": {},
   "source": [
    "<a id=\"compute_cost\"></a>\n",
    "## compute_cost\n",
    "\n",
    "`compute_cost` takes the current x-y position, the move taken to get there, the goal tile, the explored list, the world map, and a list of costs and computes the cost of reaching the goal from the current position. By looking up the position and the previous move, it looks up the total cost to the parent node from the explored list and adds the cost of traversing to the current tile, as well as the heuristic cost to reach the goal from the current tile. It returns a total cost value for `child`. **Uses**: [heuristic](#heuristic). **Used by:** [a_star_search](#a_star_search).\n",
    "\n",
    "* **child**: the coordinates of the current child being computed.\n",
    "* **move**: the move taken to reach the current child\n",
    "* **goal**: the goal tile of the `a_star_search`\n",
    "* **explored**: the dictionary of nodes previously explored, including the parent of `child`\n",
    "* **world**: the world map\n",
    "* **costs**: a dictionary of costs for each tile type in `world`\n",
    "\n",
    "**returns** int: the total cost of the current path estimated by the cost to reach the current node and the heuristic cost."
   ]
  },
  {
   "cell_type": "code",
   "execution_count": 15,
   "metadata": {},
   "outputs": [],
   "source": [
    "def compute_cost(curr: Tuple[int, int], move: Tuple[int, int], goal: Tuple[int, int], explored: Dict[Tuple[int, int], Tuple[int, int, int]], world: List[List[str]], costs: Dict[str, int]) -> int:\n",
    "    if curr == goal:\n",
    "        return 0\n",
    "    parent = (curr[0] - move[0], curr[1] - move[1])\n",
    "    total_cost = explored[parent][2] if parent in explored else 0\n",
    "    total_cost += costs[world[curr[1]][curr[0]]] + heuristic(curr, goal)\n",
    "    return total_cost"
   ]
  },
  {
   "cell_type": "code",
   "execution_count": 16,
   "metadata": {},
   "outputs": [],
   "source": [
    "# assertions/unit tests\n",
    "explored = {(0, 0): (0, 0, 0), (1, 0): (1, 0, 12), (2, 0): (1, 0, 11), (3, 0): (1, 0, 10), (3, 1): (0, 1, 9), (3, 2): (0, 1, 8), (3, 3): (0, 1, 7), (3, 4): (0, 1, 6), (3, 5): (0, 1, 5), (3, 6): (0, 1, 4), (4, 6): (1, 0, 3), (5, 6): (1, 0, 2), (6, 6): (1, 0, 1)}\n",
    "actual_cost = compute_cost((0, 1), (0, 1), (6, 6), explored, small_world, COSTS)\n",
    "assert actual_cost == 12\n",
    "\n",
    "actual_cost = compute_cost((1, 0), (1, 0), (6, 6), explored, small_world, COSTS)\n",
    "assert actual_cost == 14\n",
    "\n",
    "actual_cost = compute_cost((6, 6), (6, 5), (6, 6), explored, small_world, COSTS)\n",
    "assert actual_cost == 0"
   ]
  },
  {
   "cell_type": "markdown",
   "metadata": {},
   "source": [
    "<a id=\"pretty_print_helper\"></a>\n",
    "## pretty_print_helper\n",
    "\n",
    "`pretty_print_helper` takes in a move and returns a corresponding character that represents that move on the world map. **Used by**: [pretty_print_path](#pretty_print_path)\n",
    "\n",
    "* **move**: a tuple representing a move to be taken\n",
    "\n",
    "**returns** str: an emoji string that represents the move"
   ]
  },
  {
   "cell_type": "code",
   "execution_count": 17,
   "metadata": {},
   "outputs": [],
   "source": [
    "def pretty_print_helper(move: Tuple[int, int]) -> str:\n",
    "    if move == (0, 1):\n",
    "        return \"⏬\"\n",
    "    elif move == (1, 0):\n",
    "        return \"⏩\"\n",
    "    elif move == (0, -1):\n",
    "        return \"⏫\"\n",
    "    else: \n",
    "        return \"⏪\""
   ]
  },
  {
   "cell_type": "code",
   "execution_count": 18,
   "metadata": {},
   "outputs": [],
   "source": [
    "# assertions/unit tests\n",
    "move = (0, 1)\n",
    "assert pretty_print_helper(move) == \"⏬\"\n",
    "\n",
    "move = (1, 0)\n",
    "assert pretty_print_helper(move) == \"⏩\"\n",
    "\n",
    "move = (-1, 0)\n",
    "assert pretty_print_helper(move) == \"⏪\""
   ]
  },
  {
   "cell_type": "markdown",
   "metadata": {},
   "source": [
    "<a id=\"a_star_search\"></a>\n",
    "## a_star_search\n",
    "\n",
    "`a_star_search` is a state space search algorithm that utilizes a heuristic cost to determine which child path to visit at every step. This implementation takes a world map of emojis, a start coordinate, a goal coordinate, a list of costs for every emoji, a list of moves that represent the action set, and a heuristic function to determine the cost of a branch. \n",
    "\n",
    "The states in this algorithm are represented as key-value pairs: the keys are coordinate-tuples `(x, y)`, and the values are `(move_x, move_y, cost)` tuples that represent the move taken to get to the current state, as well as the cost required to reach the current state. The `frontier` is implemented as a priority stack of states, which is sorted by cost in descending order after pushing all children from each iteration using `priority_sort`. Similarly, the `explored` list is a dictionary of states.\n",
    "\n",
    "\n",
    "**Uses:** [path](#path), [successors](#successors), [compute_cost](#compute_cost), [priority_sort](#priority_sort)\n",
    "* **world** List[List[str]]: the actual context for the navigation problem.\n",
    "* **start** Tuple[int, int]: the starting location of the bot, `(x, y)`.\n",
    "* **goal** Tuple[int, int]: the desired goal position for the bot, `(x, y)`.\n",
    "* **costs** Dict[str, int]: is a `Dict` of costs for each type of terrain in **world**.\n",
    "* **moves** List[Tuple[int, int]]: the legal movement model expressed in offsets in **world**.\n",
    "* **heuristic** Callable: is a heuristic function, $h(n)$.\n",
    "\n",
    "\n",
    "**returns** List[Tuple[int, int]]: the offsets needed to get from start state to the goal as a `List`.\n"
   ]
  },
  {
   "cell_type": "code",
   "execution_count": 19,
   "metadata": {},
   "outputs": [],
   "source": [
    "def a_star_search( world: List[List[str]], start: Tuple[int, int], goal: Tuple[int, int], costs: Dict[str, int], moves: List[Tuple[int, int]], heuristic: Callable) -> List[Tuple[int, int]]:\n",
    "    frontier, explored = {start: (0, 0, 0)}, {}\n",
    "    final_path = []\n",
    "    while frontier:\n",
    "        current_state = frontier.popitem()\n",
    "        if current_state[0] == goal:\n",
    "            explored[current_state[0]] = current_state[1]\n",
    "            final_path = path(start, current_state[0], explored)\n",
    "            break\n",
    "        children = successors(world, current_state[0], moves)\n",
    "        for (child_x, child_y, move_x, move_y) in children:\n",
    "            if (child_x, child_y) not in explored:\n",
    "                cost = compute_cost((child_x, child_y), (move_x, move_y), goal, explored, world, costs)\n",
    "                if (child_x, child_y) not in frontier or frontier[(child_x, child_y)][2] > cost:\n",
    "                    frontier[(child_x, child_y)] = (move_x, move_y, cost)\n",
    "        frontier = priority_sort(frontier)\n",
    "        explored[current_state[0]] = current_state[1]\n",
    "    return final_path"
   ]
  },
  {
   "cell_type": "markdown",
   "metadata": {},
   "source": [
    "<a id=\"pretty_print_path\"></a>\n",
    "## pretty_print_path\n",
    "\n",
    "`pretty_print_path` takes in a world map, a path, a start and goal position, and a list of costs, and returns the cost of traversing the path and also prints the new world with an emoji-art path drawn from the start to the goal. The goal is notated with a \"🎁\" symbol, and each of the four cardinal directions is represented by its own emoji. This function is **destructive**, as it replaces the original `world` tiles with direction tiles. **Uses:** [pretty_print_helper](#pretty_print_helper).\n",
    "\n",
    "* **world** List[List[str]]: the world (terrain map) for the path to be printed upon.\n",
    "* **path** List[Tuple[int, int]]: the path from start to goal, in offsets.\n",
    "* **start** Tuple[int, int]: the starting location for the path.\n",
    "* **goal** Tuple[int, int]: the goal location for the path.\n",
    "* **costs** Dict[str, int]: the costs for each action.\n",
    "\n",
    "**returns** int - The path cost."
   ]
  },
  {
   "cell_type": "markdown",
   "metadata": {},
   "source": [
    "\n",
    "<div style=\"background: lemonchiffon; margin:20px; padding: 20px;\">\n",
    "    <strong>Important</strong>\n",
    "    <p>\n",
    "        Does your output of pretty_print_path really look like the specification? Go check again.\n",
    "    </p>\n",
    "</div>"
   ]
  },
  {
   "cell_type": "code",
   "execution_count": 20,
   "metadata": {},
   "outputs": [],
   "source": [
    "def pretty_print_path( world: List[List[str]], path: List[Tuple[int, int]], start: Tuple[int, int], goal: Tuple[int, int], costs: Dict[str, int]) -> int:\n",
    "    curr, path_cost = start, 0\n",
    "    for move in path:\n",
    "        path_cost += costs[world[curr[1]][curr[0]]]\n",
    "        world[curr[1]][curr[0]] = pretty_print_helper(move)\n",
    "        curr = (curr[0] + move[0], curr[1] + move[1])\n",
    "    world[goal[1]][goal[0]] = \"🎁\"\n",
    "        \n",
    "    for row in world: \n",
    "        print(\"\".join(row))\n",
    "    return path_cost"
   ]
  },
  {
   "cell_type": "markdown",
   "metadata": {},
   "source": [
    "## Problems"
   ]
  },
  {
   "cell_type": "markdown",
   "metadata": {},
   "source": [
    "## Problem 1. \n",
    "\n",
    "Execute `a_star_search` and `pretty_print_path` for the `small_world`.\n",
    "\n",
    "If you change any values while developing your code, make sure you change them back! (Better yet, don't do it. Copy them elsewhere and change the values, then delete those experiments)."
   ]
  },
  {
   "cell_type": "code",
   "execution_count": 21,
   "metadata": {},
   "outputs": [
    {
     "name": "stdout",
     "output_type": "stream",
     "text": [
      "⏬🌲🌲🌲🌲🌲🌲\n",
      "⏬🌲🌲🌲🌲🌲🌲\n",
      "⏬🌲🌲🌲🌲🌲🌲\n",
      "⏩⏩⏩⏩⏩⏩⏬\n",
      "🌲🌲🌲🌲🌲🌲⏬\n",
      "🌲🌲🌲🌲🌲🌲⏬\n",
      "🌲🌲🌲🌲🌲🌲🎁\n",
      "total path cost: 12\n",
      "[(0, 1), (0, 1), (0, 1), (1, 0), (1, 0), (1, 0), (1, 0), (1, 0), (1, 0), (0, 1), (0, 1), (0, 1)]\n"
     ]
    }
   ],
   "source": [
    "small_start = (0, 0)\n",
    "small_goal = (len(small_world[0]) - 1, len(small_world) - 1)\n",
    "small_path = a_star_search(small_world, small_start, small_goal, COSTS, MOVES, heuristic)\n",
    "small_path_cost = pretty_print_path(small_world, small_path, small_start, small_goal, COSTS)\n",
    "print(f\"total path cost: {small_path_cost}\")\n",
    "print(small_path)"
   ]
  },
  {
   "cell_type": "markdown",
   "metadata": {},
   "source": [
    "## Problem 2\n",
    "\n",
    "Execute `a_star_search` and `print_path` for the `full_world`"
   ]
  },
  {
   "cell_type": "code",
   "execution_count": 22,
   "metadata": {},
   "outputs": [
    {
     "name": "stdout",
     "output_type": "stream",
     "text": [
      "⏬🌾🌾🌾🌾🌲🌲🌲🌲🌲🌲🌲🌲🌲🌲🌾🌾🌾🌾🌾🌾🌾🌾🌾🌾🌾🌾\n",
      "⏬🌾🌾🌾🌾🌾🌾🌲🌲🌲🌲🌲🌲🌲🌲🌲🌾🌾🌋🌋🌋🌋🌋🌋🌋🌾🌾\n",
      "⏬🌾🌾🌾🌋🌋🌲🌲🌲🌲🌲🌲🌲🌲🌲🌲🌲🌋🌋🌋⛰⛰⛰🌋🌋⛰⛰\n",
      "⏬🌾🌾🌾⛰🌋🌋🌋🌲🌲🌲🌲🐊🐊🌲🌲🌲🌲🌲🌾🌾⛰⛰🌋🌋⛰🌾\n",
      "⏬🌾🌾⛰⛰🌋🌋🌲🌲🌾🌾🐊🐊🐊🐊🌲🌲🌲🌾🌾🌾⛰🌋🌋🌋⛰🌾\n",
      "⏬⛰⛰⛰🌋🌋⛰⛰🌾🌾🌾🌾🐊🐊🐊🐊🐊🌾🌾🌾🌾🌾⛰🌋⛰🌾🌾\n",
      "⏬⛰⛰🌋🌋⛰⛰🌾🌾🌾🌾⛰🌋🌋🌋🐊🐊🐊🌾🌾🌾🌾🌾⛰🌾🌾🌾\n",
      "⏬🌾⛰⛰⛰⛰⛰🌾🌾🌾🌾🌾🌾⛰🌋🌋🌋🐊🐊🐊🌾🌾⛰⛰⛰🌾🌾\n",
      "⏬🌾⏩⏩⏩⏩⏬🌾🌾🌾🌾🌾⛰⛰🌋🌋🌾🐊🐊🌾🌾⛰⛰⛰🌾🌾🌾\n",
      "⏩⏩⏫🐊🐊🐊⏩⏬⛰⛰⛰🌋🌋🌋🌋🌾🌾🌾🐊🌾⛰⛰⛰🌾🌾🌾🌾\n",
      "🌾🌾🐊🐊🐊🐊🐊⏬⛰⛰🌋🌋🌋⛰🌾🌾🌾🌾🌾⛰🌋🌋🌋⛰🌾🌾🌾\n",
      "🌾🐊🐊🐊🐊🐊⏬⏪⛰🌋🌋⛰🌾🌾🌾🌾🐊🐊🌾🌾⛰🌋🌋⛰🌾🌾🌾\n",
      "🐊🐊🐊🐊🐊🌾⏬⛰⛰🌋🌋⛰🌾🐊🐊🐊🐊🌾🌾🌾⛰🌋⛰🌾🌾🌾🌾\n",
      "🌾🐊🐊🐊🐊🌾⏬⛰🌲🌲⛰🌾🌾🌾🌾🐊🐊🐊🐊🌾🌾⛰🌾🌾🌾🌾🌾\n",
      "🌾🌾🌾🌾🌋🌾⏬🌲🌲🌲🌲⛰⛰⛰⛰🌾🐊🐊🐊🌾🌾⛰🌋⛰🌾🌾🌾\n",
      "🌾🌾🌾🌋🌋🌋⏬🌲🌲🌲🌲🌲🌋🌋🌋⛰⛰🌾🐊🌾⛰🌋🌋⛰🌾🌾🌾\n",
      "🌾🌾🌋🌋🌲🌲⏬🌲🌲🌲🌲🌲🌲🌲🌋🌋🌋🌾🌾🌋🌋🌋🌾🌾🌾🌾🌾\n",
      "🌾🌾🌾🌋🌋🌲⏬🌲🌲🌲🌲🌲🌲🌲🌲🌲🌋🌋🌋🌋🌾🌾🌾🌾🌾🌾🌾\n",
      "🌾🌾🌾🌋🌋🌋⏩⏬🌲🌲🌲🌲🌲🌲🌾🌾🌾⛰⛰🌾🌾🌾🌾🌾🌾🌾🌾\n",
      "🌾🌾🌾🌾🌋🌋🌋⏩⏬🌲🌲🌲🌲⏩⏩⏬🌾🌾🌾🌾🌾🌾🌾🐊🐊🐊🐊\n",
      "🌾🌾⛰⛰⛰⛰🌋🌋⏩⏩⏩⏩⏩⏫🌋⏬🌾🌾🌾🌾🐊🐊🐊🐊🐊🐊🐊\n",
      "🌾🌾🌾🌾⛰⛰⛰🌋🌋🌋🌲🌲🌋🌋🌾⏩⏩⏩⏩⏬🐊🐊🐊🐊🐊🐊🐊\n",
      "🌾🌾🌾🌾🌾🌾⛰⛰⛰🌋🌋🌋🌋🌾🌾🌾🌾⛰⛰⏩⏬🐊🐊🐊🐊🐊🐊\n",
      "🌾⛰⛰🌾🌾⛰⛰⛰⛰⛰🌾🌾🌾🌾🌾⛰⛰🌋🌋⛰⏩⏬🐊🐊🐊🐊🐊\n",
      "⛰🌋⛰⛰⛰⛰🌾🌾🌾🌾🌾🌋🌋🌋⛰⛰🌋🌋🌾🌋🌋⏩⏩⏬🐊🐊🐊\n",
      "⛰🌋🌋🌋⛰🌾🌾🌾🌾🌾⛰⛰🌋🌋🌋🌋⛰⛰⛰⛰🌋🌋🌋⏬🐊🐊🐊\n",
      "⛰⛰🌾🌾🌾🌾🌾🌾🌾🌾🌾🌾⛰⛰⛰⛰⛰🌾🌾🌾🌾⛰⛰⏩⏩⏩🎁\n",
      "total path cost: 122\n",
      "[(0, 1), (0, 1), (0, 1), (0, 1), (0, 1), (0, 1), (0, 1), (0, 1), (0, 1), (1, 0), (1, 0), (0, -1), (1, 0), (1, 0), (1, 0), (1, 0), (0, 1), (1, 0), (0, 1), (0, 1), (-1, 0), (0, 1), (0, 1), (0, 1), (0, 1), (0, 1), (0, 1), (0, 1), (1, 0), (0, 1), (1, 0), (0, 1), (1, 0), (1, 0), (1, 0), (1, 0), (1, 0), (0, -1), (1, 0), (1, 0), (0, 1), (0, 1), (1, 0), (1, 0), (1, 0), (1, 0), (0, 1), (1, 0), (0, 1), (1, 0), (0, 1), (1, 0), (1, 0), (0, 1), (0, 1), (1, 0), (1, 0), (1, 0)]\n"
     ]
    }
   ],
   "source": [
    "full_start = (0, 0)\n",
    "full_goal = (len(full_world[0]) - 1, len(full_world) - 1)\n",
    "full_path = a_star_search(full_world, full_start, full_goal, COSTS, MOVES, heuristic)\n",
    "full_path_cost = pretty_print_path(full_world, full_path, full_start, full_goal, COSTS)\n",
    "print(f\"total path cost: {full_path_cost}\")\n",
    "print(full_path)"
   ]
  },
  {
   "cell_type": "markdown",
   "metadata": {},
   "source": [
    "## Comments\n",
    "\n",
    "(This is the place to leave me comments)"
   ]
  },
  {
   "cell_type": "markdown",
   "metadata": {},
   "source": [
    "## To think about for future assignments..."
   ]
  },
  {
   "cell_type": "markdown",
   "metadata": {},
   "source": [
    "This first assignment may not have been difficult for you if you've encountered A* search before in your Algorithms course. In preparation for future assignments that build on State Space Search, you can think about the following or even do an implementation if you like. You should **not** submit it as part of this assignment.\n",
    "\n",
    "In several future assignments, we will have a need for a \"plain ol'\" Depth First Search algorithm.\n",
    "\n",
    "1. Implement DFS Search to solve the problem presented in this programming assignment. Try to be as general as possible (don't hard code anything you can pass as a formal parameter).\n",
    "2. Can you implement DFS Search as a higher order function and supply your own `is_goal`, `successors`, and `path` functions? How do you handle *state*?\n",
    "3. Can you write a version of DFS that returns all the solutions?\n",
    "\n",
    "In one future assignment a Breadth First Search algorithm will be very handy. Can you implement a search algorithm that changes whether it uses DFS or BFS by parameterization?"
   ]
  },
  {
   "cell_type": "markdown",
   "metadata": {},
   "source": [
    "## Before You Submit...\n",
    "\n",
    "1. Did you provide output exactly as requested?\n",
    "2. Did you follow the Programming Requirements on Canvas?\n",
    "\n",
    "Do not submit any other files."
   ]
  }
 ],
 "metadata": {
  "kernelspec": {
   "display_name": "Python (en605645)",
   "language": "python",
   "name": "en605645"
  },
  "language_info": {
   "codemirror_mode": {
    "name": "ipython",
    "version": 3
   },
   "file_extension": ".py",
   "mimetype": "text/x-python",
   "name": "python",
   "nbconvert_exporter": "python",
   "pygments_lexer": "ipython3",
   "version": "3.11.7"
  },
  "toc": {
   "colors": {
    "hover_highlight": "#DAA520",
    "navigate_num": "#000000",
    "navigate_text": "#333333",
    "running_highlight": "#FF0000",
    "selected_highlight": "#FFD700",
    "sidebar_border": "#EEEEEE",
    "wrapper_background": "#FFFFFF"
   },
   "moveMenuLeft": true,
   "nav_menu": {
    "height": "192px",
    "width": "252px"
   },
   "navigate_menu": true,
   "number_sections": true,
   "sideBar": true,
   "threshold": 4,
   "toc_cell": false,
   "toc_section_display": "block",
   "toc_window_display": false,
   "widenNotebook": false
  }
 },
 "nbformat": 4,
 "nbformat_minor": 4
}
