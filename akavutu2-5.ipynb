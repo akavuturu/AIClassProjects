{
 "cells": [
  {
   "cell_type": "markdown",
   "metadata": {},
   "source": [
    "# Module 5 - Programming Assignment\n",
    "\n",
    "## Directions\n",
    "\n",
    "1. Change the name of this file to be your JHED id as in `jsmith299.ipynb`. Because sure you use your JHED ID (it's made out of your name and not your student id which is just letters and numbers).\n",
    "2. Make sure the notebook you submit is cleanly and fully executed. I do not grade unexecuted notebooks.\n",
    "3. Submit your notebook back in Blackboard where you downloaded this file.\n",
    "\n",
    "*Provide the output **exactly** as requested*"
   ]
  },
  {
   "cell_type": "markdown",
   "metadata": {},
   "source": [
    "## Solving Normal Form Games"
   ]
  },
  {
   "cell_type": "code",
   "execution_count": 1,
   "metadata": {},
   "outputs": [],
   "source": [
    "from typing import List, Tuple, Dict, Callable\n",
    "from copy import deepcopy"
   ]
  },
  {
   "cell_type": "markdown",
   "metadata": {},
   "source": [
    "In the lecture we talked about the Prisoner's Dilemma game, shown here in Normal Form:\n",
    "\n",
    "Player 1 / Player 2  | Defect | Cooperate\n",
    "------------- | ------------- | -------------\n",
    "Defect  | -5, -5 | -1, -10\n",
    "Cooperate  | -10, -1 | -2, -2\n",
    "\n",
    "where the payoff to Player 1 is the left number and the payoff to Player 2 is the right number. We can represent each payoff cell as a Tuple: `(-5, -5)`, for example. We can represent each row as a List of Tuples: `[(-5, -5), (-1, -10)]` would be the first row and the entire table as a List of Lists:"
   ]
  },
  {
   "cell_type": "code",
   "execution_count": 2,
   "metadata": {},
   "outputs": [
    {
     "data": {
      "text/plain": [
       "[[(-5, -5), (-1, -10)], [(-10, -1), (-2, -2)]]"
      ]
     },
     "execution_count": 2,
     "metadata": {},
     "output_type": "execute_result"
    }
   ],
   "source": [
    "prisoners_dilemma = [\n",
    " [( -5, -5), (-1,-10)],\n",
    " [(-10, -1), (-2, -2)]]\n",
    "\n",
    "prisoners_dilemma"
   ]
  },
  {
   "cell_type": "markdown",
   "metadata": {},
   "source": [
    "in which case the strategies are represented by indices into the List of Lists. For example, `(Defect, Cooperate)` for the above game becomes `prisoners_dilemma[ 0][ 1]` and returns the payoff `(-1, -10)` because 0 is the first row of the table (\"Defect\" for Player 1) and 1 is the 2nd column of the row (\"Cooperate\" for Player 2).\n",
    "\n",
    "For this assignment, you are going write a function that uses Successive Elimination of Dominated Strategies (SEDS) to find the **pure strategy** Nash Equilibrium of a Normal Form Game. The function is called `solve_game`:\n",
    "\n",
    "```python\n",
    "def solve_game( game: List[List[Tuple]], weak=False) -> List[Tuple]:\n",
    "    pass # returns strategy indices of Nash equilibrium or None.\n",
    "```\n",
    "\n",
    "and it takes two parameters: the game, in a format that we described earlier and an optional boolean flag that controls whether the algorithm considers only **strongly dominated strategies** (the default will be false) or whether it should consider **weakly dominated strategies** as well.\n",
    "\n",
    "It should work with game matrices of any size and it will return the **strategy indices** of the Nash Equilibrium. If there is no **pure strategy** equilibrium that can be found using SEDS, return the empty List (`[]`).\n",
    "\n",
    "\n",
    "<div style=\"background: mistyrose; color: firebrick; border: 2px solid darkred; padding: 5px; margin: 10px;\">\n",
    "Do not return the payoff. That's not useful. Return the strategy indices, any other output is incorrect.\n",
    "</div>\n",
    "\n",
    "As before, you must provide your implementation in the space below, one Markdown cell for documentation and one Code cell for implementation, one function and assertations per Codecell.\n",
    "\n",
    "\n",
    "---"
   ]
  },
  {
   "cell_type": "markdown",
   "metadata": {},
   "source": [
    "<a id=\"stateify_game\"></a>\n",
    "## stateify_game\n",
    "\n",
    "`stateify_game` makes the `game` into a state for State Space Search. To do so, it adds two elements to the tuples in `game`: the strategy numbers for each player. The new cell layout is: `(P1 strategy, P2 strategy, P1 payoff, P2 payoff)`. The function returns a new game board and does not modify the original. **Used by**: [solve_game](#solve_game)\n",
    "\n",
    "* **game**: the game board to stateify\n",
    "\n",
    "**returns** `List[List[Tuple]]`: the new game board as a state"
   ]
  },
  {
   "cell_type": "code",
   "execution_count": 3,
   "metadata": {},
   "outputs": [],
   "source": [
    "def stateify_game(game: List[List[Tuple]]) -> List[List[Tuple]]:\n",
    "    game_state = []\n",
    "    for row in range(len(game)):\n",
    "        game_state.append([(row, col, elem[0], elem[1]) for col, elem in enumerate(game[row])])\n",
    "    return game_state"
   ]
  },
  {
   "cell_type": "code",
   "execution_count": 4,
   "metadata": {},
   "outputs": [],
   "source": [
    "# assertions/unit tests\n",
    "test_game =  [[( -5, -5), (-1,-10)],\n",
    "        [(-10, -1), (-2, -2)]]\n",
    "actual_game = stateify_game(test_game)\n",
    "assert actual_game == [[(0, 0, -5, -5), (0, 1, -1, -10)], \n",
    "                       [(1, 0, -10, -1), (1, 1, -2, -2)]]\n",
    "\n",
    "test_game = [[(0, 0), (0, 1)],\n",
    "             [(1, 0), (1, 1)]]\n",
    "actual_game = stateify_game(test_game)\n",
    "assert actual_game == [[(0, 0, 0, 0), (0, 1, 0, 1)], [(1, 0, 1, 0), (1, 1, 1, 1)]]\n",
    "\n",
    "test_game = []\n",
    "actual_game = stateify_game(test_game)\n",
    "assert actual_game == test_game"
   ]
  },
  {
   "cell_type": "markdown",
   "metadata": {},
   "source": [
    "<a id=\"find_dominated_strats\"></a>\n",
    "## find_dominated_strats\n",
    "\n",
    "`find_dominated_strats` returns a list of row and column indices for dominated strategies present in `curr_state`. The function compares all pairs of strategies and checks whether one strategy is greater or strictly greater (depending on the `weak` parameter) than the other. If one strategy dominates the other, the index of the row or column is added to a list, and both lists of row and column indices are returned at the end. It is important to note that a weakly dominated strategy requires that all values of the dominating strategy must be at least greater than the dominated strategy, with *at least* one value strictly greater (i.e., two identical strategies cannot dominate each other). **Used by**: [is_terminal](#is_terminal), [successors](#successors)\n",
    "\n",
    "* **curr_state**: current state in which to find dominated strategies\n",
    "* **weak**: parameter for strong/weak domination criteria\n",
    "\n",
    "**returns** `Tuple[List[Tuple]]`: the lists of dominated row and dominated column indices"
   ]
  },
  {
   "cell_type": "code",
   "execution_count": 5,
   "metadata": {},
   "outputs": [],
   "source": [
    "def find_dominated_strats(curr_state: List[List[Tuple]], weak: bool) -> Tuple[List[Tuple]]:\n",
    "    dominated_rows, dominated_cols = [], []\n",
    "    num_rows, num_cols = len(curr_state), len(curr_state[0]) if curr_state else 0\n",
    "    for i in range(num_rows):\n",
    "        for j in range(num_rows):\n",
    "            if i != j:\n",
    "                if weak: \n",
    "                    dominated = all(curr_state[j][k][2] >= curr_state[i][k][2] for k in range(num_cols)) and \\\n",
    "                                any(curr_state[j][k][2] > curr_state[i][k][2] for k in range(num_cols))\n",
    "                else: dominated = all(curr_state[j][k][2] > curr_state[i][k][2] for k in range(num_cols))\n",
    "                if dominated: dominated_rows.append(i)\n",
    "    for i in range(num_cols):\n",
    "        for j in range(num_cols):\n",
    "            if i != j:\n",
    "                if weak: \n",
    "                    dominated = all(curr_state[k][j][3] >= curr_state[k][i][3] for k in range(num_rows)) and \\\n",
    "                                any(curr_state[k][j][3] > curr_state[k][i][3] for k in range(num_rows))\n",
    "                else: dominated = all(curr_state[k][j][3] > curr_state[k][i][3] for k in range(num_rows))\n",
    "                if dominated: dominated_cols.append(i)\n",
    "    return dominated_rows, dominated_cols"
   ]
  },
  {
   "cell_type": "code",
   "execution_count": 6,
   "metadata": {},
   "outputs": [],
   "source": [
    "# assertions/unit tests\n",
    "test_game = [[( -5, -5), (-1,-10)],\n",
    "        [(-10, -1), (-2, -2)]]\n",
    "test_game_state = stateify_game(test_game)\n",
    "actual_rows, actual_cols = find_dominated_strats(test_game_state, False)\n",
    "assert actual_rows == [1] and actual_cols == [1]\n",
    "\n",
    "test_game = [[(2, 0), (1, 1)], \n",
    "             [(2, 2), (3, 3)]]\n",
    "test_game_state = stateify_game(test_game)\n",
    "actual_rows, actual_cols = find_dominated_strats(test_game_state, True)\n",
    "assert actual_rows == [0] and actual_cols == [0]\n",
    "\n",
    "test_game_state = []\n",
    "actual_rows, actual_cols = find_dominated_strats(test_game_state, True)\n",
    "assert actual_rows == actual_cols == []"
   ]
  },
  {
   "cell_type": "markdown",
   "metadata": {},
   "source": [
    "<a id=\"is_terminal\"></a>\n",
    "## is_terminal\n",
    "\n",
    "`is_terminal` checks whether a state is a terminal state - this is determined by checking whether the state is either a singular strategy (one tuple) or if there are no dominated strategies present in the current game state. If there are no strategies, the state is added to the `terminal` list. Otherwise, it is added to the `solutions` list. Both lists are returned at the end of the function, along with a boolean value `terminal_check` that notes whether either list changed (whether a failure or success state was added). **Uses**: [find_dominated_strats](#find_dominated_strats). **Used by**: [solve_game](#solve_game)\n",
    "\n",
    "* **curr_state**: state to check terminality of\n",
    "* **terminals**: list of terminal (failure) states thus far\n",
    "* **solutions**: list of success states thus far\n",
    "* **weak**: parameter for strong/weak domination criteria\n",
    "\n",
    "**returns** `Tuple[List[Tuple]]`: a tuple of `(terminals, solutions, terminal_check)`"
   ]
  },
  {
   "cell_type": "code",
   "execution_count": 7,
   "metadata": {},
   "outputs": [],
   "source": [
    "def is_terminal(curr_state: List[List[Tuple]], terminals: List[Tuple], solutions: List[Tuple], weak: bool) \\\n",
    "                -> Tuple[List[Tuple]]:\n",
    "    terminal_check = False\n",
    "    if len(curr_state)== 1 and len(curr_state[0]) == 1:\n",
    "        curr_strategy = (curr_state[0][0][0], curr_state[0][0][1])\n",
    "        if curr_strategy not in solutions: solutions.append(curr_strategy)\n",
    "        terminal_check = True\n",
    "    else:\n",
    "        dominated_rows, dominated_cols = find_dominated_strats(curr_state, weak)\n",
    "        if not (dominated_rows or dominated_cols) and curr_state not in terminals:\n",
    "            terminals.append(curr_state)\n",
    "            terminal_check = True\n",
    "    return terminals, solutions, terminal_check"
   ]
  },
  {
   "cell_type": "code",
   "execution_count": 8,
   "metadata": {},
   "outputs": [],
   "source": [
    "# assertions/unit tests\n",
    "test_state = [[(0, 0, -5, -5)]]\n",
    "terminals, solutions, terminal_check = is_terminal(test_state, [], [], False)\n",
    "assert solutions\n",
    "\n",
    "test_state = [[(0, 0, 1, 2), (0, 1, 2, 1)],\n",
    "              [(1, 0, 2, 1), (1, 1, 1, 2)]]\n",
    "terminals, solutions, terminal_check = is_terminal(test_state, [], [], False)\n",
    "assert terminals\n",
    "\n",
    "test_state = []\n",
    "terminals, solutions, terminal_check = is_terminal(test_state, [], [], False)\n",
    "assert not (terminals[0] or solutions)"
   ]
  },
  {
   "cell_type": "markdown",
   "metadata": {},
   "source": [
    "<a id=\"successors\"></a>\n",
    "## successors\n",
    "\n",
    "`successors` generates a list of child states from `curr_state`, which are found after eliminating any dominated strategies in `curr_state`. Dominated strategies are found from `find_dominated_strats`, and a deepcopy of the original state is then modified to remove each index of row/columns in the lists returned from `find_dominated_strats`. **Uses**: [find_dominated_strats](#find_dominated_strats). **Used by**: [solve_game](#solve_game).\n",
    "\n",
    "* **curr_state**: the current board to find successors of\n",
    "* **weak**: parameter for strong/weak domination criteria\n",
    "\n",
    "**returns** `List[List[Tuple]]`: a list of child boards from a single elimination of `curr_state`"
   ]
  },
  {
   "cell_type": "code",
   "execution_count": 9,
   "metadata": {},
   "outputs": [],
   "source": [
    "def successors(curr_state: List[List[Tuple]], weak: bool) -> List[List[Tuple]]:\n",
    "    children = []\n",
    "    dominated_rows, dominated_cols = find_dominated_strats(curr_state, weak)\n",
    "    for dominated_row in dominated_rows:\n",
    "        new_state = deepcopy(curr_state)\n",
    "        del new_state[dominated_row]\n",
    "        children.append(new_state)\n",
    "    for dominated_col in dominated_cols:\n",
    "        new_state = deepcopy(curr_state)\n",
    "        for row in new_state:\n",
    "            del row[dominated_col]\n",
    "        children.append(new_state)\n",
    "    return children"
   ]
  },
  {
   "cell_type": "code",
   "execution_count": 10,
   "metadata": {},
   "outputs": [],
   "source": [
    "# assertions/unit tests\n",
    "test_game = [[( -5, -5), (-1,-10)],\n",
    "             [(-10, -1), (-2, -2)]]\n",
    "test_game_state = stateify_game(test_game)\n",
    "actual_children = successors(test_game_state, False)\n",
    "assert actual_children[0] == [[(0, 0, -5, -5), (0, 1, -1, -10)]]\n",
    "assert actual_children[1] == [[(0, 0, -5, -5)], [(1, 0, -10, -1)]]\n",
    "\n",
    "test_game_state = [[(0, 0, -5, -5), (0, 1, -1, -10)]]\n",
    "actual_children = successors(test_game_state, False)\n",
    "assert actual_children == [[[(0, 0, -5, -5)]]]\n",
    "\n",
    "test_game_state = [[(0, 0, -5, -5)], [(1, 0, -10, -1)]]\n",
    "actual_children = successors(test_game_state, False)\n",
    "assert actual_children == [[[(0, 0, -5, -5)]]]"
   ]
  },
  {
   "cell_type": "markdown",
   "metadata": {},
   "source": [
    "<a id=\"solve_game\"></a>\n",
    "## solve_game\n",
    "\n",
    "`solve_game` takes a normal form representation of a two-player game and finds all Nash equilibrium points in the game through Successive Elimination of Dominated Strategies. In this method, we find dominated strategies in the normal form game:\n",
    "* A strategy `a` is *strongly* dominated by strategy `b` if every payoff of strategy `b` is greater than that of strategy `a`, regardless of the other player's strategy.\n",
    "* A strategy `c` is *weakly* dominated by strategy `d` if every payoff of strategy `d` is at least as great as that of strategy `c`, with at least one payoff being strictly greater. \n",
    "\n",
    "The optional `weak` parameter (default `False`) specifies whether to solve for Successive Elimination of Strongly Dominated or Weakly Dominated Strategies. \n",
    "\n",
    "The algorithm is a modified version of State Space Search. In this implementation, states are game boards, with elements in the board having the following form: `(P1 Strategy, P2 Strategy, P1 Payoff, P2 Payoff)`. Transitions are eliminations of dominated strategies, and children are the result of a single elimination from the parent (if any exist). Each state represents a game board with one or more dominated strategies eliminated. The algorithm slowly eliminates dominated strategies until either:\n",
    "* there is only one strategy pair left, which is a success state\n",
    "* there are only non-dominated strategies left, which is a failure state\n",
    "\n",
    "The final list of success states is returned at the end. **Uses**: [stateify_game](#stateify_game), [is_terminal](#is_terminal), [successors](#successors).\n",
    "\n",
    "* **game**: the normal form game on which to perform the SEDS algorithm\n",
    "* **weak**: optional parameter for strong/weak domination criteria\n",
    "\n",
    "**returns** `List[Tuple]`: a list of success strategies, `[(P1 Strategy, P2 Strategy)]`."
   ]
  },
  {
   "cell_type": "code",
   "execution_count": 11,
   "metadata": {},
   "outputs": [],
   "source": [
    "def solve_game(game: List[List[Tuple]], weak:bool=False) -> List[Tuple]:\n",
    "    game_state = stateify_game(game)\n",
    "    frontier, solutions, terminals = [game_state], [], []\n",
    "    while frontier:\n",
    "        curr_state = frontier.pop()\n",
    "        terminals, solutions, terminal_check = is_terminal(curr_state, terminals, solutions, weak)\n",
    "        if not terminal_check:\n",
    "            children = successors(curr_state, weak)\n",
    "            for child in children:\n",
    "                if child not in frontier and child not in solutions and child not in terminals: \n",
    "                    frontier.append(child)\n",
    "    return solutions"
   ]
  },
  {
   "cell_type": "markdown",
   "metadata": {},
   "source": [
    "## Additional Directions\n",
    "\n",
    "Create three games as described and according to the following:\n",
    "\n",
    "1. Your games must be created and solved \"by hand\".\n",
    "2. The strategy pairs must **not** be on the main diagonal (0, 0), (1, 1), or (2, 2). And the solution cannot be the same for both Game 1 and Game 2.\n",
    "3. Make sure you fill out the Markdown (\"?\") with your game as well as the solution (\"?\").\n",
    "4. Remember, **do not return the payoff**, return the strategy indices (a list of them)."
   ]
  },
  {
   "cell_type": "markdown",
   "metadata": {},
   "source": [
    "## Before you code...\n",
    "\n",
    "Solve the following game by hand using SEDS and weakly dominated strategies. \n",
    "The game has three (pure) Nash Equilibriums. \n",
    "You should find all of them.\n",
    "This will help you think about what you need to implement to make the algorithm work.\n",
    "**Hint**: You will need State Space Search from Module 1 and SEDS from Module 5 to get the full algorithm to work.\n",
    "\n",
    "| Player 1 / Player 2  | 0 | 1 | 2 |\n",
    "|----|----|----|----|\n",
    "|0  | 1/0 | 3/1 | 1/1 |\n",
    "|1  | 1/1 | 3/0 | 0/1 |\n",
    "|2  | 2/2 | 3/3 | 0/2 |\n",
    "\n",
    "**Solutions**: (0, 2), (2, 1)"
   ]
  },
  {
   "cell_type": "markdown",
   "metadata": {},
   "source": [
    "### Test Game 1. Create a 3x3 two player game\n",
    "\n",
    "**that can only be solved using the Successive Elimintation of Strongly Dominated Strategies**\n",
    "\n",
    "| Player 1 / Player 2  | 0 | 1 | 2 |\n",
    "|----|----|----|----|\n",
    "|0  | 2/2 | 3/3 | 2/1 |\n",
    "|1  | 1/2 | 2/3 | 1/1 |\n",
    "|2  | 1/3 | 1/2 | 0/1 |\n",
    "\n",
    "**Solution:** (0, 1)"
   ]
  },
  {
   "cell_type": "code",
   "execution_count": 12,
   "metadata": {},
   "outputs": [],
   "source": [
    "test_game_1 = [[(2, 2), (3, 3), (2, 1)],\n",
    "               [(1, 2), (2, 3), (1, 1)],\n",
    "               [(1, 3), (1, 2), (0, 1)]]\n",
    "\n",
    "solution = solve_game(test_game_1)"
   ]
  },
  {
   "cell_type": "code",
   "execution_count": 13,
   "metadata": {},
   "outputs": [],
   "source": [
    "assert sorted(solution) == sorted([(0, 1)]) # insert your solution from above."
   ]
  },
  {
   "cell_type": "markdown",
   "metadata": {},
   "source": [
    "### Test Game 2. Create a 3x3 two player game\n",
    "\n",
    "**that can only be solved using the Successive Elimintation of Weakly Dominated Strategies**\n",
    "\n",
    "| Player 1 / Player 2  | 0 | 1 | 2 |\n",
    "|----|----|----|----|\n",
    "|0  | 2/0 | 2/2 | 2/3 |\n",
    "|1  | 2/3 | 1/2 | 1/3 |\n",
    "|2  | 2/1 | 2/1 | 0/1 |\n",
    "\n",
    "**Solution:** (0, 2)"
   ]
  },
  {
   "cell_type": "code",
   "execution_count": 14,
   "metadata": {},
   "outputs": [],
   "source": [
    "test_game_2 = [[(2, 0), (2, 2), (2, 3)], \n",
    "               [(2, 3), (1, 2), (1, 3)], \n",
    "               [(2, 1), (2, 1), (0, 1)]]\n",
    "\n",
    "strong_solution = solve_game( test_game_2)\n",
    "weak_solution = solve_game( test_game_2, weak=True)"
   ]
  },
  {
   "cell_type": "code",
   "execution_count": 15,
   "metadata": {},
   "outputs": [],
   "source": [
    "assert strong_solution == []\n",
    "assert sorted(weak_solution) == sorted([(0, 2)]) # insert your solution from above."
   ]
  },
  {
   "cell_type": "markdown",
   "metadata": {},
   "source": [
    "### Test Game 3. Create a 3x3 two player game\n",
    "\n",
    "**that cannot be solved using the Successive Elimintation of Dominated Strategies at all**\n",
    "\n",
    "| Player 1 / Player 2  | 0 | 1 | 2 |\n",
    "|----|----|----|----|\n",
    "|0  | 1/1 | 2/2 | 3/3 |\n",
    "|1  | 2/2 | 3/3 | 1/2 |\n",
    "|2  | 3/3 | 2/1 | 1/1 |\n",
    "\n",
    "**Solution:** None"
   ]
  },
  {
   "cell_type": "code",
   "execution_count": 16,
   "metadata": {},
   "outputs": [],
   "source": [
    "test_game_3 = [\n",
    "    [(1, 1), (2, 2), (3, 3)],\n",
    "    [(2, 2), (3, 3), (1, 2)],\n",
    "    [(3, 3), (2, 1), (1, 1)]]\n",
    "\n",
    "strong_solution = solve_game( test_game_3)\n",
    "weak_solution = solve_game( test_game_3, weak=True)"
   ]
  },
  {
   "cell_type": "code",
   "execution_count": 17,
   "metadata": {},
   "outputs": [],
   "source": [
    "assert strong_solution == []\n",
    "assert weak_solution == []"
   ]
  },
  {
   "cell_type": "markdown",
   "metadata": {},
   "source": [
    "### Test Game 4. Multiple Equilibria\n",
    "\n",
    "You solve the following game by hand, above.\n",
    "Now use your code to solve it.\n",
    "\n",
    "| Player 1 / Player 2  | 0 | 1 | 2 |\n",
    "|----|----|----|----|\n",
    "|0  | 1/0 | 3/1 | 1/1 |\n",
    "|1  | 1/1 | 3/0 | 0/1 |\n",
    "|2  | 2/2 | 3/3 | 0/2 |\n",
    "\n",
    "**Solutions:** (0, 2), (2, 1)"
   ]
  },
  {
   "cell_type": "code",
   "execution_count": 18,
   "metadata": {},
   "outputs": [],
   "source": [
    "test_game_4 = [\n",
    "[(1, 0), (3, 1), (1, 1)],\n",
    "[(1, 1), (3, 0), (0, 1)],\n",
    "[(2, 2), (3, 3), (0, 2)]]\n",
    "\n",
    "strong_solution = solve_game( test_game_4)\n",
    "weak_solution = solve_game( test_game_4, weak=True)"
   ]
  },
  {
   "cell_type": "code",
   "execution_count": 19,
   "metadata": {},
   "outputs": [],
   "source": [
    "assert strong_solution == []\n",
    "assert sorted(weak_solution) == sorted([(0, 2), (2, 1)]) # put solution here"
   ]
  },
  {
   "cell_type": "markdown",
   "metadata": {},
   "source": [
    "## Before You Submit...\n",
    "\n",
    "1. Did you provide output exactly as requested? **Don't forget to fill out the Markdown tables with your games**.\n",
    "2. Did you re-execute the entire notebook? (\"Restart Kernel and Rull All Cells...\")\n",
    "3. If you did not complete the assignment or had difficulty please explain what gave you the most difficulty in the Markdown cell below.\n",
    "4. Did you change the name of the file to `jhed_id.ipynb`?\n",
    "\n",
    "Do not submit any other files."
   ]
  },
  {
   "cell_type": "markdown",
   "metadata": {},
   "source": [
    "## Comments\n",
    "\n",
    "Although the instructions said there are 3 Nash equilibrium points, I could only find 2 from the process described in class. My algorithm matches this, so I assumed this is an oversight, rather than a mistake in my algorithm."
   ]
  }
 ],
 "metadata": {
  "kernelspec": {
   "display_name": "Python (en605645)",
   "language": "python",
   "name": "en605645"
  },
  "language_info": {
   "codemirror_mode": {
    "name": "ipython",
    "version": 3
   },
   "file_extension": ".py",
   "mimetype": "text/x-python",
   "name": "python",
   "nbconvert_exporter": "python",
   "pygments_lexer": "ipython3",
   "version": "3.11.7"
  },
  "toc": {
   "colors": {
    "hover_highlight": "#DAA520",
    "navigate_num": "#000000",
    "navigate_text": "#333333",
    "running_highlight": "#FF0000",
    "selected_highlight": "#FFD700",
    "sidebar_border": "#EEEEEE",
    "wrapper_background": "#FFFFFF"
   },
   "moveMenuLeft": true,
   "nav_menu": {
    "height": "135px",
    "width": "252px"
   },
   "navigate_menu": true,
   "number_sections": true,
   "sideBar": true,
   "threshold": 4,
   "toc_cell": false,
   "toc_section_display": "block",
   "toc_window_display": false,
   "widenNotebook": false
  }
 },
 "nbformat": 4,
 "nbformat_minor": 4
}
