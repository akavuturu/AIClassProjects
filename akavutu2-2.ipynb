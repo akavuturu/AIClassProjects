{
 "cells": [
  {
   "cell_type": "markdown",
   "metadata": {},
   "source": [
    "# Module 2 - Programming Assignment\n",
    "\n",
    "## Directions\n",
    "\n",
    "1. Change the name of this file to be your JHED id as in `jsmith299.ipynb`. Because sure you use your JHED ID (it's made out of your name and not your student id which is just letters and numbers).\n",
    "2. Make sure the notebook you submit is cleanly and fully executed. I do not grade unexecuted notebooks.\n",
    "3. Submit your notebook back in Blackboard where you downloaded this file.\n",
    "\n",
    "*Provide the output **exactly** as requested*"
   ]
  },
  {
   "cell_type": "code",
   "execution_count": 1,
   "metadata": {},
   "outputs": [],
   "source": [
    "from pprint import pprint"
   ]
  },
  {
   "cell_type": "markdown",
   "metadata": {},
   "source": [
    "## Local Search - Genetic Algorithm\n",
    "\n",
    "There are some key ideas in the Genetic Algorithm.\n",
    "\n",
    "First, there is a problem of some kind that either *is* an optimization problem or the solution can be expressed in terms of an optimization problem.\n",
    "For example, if we wanted to minimize the function\n",
    "\n",
    "$$f(x) = \\sum (x_i - 0.5)^2$$\n",
    "\n",
    "where $n = 10$.\n",
    "This *is* an optimization problem. Normally, optimization problems are much, much harder.\n",
    "\n",
    "![Eggholder](http://www.sfu.ca/~ssurjano/egg.png)!\n",
    "\n",
    "The function we wish to optimize is often called the **objective function**.\n",
    "The objective function is closely related to the **fitness** function in the GA.\n",
    "If we have a **maximization** problem, then we can use the objective function directly as a fitness function.\n",
    "If we have a **minimization** problem, then we need to convert the objective function into a suitable fitness function, since fitness functions must always mean \"more is better\".\n",
    "\n",
    "Second, we need to *encode* candidate solutions using an \"alphabet\" analogous to G, A, T, C in DNA.\n",
    "This encoding can be quite abstract.\n",
    "You saw this in the Self Check.\n",
    "There a floating point number was encoded as bits, just as in a computer and a sophisticated decoding scheme was then required.\n",
    "\n",
    "Sometimes, the encoding need not be very complicated at all.\n",
    "For example, in the real-valued GA, discussed in the Lectures, we could represent 2.73 as....2.73.\n",
    "This is similarly true for a string matching problem.\n",
    "We *could* encode \"a\" as \"a\", 97, or '01100001'.\n",
    "And then \"hello\" would be:\n",
    "\n",
    "```\n",
    "[\"h\", \"e\", \"l\", \"l\", \"o\"]\n",
    "```\n",
    "\n",
    "or\n",
    "\n",
    "```\n",
    "[104, 101, 108, 108, 111]\n",
    "```\n",
    "\n",
    "or\n",
    "\n",
    "```\n",
    "0, 1, 1, 0, 1, 0, 0, 0, 0, 1, 1, 0, 0, 1, 0, 1, 0, 1, 1, 0, 1, 1, 0, 0, 0, 1, 1, 0, 1, 1, 0, 0, 0, 1, 1, 0, 1, 1, 1, 1\n",
    "```\n",
    "\n",
    "In Genetics terminology, this is the **chromosome** of the individual. And if this individual had the **phenotype** \"h\" for the first character then they would have the **genotype** for \"h\" (either as \"h\", 104, or 01101000).\n",
    "\n",
    "To keep it straight, think **geno**type is **genes** and **pheno**type is **phenomenon**, the actual thing that the genes express.\n",
    "So while we might encode a number as 10110110 (genotype), the number itself, 182, is what goes into the fitness function.\n",
    "The environment operates on zebras, not the genes for stripes."
   ]
  },
  {
   "cell_type": "markdown",
   "metadata": {},
   "source": [
    "## String Matching\n",
    "\n",
    "You are going to write a Genetic Algorithm that will solve the problem of matching a target string (at least at the start).\n",
    "Now, this is kind of silly because in order for this to work, you need to know the target string and if you know the target string, why are you trying to do it?\n",
    "Well, the problem is *pedagogical*.\n",
    "It's a fun way of visualizing the GA at work, because as the GA finds better and better candidates, they make more and more sense.\n",
    "\n",
    "Now, string matching is not *directly* an optimization problem so this falls under the general category of \"if we convert the problem into an optimization problem we can solve it with an optimization algorithm\" approach to problem solving.\n",
    "This happens all the time.\n",
    "We have a problem.\n",
    "We can't solve it.\n",
    "We convert it to a problem we *can* solve.\n",
    "In this case, we're using the GA to solve the optimization part.\n",
    "\n",
    "And all we need is some sort of measure of the difference between two strings.\n",
    "We can use that measure as a **loss function**.\n",
    "A loss function gives us a score tells us how similar two strings are.\n",
    "The loss function becomes our objective function and we use the GA to minimize it by converting the objective function to a fitness function.\n",
    "So that's the first step, come up with the loss/objective function.\n",
    "The only stipulation is that it must calculate the score based on element to element (character to character) comparisons with no global transformations of the candidate or target strings.\n",
    "\n",
    "And since this is a GA, we need a **genotype**.\n",
    "The genotype for this problem is a list of \"characters\" (individual letters aren't special in Python like they are in some other languages):\n",
    "\n",
    "```\n",
    "[\"h\", \"e\", \"l\", \"l\", \"o\"]\n",
    "```\n",
    "\n",
    "and the **phenotype** is the resulting string:\n",
    "\n",
    "```\n",
    "\"hello\"\n",
    "```\n",
    "\n",
    "In addition to the generic code and problem specific loss function, you'll need to pick parameters for the run.\n",
    "These parameters include:\n",
    "\n",
    "1. population size\n",
    "2. number of generations\n",
    "3. probability of crossover\n",
    "4. probability of mutation\n",
    "\n",
    "You will also need to pick a selection algorithm, either roulette wheel or tournament selection.\n",
    "In the later case, you will need a tournament size.\n",
    "This is all part of the problem.\n",
    "\n",
    "Every **ten** (10) generations, you should print out the fitness, genotype, and phenotype of the best individual in the population for the specific generation.\n",
    "The function should return the best individual *of the entire run*, using the same format."
   ]
  },
  {
   "cell_type": "code",
   "execution_count": 2,
   "metadata": {},
   "outputs": [],
   "source": [
    "ALPHABET = \"abcdefghijklmnopqrstuvwxyz \"\n",
    "from typing import List, Tuple, Dict, Callable, Any\n",
    "from copy import deepcopy\n",
    "import random\n",
    "from random import random as rand\n",
    "from random import randint as randi"
   ]
  },
  {
   "cell_type": "markdown",
   "metadata": {},
   "source": [
    "<a id=\"generate_random_populations\"></a>\n",
    "## generate_random_populations\n",
    "\n",
    "`generate_random_populations` creates a list of `N` randomly generated individuals, all with length `str_len` from characters in the alphabet `alph`. The format of an individual in this implemetation is `(phenotype, genotype, score)`. The phenotype is a string representation of a chromosome, the genotype is a list representation of a chromosome, and the score is the fitness of the individual (between 0 and 1). `seed` is used to control the randomization and can be omitted outside of testing. **Used by**: [genetic_algorithm](#genetic_algorithm)\n",
    "\n",
    "* **N**: number of random strings to generate\n",
    "* **str_len**: length of each new individual string in population\n",
    "* **alph**: alphabet over which to generate new strings\n",
    "* **seed**: optional parameter for random seed (only for testing)\n",
    "\n",
    "**returns** `List[Tuple[str, List[str], float]]`: a list of `N` new individuals (tuples of `str, List[str], float`)"
   ]
  },
  {
   "cell_type": "code",
   "execution_count": 3,
   "metadata": {},
   "outputs": [],
   "source": [
    "def generate_random_populations(N: int, str_len: int, alph: str, seed = None) -> List[Tuple[str, List[str], float]]:\n",
    "    if seed: random.seed(seed)\n",
    "    pops, i = [], 0\n",
    "    for i in range(N):\n",
    "        rand_str = ''.join(random.choices(alph, k=str_len))\n",
    "        pops.append((rand_str, list(rand_str), 0))\n",
    "    return pops"
   ]
  },
  {
   "cell_type": "code",
   "execution_count": 4,
   "metadata": {},
   "outputs": [],
   "source": [
    "# assertions/unit tests\n",
    "N, str_len, seed = 5, 5, 5\n",
    "rand_pop = generate_random_populations(N, str_len, ALPHABET, seed)\n",
    "assert rand_pop == [('quvzt', ['q', 'u', 'v', 'z', 't'], 0), \n",
    "                    ('yamzr', ['y', 'a', 'm', 'z', 'r'], 0), \n",
    "                    ('ydmgo', ['y', 'd', 'm', 'g', 'o'], 0), \n",
    "                    ('pafhy', ['p', 'a', 'f', 'h', 'y'], 0), \n",
    "                    ('uevdq', ['u', 'e', 'v', 'd', 'q'], 0)]\n",
    "\n",
    "rand_pop = generate_random_populations(0, str_len, ALPHABET, seed)\n",
    "assert rand_pop == []\n",
    "\n",
    "rand_pop = generate_random_populations(N, 0, ALPHABET)\n",
    "assert rand_pop == [('', [], 0), ('', [], 0), ('', [], 0), ('', [], 0), ('', [], 0)]"
   ]
  },
  {
   "cell_type": "markdown",
   "metadata": {},
   "source": [
    "<a id=\"evaluate\"></a>\n",
    "## evaluate\n",
    "\n",
    "`evaluate` is the fitness function applied over every individual in `population`. It takes `objective` as an argument, and converts the minimization problem to a maximization problem by inverting the score from the objective (f(x) = 1/(1 + f(x)). The function then returns the evaluated population. **Uses**: [objective_1](#objective_1), [objective_2](#objective_2), [objective_3](#objective_3). **Used by**: [genetic_algorithm](#genetic_algorithm)\n",
    "\n",
    "* **objective**: a callable function that represents the objective function\n",
    "* **target**: the target to which we want to maximize our fitness\n",
    "* **population**: the list of individuals to be evaluated\n",
    "\n",
    "**returns** `List[Tuple[str, List[str], float]]`: `population` after evaluation"
   ]
  },
  {
   "cell_type": "code",
   "execution_count": 5,
   "metadata": {},
   "outputs": [],
   "source": [
    "def evaluate(objective: Callable, target: str, population: List[Tuple[str, List[str], float]]) -> List[Tuple[str, List[str], float]]:\n",
    "    for i, individual in enumerate(population):\n",
    "        score = objective(target, individual)\n",
    "        population[i] = (individual[0], individual[1], 1/(1 + score))\n",
    "    return population"
   ]
  },
  {
   "cell_type": "code",
   "execution_count": 6,
   "metadata": {},
   "outputs": [],
   "source": [
    "# assertions/unit tests\n",
    "def objectivetest(target: str, pheno: Tuple[str, List[str], int]) -> int:\n",
    "    score = 0\n",
    "    for i, c_tgt in enumerate(target):\n",
    "        score += abs(ord(c_tgt) - ord(pheno[1][i]))\n",
    "    return score\n",
    "\n",
    "population = [('tixlz', ['t', 'i', 'x', 'l', 'z'], 0), \n",
    "                    ('w xuq', ['w', ' ', 'x', 'u', 'q'], 0), \n",
    "                    ('a oyh', ['a', ' ', 'o', 'y', 'h'], 0), \n",
    "                    ('ubfdl', ['u', 'b', 'f', 'd', 'l'], 0), \n",
    "                    ('phmrd', ['p', 'h', 'm', 'r', 'd'], 0)]\n",
    "new_pop = evaluate(objectivetest, \"w xuq\", population)\n",
    "assert population[1][2] == 1\n",
    "assert len(new_pop) == len(population)\n",
    "\n",
    "new_pop = evaluate(objectivetest, \"abcde\", [])\n",
    "assert new_pop == []"
   ]
  },
  {
   "cell_type": "markdown",
   "metadata": {},
   "source": [
    "<a id=\"pick_parents\"></a>\n",
    "## pick_parents\n",
    "\n",
    "`pick_parents` uses a tournament selection algorithm to select two parents from `population` for reproduction. The `tournament_size` is a parameter of the function. By selecting a random group of (`tournament_size`) individuals (a tournament) from `population`, and then picking the best one of that group, we ensure that the best genes are passed onto future generations. `seed` is a parameter used only in testing and is omitted outside of testing. **Used by**: [genetic_algorithm](#genetic_algorithm)\n",
    "\n",
    "* **population**: a list of individuals to select tournaments from\n",
    "* **tournament_size**: the size of each tournament being run\n",
    "* **seed**: optional parameter for random seed (only for testing)\n",
    "\n",
    "**returns** `[Tuple[str, str]]`: a tuple of two parent strings after tournament selection"
   ]
  },
  {
   "cell_type": "code",
   "execution_count": 7,
   "metadata": {},
   "outputs": [],
   "source": [
    "def pick_parents(population: List[Tuple[str, List[str], float]], tournament_size: int, seed = None) -> Tuple[str, str]:\n",
    "    if seed: random.seed(seed)\n",
    "    tourn_1 = random.sample(population, tournament_size)\n",
    "    parent1 = max(tourn_1, key = lambda competitor: competitor[2])\n",
    "    tourn_2 = random.sample(population, tournament_size)\n",
    "    parent2 = max(tourn_2, key = lambda competitor: competitor[2])\n",
    "    return (parent1, parent2)"
   ]
  },
  {
   "cell_type": "code",
   "execution_count": 8,
   "metadata": {},
   "outputs": [],
   "source": [
    "# assertions/unit tests\n",
    "population = [('tixlz', ['t', 'i', 'x', 'l', 'z'], 5), \n",
    "                    ('w xuq', ['w', ' ', 'x', 'u', 'q'], 4), \n",
    "                    ('a oyh', ['a', ' ', 'o', 'y', 'h'], 3), \n",
    "                    ('ubfdl', ['u', 'b', 'f', 'd', 'l'], 2), \n",
    "                    ('phmrd', ['p', 'h', 'm', 'r', 'd'], 1)]\n",
    "actual_parents = pick_parents(population, 3, 5)\n",
    "assert actual_parents == (('a oyh', ['a', ' ', 'o', 'y', 'h'], 3), ('tixlz', ['t', 'i', 'x', 'l', 'z'], 5))\n",
    "\n",
    "actual_parents = pick_parents(population, 1, 5)\n",
    "assert actual_parents == (('phmrd', ['p', 'h', 'm', 'r', 'd'], 1), ('a oyh', ['a', ' ', 'o', 'y', 'h'], 3))\n",
    "\n",
    "actual_parents = pick_parents(population, 1, 2)\n",
    "assert actual_parents== (('tixlz', ['t', 'i', 'x', 'l', 'z'], 5), ('tixlz', ['t', 'i', 'x', 'l', 'z'], 5))"
   ]
  },
  {
   "cell_type": "markdown",
   "metadata": {},
   "source": [
    "<a id=\"mutate\"></a>\n",
    "## mutate\n",
    "\n",
    "`mutate` performs a mutation on the given gene. The function takes a `phenotype`, a probability of mutation (`pm`), a value for the chance of mutation (`pm_value`), and a new gene/new location on which to mutate the `phenotype`. The function returns the new mutated `phenotype` if `pm_value` is lower than `pm`, and returns the original `phenotype` otherwise.\n",
    "\n",
    "Mutation is one of the two ways in which the genetic algorithm produces variance in future generations. Although mutation is much less likely than `crossover` (usually <= 5%), the addition of mutation allows for only specific genes to be improved, rather than changing the entire genome (which is the most extreme case in `crossover`). **Used by**: [reproduce](#reproduce)\n",
    "\n",
    "* **phenotype**: a list representation of the phenotype to mutate\n",
    "* **pm**: the probability of mutation as a float\n",
    "* **pm_value**: the chance of mutation as a float\n",
    "* **new_gene**: the new character to mutate to\n",
    "* **new_loc**: the index at which to mutate\n",
    "\n",
    "**returns** `List[str]`: the mutated phenotype or the original phenotype as a list (depending on `pm_value`)"
   ]
  },
  {
   "cell_type": "code",
   "execution_count": 9,
   "metadata": {},
   "outputs": [],
   "source": [
    "def mutate(phenotype: List[str], pm: float, pm_value: float, new_gene: str, new_loc: int) -> List[str]:\n",
    "    if pm_value <= pm:\n",
    "        phenotype[new_loc] = new_gene\n",
    "    return phenotype"
   ]
  },
  {
   "cell_type": "code",
   "execution_count": 10,
   "metadata": {},
   "outputs": [],
   "source": [
    "# assertions/unit tests\n",
    "parent = list(\"abcdef\")\n",
    "actual_mutate = mutate(parent, 0.05, 0.01, \"a\", 3)\n",
    "assert actual_mutate == list(\"abcaef\")\n",
    "\n",
    "parent = list(\"abcdef\")\n",
    "actual_mutate = mutate(parent, 0.05, 0.5, \"a\", 3)\n",
    "assert actual_mutate == list(\"abcdef\")\n",
    "\n",
    "parent = list(\"abcdef\")\n",
    "actual_mutate = mutate(parent, 0.05, 0.01, \"a\", 0)\n",
    "assert actual_mutate == list (\"abcdef\")"
   ]
  },
  {
   "cell_type": "markdown",
   "metadata": {},
   "source": [
    "<a id=\"crossover\"></a>\n",
    "## crossover\n",
    "\n",
    "`crossover` performs the crossover operation on two parents. The function takes two parents (as list representations), a probability of crossover (`pc`), a chance of crossover (`pc_value`), and a crossover index `cross_idx`. If the value for the chance is lower than the probability, then crossover occurs. Otherwise, the two parents are passed onto the next generation. Crossover is defined as:\n",
    "* `child1` taking the first (`cross_idx`) elements from parent1 and the remaining elements from parent2\n",
    "* `child2` taking the first (`cross_idx`) elements from parent2 and the remaining elements from parent1\n",
    "\n",
    "This operation allows for individuals to create variance in future populations - the probability of crossover is between 0.85-0.95, usually. This is the main method by which individuals are changed in future generations in the genetic algorithm. **Used by**: [reproduce](#reproduce)\n",
    "\n",
    "* **parent1**: a list representation of parent1\n",
    "* **parent2**: a list representation of parent2\n",
    "* **pc**: the probability of crossover\n",
    "* **pc_value**: the random chance that crossover occurs\n",
    "* **cross_idx**: a random index within the bounds of the string at which to perform crossover\n",
    "\n",
    "**returns** `Tuple[List[str], List[str]]`: a tuple containing the two children."
   ]
  },
  {
   "cell_type": "code",
   "execution_count": 11,
   "metadata": {},
   "outputs": [],
   "source": [
    "def crossover(parent1: List[str], parent2: List[str], pc: float, pc_value: float, cross_idx: int) -> Tuple[List[str], List[str]]:\n",
    "    if pc_value <= pc:\n",
    "        child1 = parent1[:cross_idx] + parent2[cross_idx:]\n",
    "        child2 = parent2[:cross_idx] + parent1[cross_idx:]\n",
    "        return (child1, child2)\n",
    "    else:\n",
    "        return (deepcopy(parent1), deepcopy(parent2))"
   ]
  },
  {
   "cell_type": "code",
   "execution_count": 12,
   "metadata": {},
   "outputs": [],
   "source": [
    "# assertions/unit tests\n",
    "parent1 = list(\"abcdef\")\n",
    "parent2 = list(\"defabc\")\n",
    "parent3 = list(\"ghijkl\")\n",
    "actual_children = crossover(parent1, parent3, 0.9, 0.6, 3)\n",
    "assert actual_children == (list(\"abcjkl\"), list(\"ghidef\"))\n",
    "\n",
    "parent1 = list(\"abcdef\")\n",
    "parent2 = list(\"defabc\")\n",
    "actual_children = crossover(parent1, parent2, 0.9, 1, 5)\n",
    "assert actual_children == (parent1, parent2)\n",
    "\n",
    "parent1 = list(\"abcdef\")\n",
    "parent2 = list(\"defabc\")\n",
    "actual_children = crossover(parent1, parent2, 0.9, 0.3, 0)\n",
    "assert actual_children == (parent2, parent1)"
   ]
  },
  {
   "cell_type": "markdown",
   "metadata": {},
   "source": [
    "<a id=\"reproduce\"></a>\n",
    "## reproduce\n",
    "\n",
    "`reproduce` takes the probabilities of crossover and mutation, two parents, and an alphabet. The function then generates random variables for crossover and mutation (for both children) to determine whether each operation occurs. Additionally, the function chooses two random symbols from `alphabet` for mutation. First, crossover is computed; then, mutation on each child is computed. The function returns a list of two individuals (`child1` and `child2`). \n",
    "\n",
    "Reproduction is how the genetic algorithm progresses. Through crossover and mutation, the best-fit parents will be bred into future generations, allowing for new variability and potential better-fit individuals to progress. **Uses**: [crossover](#crossover), [mutate](#mutate). **Used by**: [genetic_algorithm](#genetic_algorithm)\n",
    "\n",
    "* **pm**: probability of mutation\n",
    "* **pc**: probability of crossover\n",
    "* **parent1**: the first parent in reproduction\n",
    "* **parent2**: the second parent in reproduction\n",
    "* **alphabet**: the list of characters over which to choose random genes\n",
    "* **seed**: optional parameter for random seed (only for testing)\n",
    "\n",
    "**returns** `List[Tuple[str, List[str], float]]`: a list of two children after reproduction"
   ]
  },
  {
   "cell_type": "code",
   "execution_count": 13,
   "metadata": {},
   "outputs": [],
   "source": [
    "def reproduce(pm: float, pc: float, parent1: Tuple[str, List[str], float], \n",
    "              parent2: Tuple[str, List[str], float], alphabet: str, seed = None) -> List[Tuple[str, List[str], float]]:\n",
    "    if seed: random.seed(seed)\n",
    "    str_len = len(parent1[0]) - 1\n",
    "    pc_value, pm_value1, pm_value2  = rand(), rand(), rand()\n",
    "    cross_idx, new_loc1, new_loc2 = randi(0, str_len), randi(0, str_len), randi(0, str_len)\n",
    "    \n",
    "    (child1, child2) = crossover(parent1[1], parent2[1], pc, pc_value, cross_idx)\n",
    "    \n",
    "    new_gene1 = random.choice(alphabet)\n",
    "    child1 = mutate(child1, pm, pm_value1, new_gene1, new_loc1)\n",
    "    new_gene2 = random.choice(alphabet)\n",
    "    child2 = mutate(child2, pm, pm_value2, new_gene2, new_loc2)\n",
    "    return [child1, child2]"
   ]
  },
  {
   "cell_type": "code",
   "execution_count": 14,
   "metadata": {},
   "outputs": [],
   "source": [
    "# assertions/unit tests\n",
    "parent1 = (\"abcdef\", list(\"abcdef\"), 0)\n",
    "parent2 = (\"defabc\", list(\"defabc\"), 0)\n",
    "\n",
    "[child1, child2] = reproduce(0.05, 0.9, parent1, parent2, ALPHABET, 5)\n",
    "assert child1 == ['a', 'b', 'c', 'd', 'e', 'c']\n",
    "assert child2 == ['d', 'e', 'f', 'a', 'b', 'f']\n",
    "\n",
    "[child1, child2] = reproduce(1, 0, parent1, parent2, ALPHABET, 5)\n",
    "assert child1 == ['a', 'b', 'c', 'd', 'e', 'a']"
   ]
  },
  {
   "cell_type": "markdown",
   "metadata": {},
   "source": [
    "<a id=\"curr_and_max_best\"></a>\n",
    "## curr_and_max_best\n",
    "\n",
    "`curr_and_max_best` takes a population and a `max_best` representing the best individual found in the genetic algorithm and returns a list of two individuals: the `max_best`, as well as the best individual of the current population (the current generation). The comparison is based on the max fitness score. **Used by**: [genetic_algorithm](#genetic_algorithm)\n",
    "\n",
    "* **population**: a list of individuals with fitness scores\n",
    "* **max_best**: an individual with the current highest fitness of the algorithm runtime\n",
    "\n",
    "**returns** `List[Tuple[str, List[str], int]]`: a list with the `max_best` and `curr_best` individuals"
   ]
  },
  {
   "cell_type": "code",
   "execution_count": 15,
   "metadata": {},
   "outputs": [],
   "source": [
    "def curr_and_max_best(population: List[Tuple[str, List[str], float]], max_best: Tuple[str, List[str], float]) -> List[Tuple[str, List[str], float]]:\n",
    "    curr_best = max(population, key = lambda score: score[2])\n",
    "    if not max_best or curr_best[2] > max_best[2]:\n",
    "        max_best = curr_best\n",
    "    return [max_best, curr_best]"
   ]
  },
  {
   "cell_type": "code",
   "execution_count": 16,
   "metadata": {},
   "outputs": [],
   "source": [
    "# assertions/unit tests\n",
    "population = [('tixlz', ['t', 'i', 'x', 'l', 'z'], 5), \n",
    "                    ('w xuq', ['w', ' ', 'x', 'u', 'q'], 4), \n",
    "                    ('a oyh', ['a', ' ', 'o', 'y', 'h'], 3), \n",
    "                    ('ubfdl', ['u', 'b', 'f', 'd', 'l'], 2), \n",
    "                    ('phmrd', ['p', 'h', 'm', 'r', 'd'], 1)]\n",
    "(actual_max, actual_curr) = curr_and_max_best(population, ('a oyh', ['a', ' ', 'o', 'y', 'h'], 3))\n",
    "assert actual_max == ('tixlz', ['t', 'i', 'x', 'l', 'z'], 5)\n",
    "assert actual_curr == actual_max\n",
    "\n",
    "(actual_max, actual_curr) = curr_and_max_best(population, ('w xuq', ['w', ' ', 'x', 'u', 'q'], 7))\n",
    "assert actual_max == ('w xuq', ['w', ' ', 'x', 'u', 'q'], 7)\n",
    "assert actual_curr == ('tixlz', ['t', 'i', 'x', 'l', 'z'], 5)\n",
    "\n",
    "(actual_max, actual_curr) = curr_and_max_best(population, ())\n",
    "assert actual_max == actual_curr"
   ]
  },
  {
   "cell_type": "markdown",
   "metadata": {},
   "source": [
    "<a id=\"add_children\"></a>\n",
    "## add_children\n",
    "\n",
    "`add_children` takes a population and two children as strings and appends the two children as individuals to the population. It returns the population with the children added. **Used by**: [genetic_algorithm](#genetic_algorithm)\n",
    "\n",
    "* **population**: a list of individuals with fitness scores\n",
    "* **child1**: the first child string to be added to `population`\n",
    "* **child2**: the second child string to be added to `population`\n",
    "\n",
    "**returns** `List[Tuple[str, List[str], float]]`: the population with `child1`,`child2` added"
   ]
  },
  {
   "cell_type": "code",
   "execution_count": 17,
   "metadata": {},
   "outputs": [],
   "source": [
    "def add_children(child1: List[str], child2: List[str], population: List[Tuple[str, List[str], float]]) -> List[Tuple[str, List[str], float]]:\n",
    "    population.append((''.join(child1), child1, 0))\n",
    "    population.append((''.join(child2), child2, 0))\n",
    "    return population"
   ]
  },
  {
   "cell_type": "code",
   "execution_count": 18,
   "metadata": {},
   "outputs": [],
   "source": [
    "# assertions/unit tests\n",
    "population = []\n",
    "new_pop = add_children(list(\"abc\"), list(\"def\"), population)\n",
    "assert new_pop == [(\"abc\", list(\"abc\"), 0), (\"def\", list(\"def\"), 0)]\n",
    "assert new_pop == population\n",
    "\n",
    "new_pop = add_children(list(\"abc\"), [], population)\n",
    "assert new_pop == [('abc', ['a', 'b', 'c'], 0), \n",
    "                   ('def', ['d', 'e', 'f'], 0), \n",
    "                   ('abc', ['a', 'b', 'c'], 0), \n",
    "                   ('', [], 0)]"
   ]
  },
  {
   "cell_type": "markdown",
   "metadata": {},
   "source": [
    "<a id=\"genetic_algorithm\"></a>\n",
    "## genetic_algorithm\n",
    "\n",
    "`genetic_algorithm` takes a dictionary of parameters (`params`), an `alphabet` of symbols, and an `objective` function and returns the best individual that matches the `target` string. The function generates a list of `N` new individuals (all of the same length as `target`) and iterates on this `population` for `limit` generations.  At each iteration, the current generation is evaluated, bred, and passed on. Once every 10 generations, the current best individual of that generation will be printed. As mentioned above, the individuals in the population are represented as `Tuple[str, List[str], float]`, with the tuple representing (phenotype, genotype, fitness).\n",
    "\n",
    "The genetic algorithm is meant to mimic genetics/evolution found in nature - the concept of \"survival of the fittest\" is a key portion of how the genetic algorithm reaches the goal. By breeding only the \"most fit\" individuals (which is determined by the objective / fitness function in `objective` and `evaluate`), the function will converge on the `target` after a finite amount of time. In this implementation, the function uses a population size of `N = 200` and a limit of `limit = 200` generations, with probabilities of mutation and crossover of `pm = 0.9, pc = 0.05` respectively. Finally, in the tournament selection for picking parents, the `tournament_size` is set to 7. These parameters have been found to converge to the target very often (> 90% of the time). **Uses**: [generate_random_populations](#generate_random_populations), [evaluate](#evaluate), [pick_parents](#pick_parents), [reproduce](#reproduce), [add_children](#add_children), [curr_and_max_best](#curr_and_max_best)"
   ]
  },
  {
   "cell_type": "code",
   "execution_count": 19,
   "metadata": {},
   "outputs": [],
   "source": [
    "def genetic_algorithm(params: Dict[Any, Any], alphabet: str, objective: Callable) -> Tuple[str, List[str], float]:\n",
    "    population = generate_random_populations(params[\"N\"], len(params[\"target\"]), alphabet)\n",
    "    generations, total_best = 0, ()\n",
    "    while generations < params[\"limit\"]:\n",
    "        population = evaluate(objective, params[\"target\"], population)\n",
    "        next_population = []\n",
    "        for n in range(params[\"N\"] // 2):\n",
    "            (parent1, parent2) = pick_parents(population, params[\"tourn_size\"])\n",
    "            (child1, child2) = reproduce(params[\"pm\"], params[\"pc\"], parent1, parent2, alphabet)\n",
    "            next_population = add_children(child1, child2, next_population)\n",
    "        population = evaluate(objective, params[\"target\"], next_population)\n",
    "        generations += 1\n",
    "        (total_best, gen_best) = curr_and_max_best(population, total_best)\n",
    "        if generations % 10 == 0 and generations:\n",
    "            print(\"Best individual of generation\", generations, \" :\", gen_best)   \n",
    "    return total_best"
   ]
  },
  {
   "cell_type": "markdown",
   "metadata": {},
   "source": [
    "## Problem 1\n",
    "\n",
    "The target is the string \"this is so much fun\".\n",
    "The challenge, aside from implementing the basic algorithm, is deriving a fitness function based on \"b\" - \"p\" (for example).\n",
    "The fitness function should come up with a fitness score based on element to element comparisons between target v. phenotype."
   ]
  },
  {
   "cell_type": "code",
   "execution_count": 20,
   "metadata": {},
   "outputs": [],
   "source": [
    "target1 = \"this is so much fun\""
   ]
  },
  {
   "cell_type": "markdown",
   "metadata": {},
   "source": [
    "<a id=\"objective_1\"></a>\n",
    "## objective_1\n",
    "\n",
    "`objective_1` measures the ASCII string-difference between the `target` and the given `phenotype` character-by-character and returns the sum of the differences. The objective function is inherently a minimization function (the larget the ASCII score, the worse the string is in terms of fitness). The `evaluate` function converts this to a maximization problem for use in the `genetic_algorithm`. This objective allows the `genetic_algorithm` to match strings for Problem 1's specifications. **Used by**: [evaluate](#evaluate), [genetic_algorithm](#genetic_algorithm).\n",
    "\n",
    "* **target**: `target` string to which the objective measures fitness\n",
    "* **pheno**: the current phenotype that is being scored\n",
    "\n",
    "**returns** int: the ASCII score computed character-by-character."
   ]
  },
  {
   "cell_type": "code",
   "execution_count": 21,
   "metadata": {},
   "outputs": [],
   "source": [
    "def objective_1(target: str, pheno: Tuple[str, List[str], float]) -> int:\n",
    "    score = 0\n",
    "    for i, c_tgt in enumerate(target):\n",
    "        score += abs(ord(c_tgt) - ord(pheno[1][i]))\n",
    "    return score"
   ]
  },
  {
   "cell_type": "code",
   "execution_count": 22,
   "metadata": {},
   "outputs": [],
   "source": [
    "# assertions/unit tests\n",
    "target = \"this is so much fun\"\n",
    "actual_score = objective_1(target, (target, list(target), 0))\n",
    "assert actual_score == 0\n",
    "\n",
    "test_pheno = \"this is aa much fun\"\n",
    "actual_score = objective_1(target, (test_pheno, list(test_pheno), 0))\n",
    "assert actual_score == 32\n",
    "\n",
    "actual_score = objective_1(\"\", (\"\", [], 0))\n",
    "assert actual_score == 0"
   ]
  },
  {
   "cell_type": "code",
   "execution_count": 23,
   "metadata": {},
   "outputs": [],
   "source": [
    "# set up if you need it.\n",
    "params = {\"N\": 200, \"limit\": 200, \"target\": target1, \"pc\": 0.90, \"pm\": 0.05, \"tourn_size\": 7}"
   ]
  },
  {
   "cell_type": "code",
   "execution_count": 24,
   "metadata": {},
   "outputs": [
    {
     "name": "stdout",
     "output_type": "stream",
     "text": [
      "Best individual of generation 10  : ('sjmq gp nm ozag juo', ['s', 'j', 'm', 'q', ' ', 'g', 'p', ' ', 'n', 'm', ' ', 'o', 'z', 'a', 'g', ' ', 'j', 'u', 'o'], 0.02702702702702703)\n",
      "Best individual of generation 20  : ('sggq gt nm nzcg guo', ['s', 'g', 'g', 'q', ' ', 'g', 't', ' ', 'n', 'm', ' ', 'n', 'z', 'c', 'g', ' ', 'g', 'u', 'o'], 0.038461538461538464)\n",
      "Best individual of generation 30  : ('sggt gt sn nwcg guo', ['s', 'g', 'g', 't', ' ', 'g', 't', ' ', 's', 'n', ' ', 'n', 'w', 'c', 'g', ' ', 'g', 'u', 'o'], 0.0625)\n",
      "Best individual of generation 40  : ('sgit gt sn nwcg guo', ['s', 'g', 'i', 't', ' ', 'g', 't', ' ', 's', 'n', ' ', 'n', 'w', 'c', 'g', ' ', 'g', 'u', 'o'], 0.07142857142857142)\n",
      "Best individual of generation 50  : ('sgit jt sn nwcg guo', ['s', 'g', 'i', 't', ' ', 'j', 't', ' ', 's', 'n', ' ', 'n', 'w', 'c', 'g', ' ', 'g', 'u', 'o'], 0.07692307692307693)\n",
      "Best individual of generation 60  : ('tgis jt sn ntcg guo', ['t', 'g', 'i', 's', ' ', 'j', 't', ' ', 's', 'n', ' ', 'n', 't', 'c', 'g', ' ', 'g', 'u', 'o'], 0.1)\n",
      "Best individual of generation 70  : ('tgis js sn nucg guo', ['t', 'g', 'i', 's', ' ', 'j', 's', ' ', 's', 'n', ' ', 'n', 'u', 'c', 'g', ' ', 'g', 'u', 'o'], 0.125)\n",
      "Best individual of generation 80  : ('this js sn nucg guo', ['t', 'h', 'i', 's', ' ', 'j', 's', ' ', 's', 'n', ' ', 'n', 'u', 'c', 'g', ' ', 'g', 'u', 'o'], 0.14285714285714285)\n",
      "Best individual of generation 90  : ('this js sn nucg guo', ['t', 'h', 'i', 's', ' ', 'j', 's', ' ', 's', 'n', ' ', 'n', 'u', 'c', 'g', ' ', 'g', 'u', 'o'], 0.14285714285714285)\n",
      "Best individual of generation 100  : ('this js sn nuch gun', ['t', 'h', 'i', 's', ' ', 'j', 's', ' ', 's', 'n', ' ', 'n', 'u', 'c', 'h', ' ', 'g', 'u', 'n'], 0.2)\n",
      "Best individual of generation 110  : ('this js sn nuch gun', ['t', 'h', 'i', 's', ' ', 'j', 's', ' ', 's', 'n', ' ', 'n', 'u', 'c', 'h', ' ', 'g', 'u', 'n'], 0.2)\n",
      "Best individual of generation 120  : ('this js sn nuch gun', ['t', 'h', 'i', 's', ' ', 'j', 's', ' ', 's', 'n', ' ', 'n', 'u', 'c', 'h', ' ', 'g', 'u', 'n'], 0.2)\n",
      "Best individual of generation 130  : ('this is sn nuch gun', ['t', 'h', 'i', 's', ' ', 'i', 's', ' ', 's', 'n', ' ', 'n', 'u', 'c', 'h', ' ', 'g', 'u', 'n'], 0.25)\n",
      "Best individual of generation 140  : ('this is sn nuch gun', ['t', 'h', 'i', 's', ' ', 'i', 's', ' ', 's', 'n', ' ', 'n', 'u', 'c', 'h', ' ', 'g', 'u', 'n'], 0.25)\n",
      "Best individual of generation 150  : ('this is sn nuch gun', ['t', 'h', 'i', 's', ' ', 'i', 's', ' ', 's', 'n', ' ', 'n', 'u', 'c', 'h', ' ', 'g', 'u', 'n'], 0.25)\n",
      "Best individual of generation 160  : ('this is sn nuch gun', ['t', 'h', 'i', 's', ' ', 'i', 's', ' ', 's', 'n', ' ', 'n', 'u', 'c', 'h', ' ', 'g', 'u', 'n'], 0.25)\n",
      "Best individual of generation 170  : ('this is sn nuch gun', ['t', 'h', 'i', 's', ' ', 'i', 's', ' ', 's', 'n', ' ', 'n', 'u', 'c', 'h', ' ', 'g', 'u', 'n'], 0.25)\n",
      "Best individual of generation 180  : ('this is so nuch fun', ['t', 'h', 'i', 's', ' ', 'i', 's', ' ', 's', 'o', ' ', 'n', 'u', 'c', 'h', ' ', 'f', 'u', 'n'], 0.5)\n",
      "Best individual of generation 190  : ('this is so much fun', ['t', 'h', 'i', 's', ' ', 'i', 's', ' ', 's', 'o', ' ', 'm', 'u', 'c', 'h', ' ', 'f', 'u', 'n'], 1.0)\n",
      "Best individual of generation 200  : ('this is so much fun', ['t', 'h', 'i', 's', ' ', 'i', 's', ' ', 's', 'o', ' ', 'm', 'u', 'c', 'h', ' ', 'f', 'u', 'n'], 1.0)\n"
     ]
    }
   ],
   "source": [
    "result1 = genetic_algorithm(params, ALPHABET, objective_1) # do what you need to do for your implementation but don't change the lines above or below."
   ]
  },
  {
   "cell_type": "code",
   "execution_count": 25,
   "metadata": {},
   "outputs": [
    {
     "name": "stdout",
     "output_type": "stream",
     "text": [
      "('this is so much fun',\n",
      " ['t', 'h', 'i', 's', ' ', 'i', 's', ' ', 's', 'o', ' ', 'm', 'u', 'c', 'h',\n",
      "  ' ', 'f', 'u', 'n'],\n",
      " 1.0)\n"
     ]
    }
   ],
   "source": [
    "pprint(result1, compact=True)"
   ]
  },
  {
   "cell_type": "markdown",
   "metadata": {},
   "source": [
    "## Problem 2\n",
    "\n",
    "You should have working code now.\n",
    "The goal here is to think a bit more about fitness functions.\n",
    "The target string is now, 'nuf hcum os si siht'.\n",
    "This is obviously target #1 but reversed.\n",
    "If we just wanted to match the string, this would be trivial.\n",
    "Instead, this problem, we want to \"decode\" the string so that the best individual displays the target forwards.\n",
    "In order to do this, you'll need to come up with a fitness function that measures how successful candidates are towards this goal.\n",
    "The constraint is that you may not perform any global operations on the target or individuals.\n",
    "Your fitness function must still compare a single gene against a single gene.\n",
    "Your solution will likely not be Pythonic but use indexing.\n",
    "That's ok.\n",
    "\n",
    "**NOTE FOR ME: just measure difference between character at i and -i instead of i vs i.**\n",
    "<div style=\"background: lemonchiffon; margin:20px; padding: 20px;\">\n",
    "    <strong>Important</strong>\n",
    "    <p>\n",
    "        You may not reverse an entire string (either target or candidate) at any time.\n",
    "        Everything must be a computation of one gene against one gene (one letter against one letter).\n",
    "        Failure to follow these directions will result in 0 points for the problem.\n",
    "    </p>\n",
    "</div>\n",
    "\n",
    "The best individual in the population is the one who expresses this string *forwards*."
   ]
  },
  {
   "cell_type": "code",
   "execution_count": 26,
   "metadata": {},
   "outputs": [],
   "source": [
    "target2 = \"nuf hcum os si siht\""
   ]
  },
  {
   "cell_type": "markdown",
   "metadata": {},
   "source": [
    "<a id=\"objective_2\"></a>\n",
    "## objective_2\n",
    "\n",
    "`objective_2` measures the ASCII string-difference between the `target` and the given `phenotype` character-by-character and returns the sum of the differences. This objective allows the `genetic_algorithm` to match strings for Problem 2's specifications. Here, the problem is to match to the `target` in reverse order, so each character is compared to its complement (the index computed from the end rather than the start). **Used by**: [evaluate](#evaluate), [genetic_algorithm](#genetic_algorithm).\n",
    "\n",
    "* **target**: `target` string to which the objective measures fitness\n",
    "* **pheno**: the current phenotype that is being scored\n",
    "\n",
    "**returns** int: the ASCII score computed character-by-character."
   ]
  },
  {
   "cell_type": "code",
   "execution_count": 27,
   "metadata": {},
   "outputs": [],
   "source": [
    "def objective_2(target: str, pheno: Tuple[str, List[str], float]) -> int:\n",
    "    score, str_len = 0, len(pheno[1]) - 1\n",
    "    for i, c_tgt in enumerate(target):\n",
    "        score += abs(ord(c_tgt) - ord(pheno[1][str_len-i]))\n",
    "    return score"
   ]
  },
  {
   "cell_type": "code",
   "execution_count": 28,
   "metadata": {},
   "outputs": [],
   "source": [
    "# assertions/unit tests\n",
    "target = \"this is so much fun\"\n",
    "pheno = \"nuf hcum os si siht\"\n",
    "actual_score = objective_2(target, (pheno, list(pheno), 0))\n",
    "assert actual_score == 0\n",
    "\n",
    "actual_score = objective_2(target, (\"nuf hcum    si siht\", list(\"nuf hcum    si siht\"), 0))\n",
    "assert actual_score == 162\n",
    "\n",
    "actual_score = objective_2(\"\", (\"\", (), 0))\n",
    "assert actual_score == 0"
   ]
  },
  {
   "cell_type": "code",
   "execution_count": 29,
   "metadata": {},
   "outputs": [],
   "source": [
    "# set up if you need it.\n",
    "params = {\"N\": 200, \"limit\": 200, \"target\": target2, \"pc\": 0.90, \"pm\": 0.05, \"tourn_size\": 7}"
   ]
  },
  {
   "cell_type": "code",
   "execution_count": 30,
   "metadata": {},
   "outputs": [
    {
     "name": "stdout",
     "output_type": "stream",
     "text": [
      "Best individual of generation 10  : ('ykis lt xi iqgg ftt', ['y', 'k', 'i', 's', ' ', 'l', 't', ' ', 'x', 'i', ' ', 'i', 'q', 'g', 'g', ' ', 'f', 't', 't'], 0.022727272727272728)\n",
      "Best individual of generation 20  : ('seis kt xl iuag ftt', ['s', 'e', 'i', 's', ' ', 'k', 't', ' ', 'x', 'l', ' ', 'i', 'u', 'a', 'g', ' ', 'f', 't', 't'], 0.03333333333333333)\n",
      "Best individual of generation 30  : ('shis kt qm muag fun', ['s', 'h', 'i', 's', ' ', 'k', 't', ' ', 'q', 'm', ' ', 'm', 'u', 'a', 'g', ' ', 'f', 'u', 'n'], 0.08333333333333333)\n",
      "Best individual of generation 40  : ('shis it qm muag fun', ['s', 'h', 'i', 's', ' ', 'i', 't', ' ', 'q', 'm', ' ', 'm', 'u', 'a', 'g', ' ', 'f', 'u', 'n'], 0.1)\n",
      "Best individual of generation 50  : ('shis is qo muag fun', ['s', 'h', 'i', 's', ' ', 'i', 's', ' ', 'q', 'o', ' ', 'm', 'u', 'a', 'g', ' ', 'f', 'u', 'n'], 0.14285714285714285)\n",
      "Best individual of generation 60  : ('shis is qo muag fun', ['s', 'h', 'i', 's', ' ', 'i', 's', ' ', 'q', 'o', ' ', 'm', 'u', 'a', 'g', ' ', 'f', 'u', 'n'], 0.14285714285714285)\n",
      "Best individual of generation 70  : ('shis is qo mucg fun', ['s', 'h', 'i', 's', ' ', 'i', 's', ' ', 'q', 'o', ' ', 'm', 'u', 'c', 'g', ' ', 'f', 'u', 'n'], 0.2)\n",
      "Best individual of generation 80  : ('shis is so mucg fun', ['s', 'h', 'i', 's', ' ', 'i', 's', ' ', 's', 'o', ' ', 'm', 'u', 'c', 'g', ' ', 'f', 'u', 'n'], 0.3333333333333333)\n",
      "Best individual of generation 90  : ('shis is so mucg fun', ['s', 'h', 'i', 's', ' ', 'i', 's', ' ', 's', 'o', ' ', 'm', 'u', 'c', 'g', ' ', 'f', 'u', 'n'], 0.3333333333333333)\n",
      "Best individual of generation 100  : ('shis is so mucg fun', ['s', 'h', 'i', 's', ' ', 'i', 's', ' ', 's', 'o', ' ', 'm', 'u', 'c', 'g', ' ', 'f', 'u', 'n'], 0.3333333333333333)\n",
      "Best individual of generation 110  : ('shis is so mucg fun', ['s', 'h', 'i', 's', ' ', 'i', 's', ' ', 's', 'o', ' ', 'm', 'u', 'c', 'g', ' ', 'f', 'u', 'n'], 0.3333333333333333)\n",
      "Best individual of generation 120  : ('shis is so mucg fun', ['s', 'h', 'i', 's', ' ', 'i', 's', ' ', 's', 'o', ' ', 'm', 'u', 'c', 'g', ' ', 'f', 'u', 'n'], 0.3333333333333333)\n",
      "Best individual of generation 130  : ('this is so mucg fun', ['t', 'h', 'i', 's', ' ', 'i', 's', ' ', 's', 'o', ' ', 'm', 'u', 'c', 'g', ' ', 'f', 'u', 'n'], 0.5)\n",
      "Best individual of generation 140  : ('this is so much fun', ['t', 'h', 'i', 's', ' ', 'i', 's', ' ', 's', 'o', ' ', 'm', 'u', 'c', 'h', ' ', 'f', 'u', 'n'], 1.0)\n",
      "Best individual of generation 150  : ('this is so much fun', ['t', 'h', 'i', 's', ' ', 'i', 's', ' ', 's', 'o', ' ', 'm', 'u', 'c', 'h', ' ', 'f', 'u', 'n'], 1.0)\n",
      "Best individual of generation 160  : ('this is so much fun', ['t', 'h', 'i', 's', ' ', 'i', 's', ' ', 's', 'o', ' ', 'm', 'u', 'c', 'h', ' ', 'f', 'u', 'n'], 1.0)\n",
      "Best individual of generation 170  : ('this is so much fun', ['t', 'h', 'i', 's', ' ', 'i', 's', ' ', 's', 'o', ' ', 'm', 'u', 'c', 'h', ' ', 'f', 'u', 'n'], 1.0)\n",
      "Best individual of generation 180  : ('this is so much fun', ['t', 'h', 'i', 's', ' ', 'i', 's', ' ', 's', 'o', ' ', 'm', 'u', 'c', 'h', ' ', 'f', 'u', 'n'], 1.0)\n",
      "Best individual of generation 190  : ('this is so much fun', ['t', 'h', 'i', 's', ' ', 'i', 's', ' ', 's', 'o', ' ', 'm', 'u', 'c', 'h', ' ', 'f', 'u', 'n'], 1.0)\n",
      "Best individual of generation 200  : ('this is so much fun', ['t', 'h', 'i', 's', ' ', 'i', 's', ' ', 's', 'o', ' ', 'm', 'u', 'c', 'h', ' ', 'f', 'u', 'n'], 1.0)\n"
     ]
    }
   ],
   "source": [
    "result2 = genetic_algorithm(params, ALPHABET, objective_2) # do what you need to do for your implementation but don't change the lines above or below."
   ]
  },
  {
   "cell_type": "code",
   "execution_count": 31,
   "metadata": {},
   "outputs": [
    {
     "name": "stdout",
     "output_type": "stream",
     "text": [
      "('this is so much fun',\n",
      " ['t', 'h', 'i', 's', ' ', 'i', 's', ' ', 's', 'o', ' ', 'm', 'u', 'c', 'h',\n",
      "  ' ', 'f', 'u', 'n'],\n",
      " 1.0)\n"
     ]
    }
   ],
   "source": [
    "pprint(result2, compact=True)"
   ]
  },
  {
   "cell_type": "markdown",
   "metadata": {},
   "source": [
    "## Problem 3\n",
    "\n",
    "This is a variation on the theme of Problem 2.\n",
    "The Caeser Cypher replaces each letter of a string with the letter 13 characters down alphabet (rotating from \"z\" back to \"a\" as needed).\n",
    "This is also known as ROT13 (for \"rotate 13\").\n",
    "Latin did not have spaces (and the space is not continguous with the letters a-z) so we'll remove them from our alphabet.\n",
    "Again, the goal is to derive a fitness function that compares a single gene against a single gene, without global transformations.\n",
    "This fitness function assigns higher scores to individuals that correctly decode the target.\n",
    "\n",
    "**NOTE FOR ME: compare i to i but transform each character to s[i] + 13**\n",
    "<div style=\"background: lemonchiffon; margin:20px; padding: 20px;\">\n",
    "    <strong>Important</strong>\n",
    "    <p>\n",
    "        You may not apply ROT13 to an entire string (either target or candidate) at any time.\n",
    "        Everything must be a computation of one gene against one gene.\n",
    "        Failure to follow these directions will result in 0 points for the problem.\n",
    "    </p>\n",
    "</div>\n",
    "\n",
    "The best individual will express the target *decoded*."
   ]
  },
  {
   "cell_type": "code",
   "execution_count": 32,
   "metadata": {},
   "outputs": [],
   "source": [
    "ALPHABET3 = \"abcdefghijklmnopqrstuvwxyz\""
   ]
  },
  {
   "cell_type": "code",
   "execution_count": 33,
   "metadata": {},
   "outputs": [],
   "source": [
    "target3 = \"guvfvffbzhpusha\""
   ]
  },
  {
   "cell_type": "markdown",
   "metadata": {},
   "source": [
    "<a id=\"objective_3\"></a>\n",
    "## objective_3\n",
    "\n",
    "`objective_3` measures the ASCII string-difference between the `target` and the given `phenotype` character-by-character and returns the sum of the differences. This objective allows the `genetic_algorithm` to match strings for Problem 3's specifications. In Problem 3, the goal is to match to the decoded `target` using the ROT13 Caeser Cypher. To compute the score, each character in `target` is decoded by shifting the character 13 down the alphabet (rotating after it hits the end), and then converted to an ASCII value. **Used by**: [evaluate](#evaluate), [genetic_algorithm](#genetic_algorithm).\n",
    "\n",
    "* **target**: `target` string to which the objective measures fitness\n",
    "* **pheno**: the current phenotype that is being scored\n",
    "\n",
    "**returns** int: the ASCII score computed character-by-character."
   ]
  },
  {
   "cell_type": "code",
   "execution_count": 34,
   "metadata": {},
   "outputs": [],
   "source": [
    "def objective_3(target: str, pheno: Tuple[str, List[str], float]) -> int:\n",
    "    score = 0\n",
    "    for i, c_tgt in enumerate(target):\n",
    "        decoded_tgt = ((ord(c_tgt) + 13 - 97) % 26) + 97\n",
    "        score += abs(decoded_tgt - ord(pheno[1][i]))\n",
    "    return score"
   ]
  },
  {
   "cell_type": "code",
   "execution_count": 35,
   "metadata": {},
   "outputs": [],
   "source": [
    "# assertions/unit tests\n",
    "target = \"guvfvffbzhpusha\"\n",
    "pheno = \"thisissomuchfun\"\n",
    "actual_score = objective_3(target, (pheno, list(pheno), 0))\n",
    "assert actual_score == 0\n",
    "\n",
    "actual_score = objective_3(target, (\"thisisaamuchfun\", list(\"thisisaamuchfun\"), 0))\n",
    "assert actual_score == 32\n",
    "\n",
    "actual_score = objective_3(\"\", (\"\", (), 0))\n",
    "assert actual_score == 0"
   ]
  },
  {
   "cell_type": "code",
   "execution_count": 36,
   "metadata": {},
   "outputs": [],
   "source": [
    "# set up if you need it\n",
    "params = {\"N\": 200, \"limit\": 200, \"target\": target3, \"pc\": 0.90, \"pm\": 0.05, \"tourn_size\": 7}"
   ]
  },
  {
   "cell_type": "code",
   "execution_count": 37,
   "metadata": {},
   "outputs": [
    {
     "name": "stdout",
     "output_type": "stream",
     "text": [
      "Best individual of generation 10  : ('thjtfstpntbkeun', ['t', 'h', 'j', 't', 'f', 's', 't', 'p', 'n', 't', 'b', 'k', 'e', 'u', 'n'], 0.06666666666666667)\n",
      "Best individual of generation 20  : ('thjtgsspmtbfeun', ['t', 'h', 'j', 't', 'g', 's', 's', 'p', 'm', 't', 'b', 'f', 'e', 'u', 'n'], 0.09090909090909091)\n",
      "Best individual of generation 30  : ('thithsspmtcheun', ['t', 'h', 'i', 't', 'h', 's', 's', 'p', 'm', 't', 'c', 'h', 'e', 'u', 'n'], 0.16666666666666666)\n",
      "Best individual of generation 40  : ('thithsspmtchfun', ['t', 'h', 'i', 't', 'h', 's', 's', 'p', 'm', 't', 'c', 'h', 'f', 'u', 'n'], 0.2)\n",
      "Best individual of generation 50  : ('thithssomtchfun', ['t', 'h', 'i', 't', 'h', 's', 's', 'o', 'm', 't', 'c', 'h', 'f', 'u', 'n'], 0.25)\n",
      "Best individual of generation 60  : ('thithssomtchfun', ['t', 'h', 'i', 't', 'h', 's', 's', 'o', 'm', 't', 'c', 'h', 'f', 'u', 'n'], 0.25)\n",
      "Best individual of generation 70  : ('thishssomtchfun', ['t', 'h', 'i', 's', 'h', 's', 's', 'o', 'm', 't', 'c', 'h', 'f', 'u', 'n'], 0.3333333333333333)\n",
      "Best individual of generation 80  : ('thishssomtchfun', ['t', 'h', 'i', 's', 'h', 's', 's', 'o', 'm', 't', 'c', 'h', 'f', 'u', 'n'], 0.3333333333333333)\n",
      "Best individual of generation 90  : ('thishssomuchfun', ['t', 'h', 'i', 's', 'h', 's', 's', 'o', 'm', 'u', 'c', 'h', 'f', 'u', 'n'], 0.5)\n",
      "Best individual of generation 100  : ('thishssomuchfun', ['t', 'h', 'i', 's', 'h', 's', 's', 'o', 'm', 'u', 'c', 'h', 'f', 'u', 'n'], 0.5)\n",
      "Best individual of generation 110  : ('thishssomuchfun', ['t', 'h', 'i', 's', 'h', 's', 's', 'o', 'm', 'u', 'c', 'h', 'f', 'u', 'n'], 0.5)\n",
      "Best individual of generation 120  : ('thisissomuchfun', ['t', 'h', 'i', 's', 'i', 's', 's', 'o', 'm', 'u', 'c', 'h', 'f', 'u', 'n'], 1.0)\n",
      "Best individual of generation 130  : ('thisissomuchfun', ['t', 'h', 'i', 's', 'i', 's', 's', 'o', 'm', 'u', 'c', 'h', 'f', 'u', 'n'], 1.0)\n",
      "Best individual of generation 140  : ('thisissomuchfun', ['t', 'h', 'i', 's', 'i', 's', 's', 'o', 'm', 'u', 'c', 'h', 'f', 'u', 'n'], 1.0)\n",
      "Best individual of generation 150  : ('thisissomuchfun', ['t', 'h', 'i', 's', 'i', 's', 's', 'o', 'm', 'u', 'c', 'h', 'f', 'u', 'n'], 1.0)\n",
      "Best individual of generation 160  : ('thisissomuchfun', ['t', 'h', 'i', 's', 'i', 's', 's', 'o', 'm', 'u', 'c', 'h', 'f', 'u', 'n'], 1.0)\n",
      "Best individual of generation 170  : ('thisissomuchfun', ['t', 'h', 'i', 's', 'i', 's', 's', 'o', 'm', 'u', 'c', 'h', 'f', 'u', 'n'], 1.0)\n",
      "Best individual of generation 180  : ('thisissomuchfun', ['t', 'h', 'i', 's', 'i', 's', 's', 'o', 'm', 'u', 'c', 'h', 'f', 'u', 'n'], 1.0)\n",
      "Best individual of generation 190  : ('thisissomuchfun', ['t', 'h', 'i', 's', 'i', 's', 's', 'o', 'm', 'u', 'c', 'h', 'f', 'u', 'n'], 1.0)\n",
      "Best individual of generation 200  : ('thisissomuchfun', ['t', 'h', 'i', 's', 'i', 's', 's', 'o', 'm', 'u', 'c', 'h', 'f', 'u', 'n'], 1.0)\n"
     ]
    }
   ],
   "source": [
    "result3 = genetic_algorithm(params, ALPHABET3, objective_3) # do what you need to do for your implementation but don't change the lines above or below."
   ]
  },
  {
   "cell_type": "code",
   "execution_count": 38,
   "metadata": {},
   "outputs": [
    {
     "name": "stdout",
     "output_type": "stream",
     "text": [
      "('thisissomuchfun',\n",
      " ['t', 'h', 'i', 's', 'i', 's', 's', 'o', 'm', 'u', 'c', 'h', 'f', 'u', 'n'],\n",
      " 1.0)\n"
     ]
    }
   ],
   "source": [
    "pprint(result3, compact=True)"
   ]
  },
  {
   "cell_type": "markdown",
   "metadata": {},
   "source": [
    "## Problem 4\n",
    "\n",
    "There is no code for this problem.\n",
    "\n",
    "In Problem 3, we assumed we knew what the shift was in ROT-13.\n",
    "What if we didn't?\n",
    "Describe how you might solve that problem including a description of the solution encoding (chromosome and interpretation) and fitness function. Assume we can add spaces into the message."
   ]
  },
  {
   "cell_type": "markdown",
   "metadata": {},
   "source": [
    "In the case where the shift-value of the cypher is unknown, the simplest solution would be to run the genetic algorithm over and over with varying objective functions. See the below code for the objective function:"
   ]
  },
  {
   "cell_type": "code",
   "execution_count": 39,
   "metadata": {},
   "outputs": [],
   "source": [
    "def objective_4(target: str, pheno: Tuple[str, List[str], float], shift: int) -> int:\n",
    "    score = 0\n",
    "    for i, c_tgt in enumerate(target):\n",
    "        decoded_tgt = ((ord(c_tgt) + shift - 97) % 26) + 97\n",
    "        score += abs(decoded_tgt - ord(pheno[1][i]))\n",
    "    return score"
   ]
  },
  {
   "cell_type": "markdown",
   "metadata": {},
   "source": [
    "Here, we can imagine that we add another parameter to the function, `shift`, which will control how far a character is shifted in the encode/decode of the cypher (1 <= `shift` <= 26, including spaces). Running the genetic algorithm in a loop with increasing `shift` values, and keeping track of the absolute best fit would result in us being able to figure out what the \"most likely\" cypher shift would be. \n",
    "\n",
    "Additionally, we could re-encode the space character to an ASCII value of 96 to avoid issues with shifting - if we encounter a space, make sure we use 96 instead of 32 as the ASCII value in the decoding (and make sure we subtract/add by 96 in the decoding, as well as use `mod 27`). Then, 'z' would wrap to the space character, and we would be able to properly encode/decode every string.\n",
    "\n",
    "The only other change we would have to make would be to run the genetic algorithm in a loop, add a global maximum tracker in the loop along with the shift value it used, and change the objective function prototype to include `shift` - no other changes to the phenotype/genotype would be required. By the end of the loop, we should have a best shift value (which would identify the most accurate cypher shift) as well as the \"most correct\" string decoding.\n",
    "\n",
    "Although this is brute-force and somewhat inefficient, it would be a guaranteed way of finding the best performing cypher shift (given a functioning genetic algorithm)."
   ]
  },
  {
   "cell_type": "markdown",
   "metadata": {},
   "source": [
    "## Challenge\n",
    "\n",
    "**You do not need to do this problem and it won't be graded if you do. It's just here if you want to push your understanding.**\n",
    "\n",
    "The original GA used binary encodings for everything.\n",
    "We're basically using a Base 27 encoding.\n",
    "You could, however, write a version of the algorithm that uses an 8 bit encoding for each letter (ignore spaces as they're a bit of a bother).\n",
    "That is, a 4 letter candidate looks like this:\n",
    "\n",
    "```\n",
    "0, 1, 1, 0, 1, 0, 0, 0, 0, 1, 1, 0, 0, 1, 0, 1, 0, 1, 1, 0, 1, 1, 0, 0, 0, 1, 1, 0, 1, 1, 0, 0, 0, 1, 1, 0, 1, 1, 1, 1\n",
    "```\n",
    "\n",
    "If you wrote your `genetic_algorithm` code general enough, with higher order functions, you should be able to implement it using bit strings instead of latin strings."
   ]
  },
  {
   "cell_type": "markdown",
   "metadata": {},
   "source": [
    "## Before You Submit...\n",
    "\n",
    "1. Did you provide output exactly as requested?\n",
    "2. Did you re-execute the entire notebook? (\"Restart Kernel and Rull All Cells...\")\n",
    "3. If you did not complete the assignment or had difficulty please explain what gave you the most difficulty in the Markdown cell below.\n",
    "4. Did you change the name of the file to `jhed_id.ipynb`?\n",
    "\n",
    "Do not submit any other files."
   ]
  },
  {
   "cell_type": "markdown",
   "metadata": {},
   "source": [
    "## Comments - Choice of N\n",
    "\n",
    "Although the professor mentioned we should be fine with values of `N = 100, limit = 200`, I found that when I ran the algorithm with those parameters, it would sometimes fail to converge to the final string in the number of generations provided. It would converge to the right answer about 80% of the time. However, when I increased the value of `N` to 200, the convergence rate was much higher (>90%). Therefore, I thought it would be best to choose the values that are a more \"guaranteed\" convergence rather than those that might not converge in time. Consequently, you might see that the outputs for the problems show a much earlier convergence than the limit - but the choice of `N` was made to allow for the algorithm to perform well over multiple iterations, not just a single run."
   ]
  }
 ],
 "metadata": {
  "kernelspec": {
   "display_name": "Python (en605645)",
   "language": "python",
   "name": "en605645"
  },
  "language_info": {
   "codemirror_mode": {
    "name": "ipython",
    "version": 3
   },
   "file_extension": ".py",
   "mimetype": "text/x-python",
   "name": "python",
   "nbconvert_exporter": "python",
   "pygments_lexer": "ipython3",
   "version": "3.11.7"
  },
  "toc": {
   "colors": {
    "hover_highlight": "#DAA520",
    "navigate_num": "#000000",
    "navigate_text": "#333333",
    "running_highlight": "#FF0000",
    "selected_highlight": "#FFD700",
    "sidebar_border": "#EEEEEE",
    "wrapper_background": "#FFFFFF"
   },
   "moveMenuLeft": true,
   "nav_menu": {
    "height": "120px",
    "width": "252px"
   },
   "navigate_menu": true,
   "number_sections": true,
   "sideBar": true,
   "threshold": 4,
   "toc_cell": false,
   "toc_section_display": "block",
   "toc_window_display": false,
   "widenNotebook": false
  }
 },
 "nbformat": 4,
 "nbformat_minor": 4
}
